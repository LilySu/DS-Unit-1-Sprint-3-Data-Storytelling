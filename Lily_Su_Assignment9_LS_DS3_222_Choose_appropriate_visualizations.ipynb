{
  "nbformat": 4,
  "nbformat_minor": 0,
  "metadata": {
    "colab": {
      "name": "Lily_Su_Assignment9_LS_DS3_222_Choose_appropriate_visualizations.ipynb",
      "version": "0.3.2",
      "provenance": [],
      "collapsed_sections": [
        "Cn-xMBPcljbc"
      ],
      "include_colab_link": true
    },
    "kernelspec": {
      "display_name": "Python 3",
      "language": "python",
      "name": "python3"
    }
  },
  "cells": [
    {
      "cell_type": "markdown",
      "metadata": {
        "id": "view-in-github",
        "colab_type": "text"
      },
      "source": [
        "<a href=\"https://colab.research.google.com/github/LilySu/DS-Unit-1-Sprint-3-Data-Storytelling/blob/master/Lily_Su_Assignment9_LS_DS3_222_Choose_appropriate_visualizations.ipynb\" target=\"_parent\"><img src=\"https://colab.research.google.com/assets/colab-badge.svg\" alt=\"Open In Colab\"/></a>"
      ]
    },
    {
      "metadata": {
        "colab_type": "text",
        "id": "1nwMfulDljaS"
      },
      "cell_type": "markdown",
      "source": [
        "_Lambda School Data Science_\n",
        "# Choose appropriate visualizations\n",
        "\n",
        "Objectives\n",
        "- fix misleading visualizations\n",
        "- use Seaborn to visualize distributions and relationships with continuous and discrete variables\n",
        "\n",
        "Links\n",
        "- [How to Spot Visualization Lies](https://flowingdata.com/2017/02/09/how-to-spot-visualization-lies/)\n",
        "- [Visual Vocabulary - Vega Edition](http://ft.com/vocabulary)\n",
        "- [Choosing a Python Visualization Tool flowchart](http://pbpython.com/python-vis-flowchart.html)\n",
        "- [Searborn example gallery](http://seaborn.pydata.org/examples/index.html) & [tutorial](http://seaborn.pydata.org/tutorial.html)\n"
      ]
    },
    {
      "metadata": {
        "colab_type": "text",
        "id": "yp50E_pnljaV"
      },
      "cell_type": "markdown",
      "source": [
        "# Upgrade Seaborn\n",
        "\n",
        "Make sure you have at least version 0.9.0.\n",
        "\n",
        "On Colab, go to **Restart runtime** after you run the `pip` command."
      ]
    },
    {
      "metadata": {
        "id": "HLd3GL6v9-aU",
        "colab_type": "text"
      },
      "cell_type": "markdown",
      "source": [
        ""
      ]
    },
    {
      "metadata": {
        "colab_type": "code",
        "id": "MJAy4kPfljaV",
        "outputId": "77a41104-e4a8-426d-87e9-524308d2b11f",
        "colab": {
          "base_uri": "https://localhost:8080/",
          "height": 248
        }
      },
      "cell_type": "code",
      "source": [
        "!pip install --upgrade seaborn"
      ],
      "execution_count": 21,
      "outputs": [
        {
          "output_type": "stream",
          "text": [
            "Requirement already up-to-date: seaborn in /usr/local/lib/python3.6/dist-packages (0.9.0)\n",
            "Requirement already satisfied, skipping upgrade: scipy>=0.14.0 in /usr/local/lib/python3.6/dist-packages (from seaborn) (1.1.0)\n",
            "Requirement already satisfied, skipping upgrade: numpy>=1.9.3 in /usr/local/lib/python3.6/dist-packages (from seaborn) (1.14.6)\n",
            "Requirement already satisfied, skipping upgrade: pandas>=0.15.2 in /usr/local/lib/python3.6/dist-packages (from seaborn) (0.22.0)\n",
            "Requirement already satisfied, skipping upgrade: matplotlib>=1.4.3 in /usr/local/lib/python3.6/dist-packages (from seaborn) (3.0.3)\n",
            "Requirement already satisfied, skipping upgrade: python-dateutil>=2 in /usr/local/lib/python3.6/dist-packages (from pandas>=0.15.2->seaborn) (2.5.3)\n",
            "Requirement already satisfied, skipping upgrade: pytz>=2011k in /usr/local/lib/python3.6/dist-packages (from pandas>=0.15.2->seaborn) (2018.9)\n",
            "Requirement already satisfied, skipping upgrade: kiwisolver>=1.0.1 in /usr/local/lib/python3.6/dist-packages (from matplotlib>=1.4.3->seaborn) (1.0.1)\n",
            "Requirement already satisfied, skipping upgrade: cycler>=0.10 in /usr/local/lib/python3.6/dist-packages (from matplotlib>=1.4.3->seaborn) (0.10.0)\n",
            "Requirement already satisfied, skipping upgrade: pyparsing!=2.0.4,!=2.1.2,!=2.1.6,>=2.0.1 in /usr/local/lib/python3.6/dist-packages (from matplotlib>=1.4.3->seaborn) (2.3.1)\n",
            "Requirement already satisfied, skipping upgrade: six>=1.5 in /usr/local/lib/python3.6/dist-packages (from python-dateutil>=2->pandas>=0.15.2->seaborn) (1.11.0)\n",
            "Requirement already satisfied, skipping upgrade: setuptools in /usr/local/lib/python3.6/dist-packages (from kiwisolver>=1.0.1->matplotlib>=1.4.3->seaborn) (40.8.0)\n"
          ],
          "name": "stdout"
        }
      ]
    },
    {
      "metadata": {
        "colab_type": "code",
        "id": "fXZFXHccljaZ",
        "outputId": "d8663ee1-0cf0-4322-d893-8073bb699013",
        "colab": {
          "base_uri": "https://localhost:8080/",
          "height": 35
        }
      },
      "cell_type": "code",
      "source": [
        "import seaborn as sns\n",
        "sns.__version__"
      ],
      "execution_count": 4,
      "outputs": [
        {
          "output_type": "execute_result",
          "data": {
            "text/plain": [
              "'0.9.0'"
            ]
          },
          "metadata": {
            "tags": []
          },
          "execution_count": 4
        }
      ]
    },
    {
      "metadata": {
        "colab_type": "text",
        "id": "Md1lMTx1ljab"
      },
      "cell_type": "markdown",
      "source": [
        "# Fix misleading visualizations"
      ]
    },
    {
      "metadata": {
        "colab_type": "code",
        "id": "5kTa_5Lnljac",
        "colab": {}
      },
      "cell_type": "code",
      "source": [
        "%matplotlib inline\n",
        "import matplotlib.pyplot as plt\n",
        "import numpy as np\n",
        "import pandas as pd"
      ],
      "execution_count": 0,
      "outputs": []
    },
    {
      "metadata": {
        "colab_type": "code",
        "id": "FkXJKBMOljae",
        "colab": {
          "base_uri": "https://localhost:8080/",
          "height": 231
        },
        "outputId": "9c5007ae-929b-4a8d-d2d6-7c5ccae6720d"
      },
      "cell_type": "code",
      "source": [
        "!wget https://raw.githubusercontent.com/LambdaSchool/DS-Unit-1-Sprint-3-Data-Storytelling/master/module2-choose-appropriate-visualizations/misleading.py\n",
        "    \n",
        "import misleading"
      ],
      "execution_count": 3,
      "outputs": [
        {
          "output_type": "stream",
          "text": [
            "--2019-04-02 21:40:12--  https://raw.githubusercontent.com/LambdaSchool/DS-Unit-1-Sprint-3-Data-Storytelling/master/module2-choose-appropriate-visualizations/misleading.py\n",
            "Resolving raw.githubusercontent.com (raw.githubusercontent.com)... 151.101.0.133, 151.101.64.133, 151.101.128.133, ...\n",
            "Connecting to raw.githubusercontent.com (raw.githubusercontent.com)|151.101.0.133|:443... connected.\n",
            "HTTP request sent, awaiting response... 200 OK\n",
            "Length: 1258 (1.2K) [text/plain]\n",
            "Saving to: ‘misleading.py.5’\n",
            "\n",
            "\rmisleading.py.5       0%[                    ]       0  --.-KB/s               \rmisleading.py.5     100%[===================>]   1.23K  --.-KB/s    in 0s      \n",
            "\n",
            "2019-04-02 21:40:12 (207 MB/s) - ‘misleading.py.5’ saved [1258/1258]\n",
            "\n"
          ],
          "name": "stdout"
        }
      ]
    },
    {
      "metadata": {
        "colab_type": "text",
        "id": "CBe1A0IJljag"
      },
      "cell_type": "markdown",
      "source": [
        "### Fix misleading plot #1"
      ]
    },
    {
      "metadata": {
        "colab_type": "code",
        "id": "nSkHZKmRljah",
        "colab": {
          "base_uri": "https://localhost:8080/",
          "height": 314
        },
        "outputId": "1efa221f-1f8f-4c51-ecbb-e9ff3599c09c"
      },
      "cell_type": "code",
      "source": [
        "misleading.plot1();"
      ],
      "execution_count": 5,
      "outputs": [
        {
          "output_type": "display_data",
          "data": {
            "image/png": "[encoded data removed]",
            "text/plain": [
              "<Figure size 432x288 with 1 Axes>"
            ]
          },
          "metadata": {
            "tags": []
          }
        }
      ]
    },
    {
      "metadata": {
        "colab_type": "text",
        "id": "6RB2pFjQljal"
      },
      "cell_type": "markdown",
      "source": [
        "### Fix misleading plot #2"
      ]
    },
    {
      "metadata": {
        "colab_type": "code",
        "id": "PAjwPf8vljam",
        "colab": {
          "base_uri": "https://localhost:8080/",
          "height": 310
        },
        "outputId": "c756a7cc-7569-4bb4-dfe4-a21780342cff"
      },
      "cell_type": "code",
      "source": [
        "misleading.plot2();"
      ],
      "execution_count": 6,
      "outputs": [
        {
          "output_type": "display_data",
          "data": {
            "image/png": "[encoded data removed]",
            "text/plain": [
              "<Figure size 360x360 with 1 Axes>"
            ]
          },
          "metadata": {
            "tags": []
          }
        }
      ]
    },
    {
      "metadata": {
        "id": "lM3mwzXp9vp3",
        "colab_type": "code",
        "colab": {
          "base_uri": "https://localhost:8080/",
          "height": 332
        },
        "outputId": "dd84519e-c4c1-4110-b491-b817b999b358"
      },
      "cell_type": "code",
      "source": [
        "insurance = pd.DataFrame(\n",
        "    index=['State Farm', 'GEICO'],\n",
        "    data={'Market Share %':[100 - 18.07 - 12.79]})\n",
        "\n",
        "insurance.plot.bar(ylim=(0, 20))"
      ],
      "execution_count": 7,
      "outputs": [
        {
          "output_type": "execute_result",
          "data": {
            "text/plain": [
              "<matplotlib.axes._subplots.AxesSubplot at 0x7fa7e3e6a390>"
            ]
          },
          "metadata": {
            "tags": []
          },
          "execution_count": 7
        },
        {
          "output_type": "display_data",
          "data": {
            "image/png": "[encoded data removed]",
            "text/plain": [
              "<Figure size 432x288 with 1 Axes>"
            ]
          },
          "metadata": {
            "tags": []
          }
        }
      ]
    },
    {
      "metadata": {
        "id": "QG5OW9Wz5qpY",
        "colab_type": "code",
        "colab": {
          "base_uri": "https://localhost:8080/",
          "height": 141
        },
        "outputId": "18f58995-a3a1-4a03-dbcc-8b0f400e3a96"
      },
      "cell_type": "code",
      "source": [
        "other = pd.DataFrame(\n",
        "     index=['Other'],\n",
        "     data={'Market Share %':[100 - 18.07 - 12.79]})\n",
        "\n",
        "insurance = insurance.append(other)\n",
        "insurance"
      ],
      "execution_count": 8,
      "outputs": [
        {
          "output_type": "execute_result",
          "data": {
            "text/html": [
              "<div>\n",
              "<style scoped>\n",
              "    .dataframe tbody tr th:only-of-type {\n",
              "        vertical-align: middle;\n",
              "    }\n",
              "\n",
              "    .dataframe tbody tr th {\n",
              "        vertical-align: top;\n",
              "    }\n",
              "\n",
              "    .dataframe thead th {\n",
              "        text-align: right;\n",
              "    }\n",
              "</style>\n",
              "<table border=\"1\" class=\"dataframe\">\n",
              "  <thead>\n",
              "    <tr style=\"text-align: right;\">\n",
              "      <th></th>\n",
              "      <th>Market Share %</th>\n",
              "    </tr>\n",
              "  </thead>\n",
              "  <tbody>\n",
              "    <tr>\n",
              "      <th>State Farm</th>\n",
              "      <td>69.14</td>\n",
              "    </tr>\n",
              "    <tr>\n",
              "      <th>GEICO</th>\n",
              "      <td>69.14</td>\n",
              "    </tr>\n",
              "    <tr>\n",
              "      <th>Other</th>\n",
              "      <td>69.14</td>\n",
              "    </tr>\n",
              "  </tbody>\n",
              "</table>\n",
              "</div>"
            ],
            "text/plain": [
              "            Market Share %\n",
              "State Farm           69.14\n",
              "GEICO                69.14\n",
              "Other                69.14"
            ]
          },
          "metadata": {
            "tags": []
          },
          "execution_count": 8
        }
      ]
    },
    {
      "metadata": {
        "id": "EpC9zmsO5qdY",
        "colab_type": "text"
      },
      "cell_type": "markdown",
      "source": [
        ""
      ]
    },
    {
      "metadata": {
        "id": "-xUmB2zW5jtg",
        "colab_type": "code",
        "colab": {
          "base_uri": "https://localhost:8080/",
          "height": 328
        },
        "outputId": "28a8f18d-6571-4e7f-c873-d6dff4fe699a"
      },
      "cell_type": "code",
      "source": [
        "insurance.plot.pie('Market Share %', figsize=(5,5))"
      ],
      "execution_count": 9,
      "outputs": [
        {
          "output_type": "execute_result",
          "data": {
            "text/plain": [
              "<matplotlib.axes._subplots.AxesSubplot at 0x7fa7e3e28898>"
            ]
          },
          "metadata": {
            "tags": []
          },
          "execution_count": 9
        },
        {
          "output_type": "display_data",
          "data": {
            "image/png": "[encoded data removed]",
            "text/plain": [
              "<Figure size 360x360 with 1 Axes>"
            ]
          },
          "metadata": {
            "tags": []
          }
        }
      ]
    },
    {
      "metadata": {
        "colab_type": "text",
        "id": "6FISiBH3ljaw"
      },
      "cell_type": "markdown",
      "source": [
        "## Fix misleading plot #3"
      ]
    },
    {
      "metadata": {
        "colab_type": "text",
        "id": "Dwcc8Jylljax"
      },
      "cell_type": "markdown",
      "source": [
        "_If you're on Jupyter (not Colab) then uncomment and run this cell below:_"
      ]
    },
    {
      "metadata": {
        "colab_type": "code",
        "id": "TaSuwairljax",
        "colab": {}
      },
      "cell_type": "code",
      "source": [
        "# import altair as alt\n",
        "# alt.renderers.enable('notebook')\n",
        "#if running in jupyter"
      ],
      "execution_count": 0,
      "outputs": []
    },
    {
      "metadata": {
        "colab_type": "code",
        "id": "JMirz9RMljaz",
        "colab": {
          "base_uri": "https://localhost:8080/",
          "height": 351
        },
        "outputId": "8c964d78-a065-416e-d502-0c50a5543233"
      },
      "cell_type": "code",
      "source": [
        "misleading.plot3()\n",
        "#but population is correllated to premiums"
      ],
      "execution_count": 14,
      "outputs": [
        {
          "output_type": "execute_result",
          "data": {
            "text/plain": [
              "Chart({\n",
              "  data: UrlData({\n",
              "    format: TopoDataFormat({\n",
              "      feature: 'states',\n",
              "      type: 'topojson'\n",
              "    }),\n",
              "    url: 'https://vega.github.io/vega-datasets/data/us-10m.json'\n",
              "  }),\n",
              "  encoding: EncodingWithFacet({\n",
              "    color: Color({\n",
              "      shorthand: 'State Farm policy premiums',\n",
              "      type: 'quantitative'\n",
              "    })\n",
              "  }),\n",
              "  height: 300,\n",
              "  mark: 'geoshape',\n",
              "  projection: Projection({\n",
              "    type: 'albersUsa'\n",
              "  }),\n",
              "  transform: [LookupTransform({\n",
              "    from: LookupData({\n",
              "      data:                    state  id  State Farm policy premiums  \\\n",
              "      0                Alabama   1                      768213   \n",
              "      1                 Alaska   2                      128613   \n",
              "      2                Arizona   4                      760003   \n",
              "      3               Arkansas   5                      454931   \n",
              "      4             California   6                     3655463   \n",
              "      5               Colorado   8                      827143   \n",
              "      6            Connecticut   9                      169773   \n",
              "      7               Delaware  10                      191319   \n",
              "      8   District of Columbia  11                       67231   \n",
              "      9                Florida  12                     2806322   \n",
              "      10               Georgia  13                     1761224   \n",
              "      11                Hawaii  15                      133498   \n",
              "      12                 Idaho  16                      130613   \n",
              "      13              Illinois  17                     2256543   \n",
              "      14               Indiana  18                      861382   \n",
              "      15                  Iowa  19                      368898   \n",
              "      16                Kansas  20                      351343   \n",
              "      17              Kentucky  21                      680433   \n",
              "      18             Louisiana  22                     1415980   \n",
              "      19                 Maine  23                      101111   \n",
              "      20              Maryland  24                      883401   \n",
              "      21         Massachusetts  25                           0   \n",
              "      22              Michigan  26                     1580398   \n",
              "      23             Minnesota  27                      851940   \n",
              "      24           Mississippi  28                      467887   \n",
              "      25              Missouri  29                      883774   \n",
              "      26               Montana  30                      156816   \n",
              "      27              Nebraska  31                      273727   \n",
              "      28                Nevada  32                      404688   \n",
              "      29         New Hampshire  33                      103340   \n",
              "      30            New Jersey  34                      619623   \n",
              "      31            New Mexico  35                      261922   \n",
              "      32              New York  36                     1666653   \n",
              "      33        North Carolina  37                      842368   \n",
              "      34          North Dakota  38                       67282   \n",
              "      35                  Ohio  39                     1240075   \n",
              "      36              Oklahoma  40                      636063   \n",
              "      37                Oregon  41                      564416   \n",
              "      38          Pennsylvania  42                     1654528   \n",
              "      39          Rhode Island  44                           0   \n",
              "      40        South Carolina  45                      874436   \n",
              "      41          South Dakota  46                      101912   \n",
              "      42             Tennessee  47                      889329   \n",
              "      43                 Texas  48                     3395165   \n",
              "      44                  Utah  49                      300403   \n",
              "      45               Vermont  50                       30003   \n",
              "      46              Virginia  51                      878312   \n",
              "      47            Washington  53                      794882   \n",
              "      48         West Virginia  54                      323608   \n",
              "      49             Wisconsin  55                      443680   \n",
              "      50               Wyoming  56                       90412   \n",
              "      51           Puerto Rico  72                           0   \n",
              "      \n",
              "          BERKSHIRE HATHAWAY GRP  STATE TOTAL  \n",
              "      0                   282947      3025561  \n",
              "      1                    81366       454623  \n",
              "      2                   604049      4373055  \n",
              "      3                    96908      1777917  \n",
              "      4                  2091720     25255501  \n",
              "      5                   365797      4057463  \n",
              "      6                   486498      2795415  \n",
              "      7                   129033       802005  \n",
              "      8                   115149       325239  \n",
              "      9                  3952147     17333354  \n",
              "      10                  821326      7571988  \n",
              "      11                  184743       722550  \n",
              "      12                   87222       863636  \n",
              "      13                  412978      7028885  \n",
              "      14                  201200      3506499  \n",
              "      15                   58105      1650388  \n",
              "      16                   76533      1725608  \n",
              "      17                  186915      2805864  \n",
              "      18                  369492      4136224  \n",
              "      19                   68109       699558  \n",
              "      20                 1059508      4554586  \n",
              "      21                  473913      4924736  \n",
              "      22                       0      8462142  \n",
              "      23                  108942      3412460  \n",
              "      24                  100827      1760180  \n",
              "      25                  214191      3606590  \n",
              "      26                   33538       668513  \n",
              "      27                   61046      1167135  \n",
              "      28                  262815      2129828  \n",
              "      29                  103403       806545  \n",
              "      30                 1441019      7375823  \n",
              "      31                  174865      1284430  \n",
              "      32                 3926684     12633982  \n",
              "      33                  560700      5543700  \n",
              "      34                   15516       454376  \n",
              "      35                  405652      6303148  \n",
              "      36                  151388      2515842  \n",
              "      37                  223187      2647434  \n",
              "      38                  602848      8270326  \n",
              "      39                   97597       867558  \n",
              "      40                  426033      3583918  \n",
              "      41                   15682       508569  \n",
              "      42                  292357      3769652  \n",
              "      43                 2127633     19180816  \n",
              "      44                  139315      1723931  \n",
              "      45                   52939       359996  \n",
              "      46                  884489      5105360  \n",
              "      47                  478922      4780616  \n",
              "      48                  110806      1209872  \n",
              "      49                  131845      2950711  \n",
              "      50                   30187       374169  \n",
              "      51                       0       444480  ,\n",
              "      fields: ['State Farm policy premiums'],\n",
              "      key: 'id'\n",
              "    }),\n",
              "    lookup: 'id'\n",
              "  })],\n",
              "  width: 500\n",
              "})"
            ],
            "text/html": [
              "<!DOCTYPE html>\n",
              "<html>\n",
              "<head>\n",
              "  <style>\n",
              "    .vega-actions a {\n",
              "        margin-right: 12px;\n",
              "        color: #757575;\n",
              "        font-weight: normal;\n",
              "        font-size: 13px;\n",
              "    }\n",
              "    .error {\n",
              "        color: red;\n",
              "    }\n",
              "  </style>\n",
              "  <script type=\"text/javascript\" src=\"https://cdn.jsdelivr.net/npm//vega@4\"></script>\n",
              "  <script type=\"text/javascript\" src=\"https://cdn.jsdelivr.net/npm//vega-lite@2.6.0\"></script>\n",
              "  <script type=\"text/javascript\" src=\"https://cdn.jsdelivr.net/npm//vega-embed@3\"></script>\n",
              "</head>\n",
              "<body>\n",
              "  <div id=\"altair-viz\"></div>\n",
              "  <script>\n",
              "      var spec = {\"config\": {\"view\": {\"width\": 400, \"height\": 300}}, \"data\": {\"url\": \"https://vega.github.io/vega-datasets/data/us-10m.json\", \"format\": {\"feature\": \"states\", \"type\": \"topojson\"}}, \"mark\": \"geoshape\", \"encoding\": {\"color\": {\"type\": \"quantitative\", \"field\": \"State Farm policy premiums\"}}, \"height\": 300, \"projection\": {\"type\": \"albersUsa\"}, \"transform\": [{\"lookup\": \"id\", \"from\": {\"data\": {\"name\": \"data-b615a17f98b0ca7d11f99dcf36616c5d\"}, \"key\": \"id\", \"fields\": [\"State Farm policy premiums\"]}}], \"width\": 500, \"$schema\": \"https://vega.github.io/schema/vega-lite/v2.6.0.json\", \"datasets\": {\"data-b615a17f98b0ca7d11f99dcf36616c5d\": [{\"state\": \"Alabama\", \"id\": 1, \"State Farm policy premiums\": 768213, \"BERKSHIRE HATHAWAY GRP\": 282947, \"STATE TOTAL\": 3025561}, {\"state\": \"Alaska\", \"id\": 2, \"State Farm policy premiums\": 128613, \"BERKSHIRE HATHAWAY GRP\": 81366, \"STATE TOTAL\": 454623}, {\"state\": \"Arizona\", \"id\": 4, \"State Farm policy premiums\": 760003, \"BERKSHIRE HATHAWAY GRP\": 604049, \"STATE TOTAL\": 4373055}, {\"state\": \"Arkansas\", \"id\": 5, \"State Farm policy premiums\": 454931, \"BERKSHIRE HATHAWAY GRP\": 96908, \"STATE TOTAL\": 1777917}, {\"state\": \"California\", \"id\": 6, \"State Farm policy premiums\": 3655463, \"BERKSHIRE HATHAWAY GRP\": 2091720, \"STATE TOTAL\": 25255501}, {\"state\": \"Colorado\", \"id\": 8, \"State Farm policy premiums\": 827143, \"BERKSHIRE HATHAWAY GRP\": 365797, \"STATE TOTAL\": 4057463}, {\"state\": \"Connecticut\", \"id\": 9, \"State Farm policy premiums\": 169773, \"BERKSHIRE HATHAWAY GRP\": 486498, \"STATE TOTAL\": 2795415}, {\"state\": \"Delaware\", \"id\": 10, \"State Farm policy premiums\": 191319, \"BERKSHIRE HATHAWAY GRP\": 129033, \"STATE TOTAL\": 802005}, {\"state\": \"District of Columbia\", \"id\": 11, \"State Farm policy premiums\": 67231, \"BERKSHIRE HATHAWAY GRP\": 115149, \"STATE TOTAL\": 325239}, {\"state\": \"Florida\", \"id\": 12, \"State Farm policy premiums\": 2806322, \"BERKSHIRE HATHAWAY GRP\": 3952147, \"STATE TOTAL\": 17333354}, {\"state\": \"Georgia\", \"id\": 13, \"State Farm policy premiums\": 1761224, \"BERKSHIRE HATHAWAY GRP\": 821326, \"STATE TOTAL\": 7571988}, {\"state\": \"Hawaii\", \"id\": 15, \"State Farm policy premiums\": 133498, \"BERKSHIRE HATHAWAY GRP\": 184743, \"STATE TOTAL\": 722550}, {\"state\": \"Idaho\", \"id\": 16, \"State Farm policy premiums\": 130613, \"BERKSHIRE HATHAWAY GRP\": 87222, \"STATE TOTAL\": 863636}, {\"state\": \"Illinois\", \"id\": 17, \"State Farm policy premiums\": 2256543, \"BERKSHIRE HATHAWAY GRP\": 412978, \"STATE TOTAL\": 7028885}, {\"state\": \"Indiana\", \"id\": 18, \"State Farm policy premiums\": 861382, \"BERKSHIRE HATHAWAY GRP\": 201200, \"STATE TOTAL\": 3506499}, {\"state\": \"Iowa\", \"id\": 19, \"State Farm policy premiums\": 368898, \"BERKSHIRE HATHAWAY GRP\": 58105, \"STATE TOTAL\": 1650388}, {\"state\": \"Kansas\", \"id\": 20, \"State Farm policy premiums\": 351343, \"BERKSHIRE HATHAWAY GRP\": 76533, \"STATE TOTAL\": 1725608}, {\"state\": \"Kentucky\", \"id\": 21, \"State Farm policy premiums\": 680433, \"BERKSHIRE HATHAWAY GRP\": 186915, \"STATE TOTAL\": 2805864}, {\"state\": \"Louisiana\", \"id\": 22, \"State Farm policy premiums\": 1415980, \"BERKSHIRE HATHAWAY GRP\": 369492, \"STATE TOTAL\": 4136224}, {\"state\": \"Maine\", \"id\": 23, \"State Farm policy premiums\": 101111, \"BERKSHIRE HATHAWAY GRP\": 68109, \"STATE TOTAL\": 699558}, {\"state\": \"Maryland\", \"id\": 24, \"State Farm policy premiums\": 883401, \"BERKSHIRE HATHAWAY GRP\": 1059508, \"STATE TOTAL\": 4554586}, {\"state\": \"Massachusetts\", \"id\": 25, \"State Farm policy premiums\": 0, \"BERKSHIRE HATHAWAY GRP\": 473913, \"STATE TOTAL\": 4924736}, {\"state\": \"Michigan\", \"id\": 26, \"State Farm policy premiums\": 1580398, \"BERKSHIRE HATHAWAY GRP\": 0, \"STATE TOTAL\": 8462142}, {\"state\": \"Minnesota\", \"id\": 27, \"State Farm policy premiums\": 851940, \"BERKSHIRE HATHAWAY GRP\": 108942, \"STATE TOTAL\": 3412460}, {\"state\": \"Mississippi\", \"id\": 28, \"State Farm policy premiums\": 467887, \"BERKSHIRE HATHAWAY GRP\": 100827, \"STATE TOTAL\": 1760180}, {\"state\": \"Missouri\", \"id\": 29, \"State Farm policy premiums\": 883774, \"BERKSHIRE HATHAWAY GRP\": 214191, \"STATE TOTAL\": 3606590}, {\"state\": \"Montana\", \"id\": 30, \"State Farm policy premiums\": 156816, \"BERKSHIRE HATHAWAY GRP\": 33538, \"STATE TOTAL\": 668513}, {\"state\": \"Nebraska\", \"id\": 31, \"State Farm policy premiums\": 273727, \"BERKSHIRE HATHAWAY GRP\": 61046, \"STATE TOTAL\": 1167135}, {\"state\": \"Nevada\", \"id\": 32, \"State Farm policy premiums\": 404688, \"BERKSHIRE HATHAWAY GRP\": 262815, \"STATE TOTAL\": 2129828}, {\"state\": \"New Hampshire\", \"id\": 33, \"State Farm policy premiums\": 103340, \"BERKSHIRE HATHAWAY GRP\": 103403, \"STATE TOTAL\": 806545}, {\"state\": \"New Jersey\", \"id\": 34, \"State Farm policy premiums\": 619623, \"BERKSHIRE HATHAWAY GRP\": 1441019, \"STATE TOTAL\": 7375823}, {\"state\": \"New Mexico\", \"id\": 35, \"State Farm policy premiums\": 261922, \"BERKSHIRE HATHAWAY GRP\": 174865, \"STATE TOTAL\": 1284430}, {\"state\": \"New York\", \"id\": 36, \"State Farm policy premiums\": 1666653, \"BERKSHIRE HATHAWAY GRP\": 3926684, \"STATE TOTAL\": 12633982}, {\"state\": \"North Carolina\", \"id\": 37, \"State Farm policy premiums\": 842368, \"BERKSHIRE HATHAWAY GRP\": 560700, \"STATE TOTAL\": 5543700}, {\"state\": \"North Dakota\", \"id\": 38, \"State Farm policy premiums\": 67282, \"BERKSHIRE HATHAWAY GRP\": 15516, \"STATE TOTAL\": 454376}, {\"state\": \"Ohio\", \"id\": 39, \"State Farm policy premiums\": 1240075, \"BERKSHIRE HATHAWAY GRP\": 405652, \"STATE TOTAL\": 6303148}, {\"state\": \"Oklahoma\", \"id\": 40, \"State Farm policy premiums\": 636063, \"BERKSHIRE HATHAWAY GRP\": 151388, \"STATE TOTAL\": 2515842}, {\"state\": \"Oregon\", \"id\": 41, \"State Farm policy premiums\": 564416, \"BERKSHIRE HATHAWAY GRP\": 223187, \"STATE TOTAL\": 2647434}, {\"state\": \"Pennsylvania\", \"id\": 42, \"State Farm policy premiums\": 1654528, \"BERKSHIRE HATHAWAY GRP\": 602848, \"STATE TOTAL\": 8270326}, {\"state\": \"Rhode Island\", \"id\": 44, \"State Farm policy premiums\": 0, \"BERKSHIRE HATHAWAY GRP\": 97597, \"STATE TOTAL\": 867558}, {\"state\": \"South Carolina\", \"id\": 45, \"State Farm policy premiums\": 874436, \"BERKSHIRE HATHAWAY GRP\": 426033, \"STATE TOTAL\": 3583918}, {\"state\": \"South Dakota\", \"id\": 46, \"State Farm policy premiums\": 101912, \"BERKSHIRE HATHAWAY GRP\": 15682, \"STATE TOTAL\": 508569}, {\"state\": \"Tennessee\", \"id\": 47, \"State Farm policy premiums\": 889329, \"BERKSHIRE HATHAWAY GRP\": 292357, \"STATE TOTAL\": 3769652}, {\"state\": \"Texas\", \"id\": 48, \"State Farm policy premiums\": 3395165, \"BERKSHIRE HATHAWAY GRP\": 2127633, \"STATE TOTAL\": 19180816}, {\"state\": \"Utah\", \"id\": 49, \"State Farm policy premiums\": 300403, \"BERKSHIRE HATHAWAY GRP\": 139315, \"STATE TOTAL\": 1723931}, {\"state\": \"Vermont\", \"id\": 50, \"State Farm policy premiums\": 30003, \"BERKSHIRE HATHAWAY GRP\": 52939, \"STATE TOTAL\": 359996}, {\"state\": \"Virginia\", \"id\": 51, \"State Farm policy premiums\": 878312, \"BERKSHIRE HATHAWAY GRP\": 884489, \"STATE TOTAL\": 5105360}, {\"state\": \"Washington\", \"id\": 53, \"State Farm policy premiums\": 794882, \"BERKSHIRE HATHAWAY GRP\": 478922, \"STATE TOTAL\": 4780616}, {\"state\": \"West Virginia\", \"id\": 54, \"State Farm policy premiums\": 323608, \"BERKSHIRE HATHAWAY GRP\": 110806, \"STATE TOTAL\": 1209872}, {\"state\": \"Wisconsin\", \"id\": 55, \"State Farm policy premiums\": 443680, \"BERKSHIRE HATHAWAY GRP\": 131845, \"STATE TOTAL\": 2950711}, {\"state\": \"Wyoming\", \"id\": 56, \"State Farm policy premiums\": 90412, \"BERKSHIRE HATHAWAY GRP\": 30187, \"STATE TOTAL\": 374169}, {\"state\": \"Puerto Rico\", \"id\": 72, \"State Farm policy premiums\": 0, \"BERKSHIRE HATHAWAY GRP\": 0, \"STATE TOTAL\": 444480}]}};\n",
              "      var embedOpt = {\"mode\": \"vega-lite\"};\n",
              "\n",
              "      function showError(el, error){\n",
              "          el.innerHTML = ('<div class=\"error\" style=\"color:red;\">'\n",
              "                          + '<p>JavaScript Error: ' + error.message + '</p>'\n",
              "                          + \"<p>This usually means there's a typo in your chart specification. \"\n",
              "                          + \"See the javascript console for the full traceback.</p>\"\n",
              "                          + '</div>');\n",
              "          throw error;\n",
              "      }\n",
              "      const el = document.getElementById('altair-viz');\n",
              "      vegaEmbed(\"#altair-viz\", spec, embedOpt)\n",
              "        .catch(error => showError(el, error));\n",
              "\n",
              "  </script>\n",
              "</body>\n",
              "</html>"
            ]
          },
          "metadata": {
            "tags": []
          },
          "execution_count": 14
        }
      ]
    },
    {
      "metadata": {
        "id": "Wgzxr6UR8AFp",
        "colab_type": "code",
        "colab": {}
      },
      "cell_type": "code",
      "source": [
        "df = pd.read_csv('https://raw.githubusercontent.com/LambdaSchool/DS-Sprint-02-Storytelling-With-Data/master/module2-choose-appropriate-visualizations/direct_written_premium_by_state_by_group_private_passenger_auto.csv')"
      ],
      "execution_count": 0,
      "outputs": []
    },
    {
      "metadata": {
        "id": "k5ufOCeI8fsI",
        "colab_type": "code",
        "colab": {
          "base_uri": "https://localhost:8080/",
          "height": 203
        },
        "outputId": "f0655533-9cfb-49f5-e3a7-fefc9547badd"
      },
      "cell_type": "code",
      "source": [
        "df.rename(columns={'STATE FARM GRP': 'State Farm policy premiums'}, inplace=True)\n",
        "df.head()"
      ],
      "execution_count": 16,
      "outputs": [
        {
          "output_type": "execute_result",
          "data": {
            "text/html": [
              "<div>\n",
              "<style scoped>\n",
              "    .dataframe tbody tr th:only-of-type {\n",
              "        vertical-align: middle;\n",
              "    }\n",
              "\n",
              "    .dataframe tbody tr th {\n",
              "        vertical-align: top;\n",
              "    }\n",
              "\n",
              "    .dataframe thead th {\n",
              "        text-align: right;\n",
              "    }\n",
              "</style>\n",
              "<table border=\"1\" class=\"dataframe\">\n",
              "  <thead>\n",
              "    <tr style=\"text-align: right;\">\n",
              "      <th></th>\n",
              "      <th>state</th>\n",
              "      <th>id</th>\n",
              "      <th>State Farm policy premiums</th>\n",
              "      <th>BERKSHIRE HATHAWAY GRP</th>\n",
              "      <th>STATE TOTAL</th>\n",
              "    </tr>\n",
              "  </thead>\n",
              "  <tbody>\n",
              "    <tr>\n",
              "      <th>0</th>\n",
              "      <td>Alabama</td>\n",
              "      <td>1</td>\n",
              "      <td>768213</td>\n",
              "      <td>282947</td>\n",
              "      <td>3025561</td>\n",
              "    </tr>\n",
              "    <tr>\n",
              "      <th>1</th>\n",
              "      <td>Alaska</td>\n",
              "      <td>2</td>\n",
              "      <td>128613</td>\n",
              "      <td>81366</td>\n",
              "      <td>454623</td>\n",
              "    </tr>\n",
              "    <tr>\n",
              "      <th>2</th>\n",
              "      <td>Arizona</td>\n",
              "      <td>4</td>\n",
              "      <td>760003</td>\n",
              "      <td>604049</td>\n",
              "      <td>4373055</td>\n",
              "    </tr>\n",
              "    <tr>\n",
              "      <th>3</th>\n",
              "      <td>Arkansas</td>\n",
              "      <td>5</td>\n",
              "      <td>454931</td>\n",
              "      <td>96908</td>\n",
              "      <td>1777917</td>\n",
              "    </tr>\n",
              "    <tr>\n",
              "      <th>4</th>\n",
              "      <td>California</td>\n",
              "      <td>6</td>\n",
              "      <td>3655463</td>\n",
              "      <td>2091720</td>\n",
              "      <td>25255501</td>\n",
              "    </tr>\n",
              "  </tbody>\n",
              "</table>\n",
              "</div>"
            ],
            "text/plain": [
              "        state  id  State Farm policy premiums  BERKSHIRE HATHAWAY GRP  \\\n",
              "0     Alabama   1                      768213                  282947   \n",
              "1      Alaska   2                      128613                   81366   \n",
              "2     Arizona   4                      760003                  604049   \n",
              "3    Arkansas   5                      454931                   96908   \n",
              "4  California   6                     3655463                 2091720   \n",
              "\n",
              "   STATE TOTAL  \n",
              "0      3025561  \n",
              "1       454623  \n",
              "2      4373055  \n",
              "3      1777917  \n",
              "4     25255501  "
            ]
          },
          "metadata": {
            "tags": []
          },
          "execution_count": 16
        }
      ]
    },
    {
      "metadata": {
        "id": "Ca6hfdg69W7u",
        "colab_type": "code",
        "colab": {
          "base_uri": "https://localhost:8080/",
          "height": 123
        },
        "outputId": "1947e8d2-497d-4bd4-cadc-82b26d8d50bb"
      },
      "cell_type": "code",
      "source": [
        "(df['State Farm policy premiums'] + df['BERKSHIRE HATHAWAY GRP'] == df['STATE TOTAL']).head()"
      ],
      "execution_count": 17,
      "outputs": [
        {
          "output_type": "execute_result",
          "data": {
            "text/plain": [
              "0    False\n",
              "1    False\n",
              "2    False\n",
              "3    False\n",
              "4    False\n",
              "dtype: bool"
            ]
          },
          "metadata": {
            "tags": []
          },
          "execution_count": 17
        }
      ]
    },
    {
      "metadata": {
        "id": "6dKsQ1RV7xo3",
        "colab_type": "code",
        "colab": {
          "base_uri": "https://localhost:8080/",
          "height": 351
        },
        "outputId": "03b9ec53-9e99-4b4f-ccdf-cea6f27a0736"
      },
      "cell_type": "code",
      "source": [
        "import altair as alt\n",
        "from vega_datasets import data\n",
        "\n",
        "states = alt.topo_feature(data.us_10m.url, 'states')\n",
        "variable = 'State Farm market share %'\n",
        "\n",
        "alt.Chart(states).mark_geoshape().encode(\n",
        "    alt.Color(variable, type='quantitative')\n",
        ").transform_lookup(\n",
        "    lookup='id',\n",
        "    from_=alt.LookupData(df, 'id', [variable])\n",
        ").properties(\n",
        "    width=500,\n",
        "    height=300\n",
        ").project(\n",
        "    type='albersUsa'\n",
        ")"
      ],
      "execution_count": 21,
      "outputs": [
        {
          "output_type": "execute_result",
          "data": {
            "text/plain": [
              "Chart({\n",
              "  data: UrlData({\n",
              "    format: TopoDataFormat({\n",
              "      feature: 'states',\n",
              "      type: 'topojson'\n",
              "    }),\n",
              "    url: 'https://vega.github.io/vega-datasets/data/us-10m.json'\n",
              "  }),\n",
              "  encoding: EncodingWithFacet({\n",
              "    color: Color({\n",
              "      shorthand: 'State Farm market share %',\n",
              "      type: 'quantitative'\n",
              "    })\n",
              "  }),\n",
              "  height: 300,\n",
              "  mark: 'geoshape',\n",
              "  projection: Projection({\n",
              "    type: 'albersUsa'\n",
              "  }),\n",
              "  transform: [LookupTransform({\n",
              "    from: LookupData({\n",
              "      data:                    state  id  State Farm policy premiums  \\\n",
              "      0                Alabama   1                      768213   \n",
              "      1                 Alaska   2                      128613   \n",
              "      2                Arizona   4                      760003   \n",
              "      3               Arkansas   5                      454931   \n",
              "      4             California   6                     3655463   \n",
              "      5               Colorado   8                      827143   \n",
              "      6            Connecticut   9                      169773   \n",
              "      7               Delaware  10                      191319   \n",
              "      8   District of Columbia  11                       67231   \n",
              "      9                Florida  12                     2806322   \n",
              "      10               Georgia  13                     1761224   \n",
              "      11                Hawaii  15                      133498   \n",
              "      12                 Idaho  16                      130613   \n",
              "      13              Illinois  17                     2256543   \n",
              "      14               Indiana  18                      861382   \n",
              "      15                  Iowa  19                      368898   \n",
              "      16                Kansas  20                      351343   \n",
              "      17              Kentucky  21                      680433   \n",
              "      18             Louisiana  22                     1415980   \n",
              "      19                 Maine  23                      101111   \n",
              "      20              Maryland  24                      883401   \n",
              "      21         Massachusetts  25                           0   \n",
              "      22              Michigan  26                     1580398   \n",
              "      23             Minnesota  27                      851940   \n",
              "      24           Mississippi  28                      467887   \n",
              "      25              Missouri  29                      883774   \n",
              "      26               Montana  30                      156816   \n",
              "      27              Nebraska  31                      273727   \n",
              "      28                Nevada  32                      404688   \n",
              "      29         New Hampshire  33                      103340   \n",
              "      30            New Jersey  34                      619623   \n",
              "      31            New Mexico  35                      261922   \n",
              "      32              New York  36                     1666653   \n",
              "      33        North Carolina  37                      842368   \n",
              "      34          North Dakota  38                       67282   \n",
              "      35                  Ohio  39                     1240075   \n",
              "      36              Oklahoma  40                      636063   \n",
              "      37                Oregon  41                      564416   \n",
              "      38          Pennsylvania  42                     1654528   \n",
              "      39          Rhode Island  44                           0   \n",
              "      40        South Carolina  45                      874436   \n",
              "      41          South Dakota  46                      101912   \n",
              "      42             Tennessee  47                      889329   \n",
              "      43                 Texas  48                     3395165   \n",
              "      44                  Utah  49                      300403   \n",
              "      45               Vermont  50                       30003   \n",
              "      46              Virginia  51                      878312   \n",
              "      47            Washington  53                      794882   \n",
              "      48         West Virginia  54                      323608   \n",
              "      49             Wisconsin  55                      443680   \n",
              "      50               Wyoming  56                       90412   \n",
              "      51           Puerto Rico  72                           0   \n",
              "      \n",
              "          BERKSHIRE HATHAWAY GRP  STATE TOTAL  \n",
              "      0                   282947      3025561  \n",
              "      1                    81366       454623  \n",
              "      2                   604049      4373055  \n",
              "      3                    96908      1777917  \n",
              "      4                  2091720     25255501  \n",
              "      5                   365797      4057463  \n",
              "      6                   486498      2795415  \n",
              "      7                   129033       802005  \n",
              "      8                   115149       325239  \n",
              "      9                  3952147     17333354  \n",
              "      10                  821326      7571988  \n",
              "      11                  184743       722550  \n",
              "      12                   87222       863636  \n",
              "      13                  412978      7028885  \n",
              "      14                  201200      3506499  \n",
              "      15                   58105      1650388  \n",
              "      16                   76533      1725608  \n",
              "      17                  186915      2805864  \n",
              "      18                  369492      4136224  \n",
              "      19                   68109       699558  \n",
              "      20                 1059508      4554586  \n",
              "      21                  473913      4924736  \n",
              "      22                       0      8462142  \n",
              "      23                  108942      3412460  \n",
              "      24                  100827      1760180  \n",
              "      25                  214191      3606590  \n",
              "      26                   33538       668513  \n",
              "      27                   61046      1167135  \n",
              "      28                  262815      2129828  \n",
              "      29                  103403       806545  \n",
              "      30                 1441019      7375823  \n",
              "      31                  174865      1284430  \n",
              "      32                 3926684     12633982  \n",
              "      33                  560700      5543700  \n",
              "      34                   15516       454376  \n",
              "      35                  405652      6303148  \n",
              "      36                  151388      2515842  \n",
              "      37                  223187      2647434  \n",
              "      38                  602848      8270326  \n",
              "      39                   97597       867558  \n",
              "      40                  426033      3583918  \n",
              "      41                   15682       508569  \n",
              "      42                  292357      3769652  \n",
              "      43                 2127633     19180816  \n",
              "      44                  139315      1723931  \n",
              "      45                   52939       359996  \n",
              "      46                  884489      5105360  \n",
              "      47                  478922      4780616  \n",
              "      48                  110806      1209872  \n",
              "      49                  131845      2950711  \n",
              "      50                   30187       374169  \n",
              "      51                       0       444480  ,\n",
              "      fields: ['State Farm market share %'],\n",
              "      key: 'id'\n",
              "    }),\n",
              "    lookup: 'id'\n",
              "  })],\n",
              "  width: 500\n",
              "})"
            ],
            "text/html": [
              "<!DOCTYPE html>\n",
              "<html>\n",
              "<head>\n",
              "  <style>\n",
              "    .vega-actions a {\n",
              "        margin-right: 12px;\n",
              "        color: #757575;\n",
              "        font-weight: normal;\n",
              "        font-size: 13px;\n",
              "    }\n",
              "    .error {\n",
              "        color: red;\n",
              "    }\n",
              "  </style>\n",
              "  <script type=\"text/javascript\" src=\"https://cdn.jsdelivr.net/npm//vega@4\"></script>\n",
              "  <script type=\"text/javascript\" src=\"https://cdn.jsdelivr.net/npm//vega-lite@2.6.0\"></script>\n",
              "  <script type=\"text/javascript\" src=\"https://cdn.jsdelivr.net/npm//vega-embed@3\"></script>\n",
              "</head>\n",
              "<body>\n",
              "  <div id=\"altair-viz\"></div>\n",
              "  <script>\n",
              "      var spec = {\"config\": {\"view\": {\"width\": 400, \"height\": 300}}, \"data\": {\"url\": \"https://vega.github.io/vega-datasets/data/us-10m.json\", \"format\": {\"feature\": \"states\", \"type\": \"topojson\"}}, \"mark\": \"geoshape\", \"encoding\": {\"color\": {\"type\": \"quantitative\", \"field\": \"State Farm market share %\"}}, \"height\": 300, \"projection\": {\"type\": \"albersUsa\"}, \"transform\": [{\"lookup\": \"id\", \"from\": {\"data\": {\"name\": \"data-b615a17f98b0ca7d11f99dcf36616c5d\"}, \"key\": \"id\", \"fields\": [\"State Farm market share %\"]}}], \"width\": 500, \"$schema\": \"https://vega.github.io/schema/vega-lite/v2.6.0.json\", \"datasets\": {\"data-b615a17f98b0ca7d11f99dcf36616c5d\": [{\"state\": \"Alabama\", \"id\": 1, \"State Farm policy premiums\": 768213, \"BERKSHIRE HATHAWAY GRP\": 282947, \"STATE TOTAL\": 3025561}, {\"state\": \"Alaska\", \"id\": 2, \"State Farm policy premiums\": 128613, \"BERKSHIRE HATHAWAY GRP\": 81366, \"STATE TOTAL\": 454623}, {\"state\": \"Arizona\", \"id\": 4, \"State Farm policy premiums\": 760003, \"BERKSHIRE HATHAWAY GRP\": 604049, \"STATE TOTAL\": 4373055}, {\"state\": \"Arkansas\", \"id\": 5, \"State Farm policy premiums\": 454931, \"BERKSHIRE HATHAWAY GRP\": 96908, \"STATE TOTAL\": 1777917}, {\"state\": \"California\", \"id\": 6, \"State Farm policy premiums\": 3655463, \"BERKSHIRE HATHAWAY GRP\": 2091720, \"STATE TOTAL\": 25255501}, {\"state\": \"Colorado\", \"id\": 8, \"State Farm policy premiums\": 827143, \"BERKSHIRE HATHAWAY GRP\": 365797, \"STATE TOTAL\": 4057463}, {\"state\": \"Connecticut\", \"id\": 9, \"State Farm policy premiums\": 169773, \"BERKSHIRE HATHAWAY GRP\": 486498, \"STATE TOTAL\": 2795415}, {\"state\": \"Delaware\", \"id\": 10, \"State Farm policy premiums\": 191319, \"BERKSHIRE HATHAWAY GRP\": 129033, \"STATE TOTAL\": 802005}, {\"state\": \"District of Columbia\", \"id\": 11, \"State Farm policy premiums\": 67231, \"BERKSHIRE HATHAWAY GRP\": 115149, \"STATE TOTAL\": 325239}, {\"state\": \"Florida\", \"id\": 12, \"State Farm policy premiums\": 2806322, \"BERKSHIRE HATHAWAY GRP\": 3952147, \"STATE TOTAL\": 17333354}, {\"state\": \"Georgia\", \"id\": 13, \"State Farm policy premiums\": 1761224, \"BERKSHIRE HATHAWAY GRP\": 821326, \"STATE TOTAL\": 7571988}, {\"state\": \"Hawaii\", \"id\": 15, \"State Farm policy premiums\": 133498, \"BERKSHIRE HATHAWAY GRP\": 184743, \"STATE TOTAL\": 722550}, {\"state\": \"Idaho\", \"id\": 16, \"State Farm policy premiums\": 130613, \"BERKSHIRE HATHAWAY GRP\": 87222, \"STATE TOTAL\": 863636}, {\"state\": \"Illinois\", \"id\": 17, \"State Farm policy premiums\": 2256543, \"BERKSHIRE HATHAWAY GRP\": 412978, \"STATE TOTAL\": 7028885}, {\"state\": \"Indiana\", \"id\": 18, \"State Farm policy premiums\": 861382, \"BERKSHIRE HATHAWAY GRP\": 201200, \"STATE TOTAL\": 3506499}, {\"state\": \"Iowa\", \"id\": 19, \"State Farm policy premiums\": 368898, \"BERKSHIRE HATHAWAY GRP\": 58105, \"STATE TOTAL\": 1650388}, {\"state\": \"Kansas\", \"id\": 20, \"State Farm policy premiums\": 351343, \"BERKSHIRE HATHAWAY GRP\": 76533, \"STATE TOTAL\": 1725608}, {\"state\": \"Kentucky\", \"id\": 21, \"State Farm policy premiums\": 680433, \"BERKSHIRE HATHAWAY GRP\": 186915, \"STATE TOTAL\": 2805864}, {\"state\": \"Louisiana\", \"id\": 22, \"State Farm policy premiums\": 1415980, \"BERKSHIRE HATHAWAY GRP\": 369492, \"STATE TOTAL\": 4136224}, {\"state\": \"Maine\", \"id\": 23, \"State Farm policy premiums\": 101111, \"BERKSHIRE HATHAWAY GRP\": 68109, \"STATE TOTAL\": 699558}, {\"state\": \"Maryland\", \"id\": 24, \"State Farm policy premiums\": 883401, \"BERKSHIRE HATHAWAY GRP\": 1059508, \"STATE TOTAL\": 4554586}, {\"state\": \"Massachusetts\", \"id\": 25, \"State Farm policy premiums\": 0, \"BERKSHIRE HATHAWAY GRP\": 473913, \"STATE TOTAL\": 4924736}, {\"state\": \"Michigan\", \"id\": 26, \"State Farm policy premiums\": 1580398, \"BERKSHIRE HATHAWAY GRP\": 0, \"STATE TOTAL\": 8462142}, {\"state\": \"Minnesota\", \"id\": 27, \"State Farm policy premiums\": 851940, \"BERKSHIRE HATHAWAY GRP\": 108942, \"STATE TOTAL\": 3412460}, {\"state\": \"Mississippi\", \"id\": 28, \"State Farm policy premiums\": 467887, \"BERKSHIRE HATHAWAY GRP\": 100827, \"STATE TOTAL\": 1760180}, {\"state\": \"Missouri\", \"id\": 29, \"State Farm policy premiums\": 883774, \"BERKSHIRE HATHAWAY GRP\": 214191, \"STATE TOTAL\": 3606590}, {\"state\": \"Montana\", \"id\": 30, \"State Farm policy premiums\": 156816, \"BERKSHIRE HATHAWAY GRP\": 33538, \"STATE TOTAL\": 668513}, {\"state\": \"Nebraska\", \"id\": 31, \"State Farm policy premiums\": 273727, \"BERKSHIRE HATHAWAY GRP\": 61046, \"STATE TOTAL\": 1167135}, {\"state\": \"Nevada\", \"id\": 32, \"State Farm policy premiums\": 404688, \"BERKSHIRE HATHAWAY GRP\": 262815, \"STATE TOTAL\": 2129828}, {\"state\": \"New Hampshire\", \"id\": 33, \"State Farm policy premiums\": 103340, \"BERKSHIRE HATHAWAY GRP\": 103403, \"STATE TOTAL\": 806545}, {\"state\": \"New Jersey\", \"id\": 34, \"State Farm policy premiums\": 619623, \"BERKSHIRE HATHAWAY GRP\": 1441019, \"STATE TOTAL\": 7375823}, {\"state\": \"New Mexico\", \"id\": 35, \"State Farm policy premiums\": 261922, \"BERKSHIRE HATHAWAY GRP\": 174865, \"STATE TOTAL\": 1284430}, {\"state\": \"New York\", \"id\": 36, \"State Farm policy premiums\": 1666653, \"BERKSHIRE HATHAWAY GRP\": 3926684, \"STATE TOTAL\": 12633982}, {\"state\": \"North Carolina\", \"id\": 37, \"State Farm policy premiums\": 842368, \"BERKSHIRE HATHAWAY GRP\": 560700, \"STATE TOTAL\": 5543700}, {\"state\": \"North Dakota\", \"id\": 38, \"State Farm policy premiums\": 67282, \"BERKSHIRE HATHAWAY GRP\": 15516, \"STATE TOTAL\": 454376}, {\"state\": \"Ohio\", \"id\": 39, \"State Farm policy premiums\": 1240075, \"BERKSHIRE HATHAWAY GRP\": 405652, \"STATE TOTAL\": 6303148}, {\"state\": \"Oklahoma\", \"id\": 40, \"State Farm policy premiums\": 636063, \"BERKSHIRE HATHAWAY GRP\": 151388, \"STATE TOTAL\": 2515842}, {\"state\": \"Oregon\", \"id\": 41, \"State Farm policy premiums\": 564416, \"BERKSHIRE HATHAWAY GRP\": 223187, \"STATE TOTAL\": 2647434}, {\"state\": \"Pennsylvania\", \"id\": 42, \"State Farm policy premiums\": 1654528, \"BERKSHIRE HATHAWAY GRP\": 602848, \"STATE TOTAL\": 8270326}, {\"state\": \"Rhode Island\", \"id\": 44, \"State Farm policy premiums\": 0, \"BERKSHIRE HATHAWAY GRP\": 97597, \"STATE TOTAL\": 867558}, {\"state\": \"South Carolina\", \"id\": 45, \"State Farm policy premiums\": 874436, \"BERKSHIRE HATHAWAY GRP\": 426033, \"STATE TOTAL\": 3583918}, {\"state\": \"South Dakota\", \"id\": 46, \"State Farm policy premiums\": 101912, \"BERKSHIRE HATHAWAY GRP\": 15682, \"STATE TOTAL\": 508569}, {\"state\": \"Tennessee\", \"id\": 47, \"State Farm policy premiums\": 889329, \"BERKSHIRE HATHAWAY GRP\": 292357, \"STATE TOTAL\": 3769652}, {\"state\": \"Texas\", \"id\": 48, \"State Farm policy premiums\": 3395165, \"BERKSHIRE HATHAWAY GRP\": 2127633, \"STATE TOTAL\": 19180816}, {\"state\": \"Utah\", \"id\": 49, \"State Farm policy premiums\": 300403, \"BERKSHIRE HATHAWAY GRP\": 139315, \"STATE TOTAL\": 1723931}, {\"state\": \"Vermont\", \"id\": 50, \"State Farm policy premiums\": 30003, \"BERKSHIRE HATHAWAY GRP\": 52939, \"STATE TOTAL\": 359996}, {\"state\": \"Virginia\", \"id\": 51, \"State Farm policy premiums\": 878312, \"BERKSHIRE HATHAWAY GRP\": 884489, \"STATE TOTAL\": 5105360}, {\"state\": \"Washington\", \"id\": 53, \"State Farm policy premiums\": 794882, \"BERKSHIRE HATHAWAY GRP\": 478922, \"STATE TOTAL\": 4780616}, {\"state\": \"West Virginia\", \"id\": 54, \"State Farm policy premiums\": 323608, \"BERKSHIRE HATHAWAY GRP\": 110806, \"STATE TOTAL\": 1209872}, {\"state\": \"Wisconsin\", \"id\": 55, \"State Farm policy premiums\": 443680, \"BERKSHIRE HATHAWAY GRP\": 131845, \"STATE TOTAL\": 2950711}, {\"state\": \"Wyoming\", \"id\": 56, \"State Farm policy premiums\": 90412, \"BERKSHIRE HATHAWAY GRP\": 30187, \"STATE TOTAL\": 374169}, {\"state\": \"Puerto Rico\", \"id\": 72, \"State Farm policy premiums\": 0, \"BERKSHIRE HATHAWAY GRP\": 0, \"STATE TOTAL\": 444480}]}};\n",
              "      var embedOpt = {\"mode\": \"vega-lite\"};\n",
              "\n",
              "      function showError(el, error){\n",
              "          el.innerHTML = ('<div class=\"error\" style=\"color:red;\">'\n",
              "                          + '<p>JavaScript Error: ' + error.message + '</p>'\n",
              "                          + \"<p>This usually means there's a typo in your chart specification. \"\n",
              "                          + \"See the javascript console for the full traceback.</p>\"\n",
              "                          + '</div>');\n",
              "          throw error;\n",
              "      }\n",
              "      const el = document.getElementById('altair-viz');\n",
              "      vegaEmbed(\"#altair-viz\", spec, embedOpt)\n",
              "        .catch(error => showError(el, error));\n",
              "\n",
              "  </script>\n",
              "</body>\n",
              "</html>"
            ]
          },
          "metadata": {
            "tags": []
          },
          "execution_count": 21
        }
      ]
    },
    {
      "metadata": {
        "colab_type": "text",
        "id": "7NfsPKUtlja3"
      },
      "cell_type": "markdown",
      "source": [
        "# Use Seaborn to visualize distributions and relationships with continuous and discrete variables"
      ]
    },
    {
      "metadata": {
        "colab_type": "text",
        "id": "DMX07pfHlja4"
      },
      "cell_type": "markdown",
      "source": [
        "## 1. Anscombe dataset"
      ]
    },
    {
      "metadata": {
        "colab_type": "text",
        "id": "ohuKP3Y2lja5"
      },
      "cell_type": "markdown",
      "source": [
        "### Load dataset"
      ]
    },
    {
      "metadata": {
        "colab_type": "code",
        "id": "lhNEdJTslja6",
        "colab": {}
      },
      "cell_type": "code",
      "source": [
        "df = sns.load_dataset('anscombe')#anscomb quartet toy datasets"
      ],
      "execution_count": 0,
      "outputs": []
    },
    {
      "metadata": {
        "colab_type": "text",
        "id": "wGpkAGL9lja9"
      },
      "cell_type": "markdown",
      "source": [
        "### See the data's shape"
      ]
    },
    {
      "metadata": {
        "colab_type": "code",
        "id": "UJgOVrMdlja_",
        "colab": {
          "base_uri": "https://localhost:8080/",
          "height": 87
        },
        "outputId": "0b088903-d814-45e0-ae1f-d88f0b4ab9aa"
      },
      "cell_type": "code",
      "source": [
        "df.dtypes"
      ],
      "execution_count": 23,
      "outputs": [
        {
          "output_type": "execute_result",
          "data": {
            "text/plain": [
              "dataset     object\n",
              "x          float64\n",
              "y          float64\n",
              "dtype: object"
            ]
          },
          "metadata": {
            "tags": []
          },
          "execution_count": 23
        }
      ]
    },
    {
      "metadata": {
        "id": "qnIWjS-mBO6H",
        "colab_type": "code",
        "colab": {
          "base_uri": "https://localhost:8080/",
          "height": 35
        },
        "outputId": "86d7c685-5fb5-40fe-9b3e-a6edf78db2b4"
      },
      "cell_type": "code",
      "source": [
        "df.shape"
      ],
      "execution_count": 24,
      "outputs": [
        {
          "output_type": "execute_result",
          "data": {
            "text/plain": [
              "(44, 3)"
            ]
          },
          "metadata": {
            "tags": []
          },
          "execution_count": 24
        }
      ]
    },
    {
      "metadata": {
        "id": "RxhEoQFKBRvQ",
        "colab_type": "code",
        "colab": {
          "base_uri": "https://localhost:8080/",
          "height": 141
        },
        "outputId": "253dd88e-93b3-40ba-dfeb-389f2b2108d3"
      },
      "cell_type": "code",
      "source": [
        "df.head(3)"
      ],
      "execution_count": 25,
      "outputs": [
        {
          "output_type": "execute_result",
          "data": {
            "text/html": [
              "<div>\n",
              "<style scoped>\n",
              "    .dataframe tbody tr th:only-of-type {\n",
              "        vertical-align: middle;\n",
              "    }\n",
              "\n",
              "    .dataframe tbody tr th {\n",
              "        vertical-align: top;\n",
              "    }\n",
              "\n",
              "    .dataframe thead th {\n",
              "        text-align: right;\n",
              "    }\n",
              "</style>\n",
              "<table border=\"1\" class=\"dataframe\">\n",
              "  <thead>\n",
              "    <tr style=\"text-align: right;\">\n",
              "      <th></th>\n",
              "      <th>dataset</th>\n",
              "      <th>x</th>\n",
              "      <th>y</th>\n",
              "    </tr>\n",
              "  </thead>\n",
              "  <tbody>\n",
              "    <tr>\n",
              "      <th>0</th>\n",
              "      <td>I</td>\n",
              "      <td>10.0</td>\n",
              "      <td>8.04</td>\n",
              "    </tr>\n",
              "    <tr>\n",
              "      <th>1</th>\n",
              "      <td>I</td>\n",
              "      <td>8.0</td>\n",
              "      <td>6.95</td>\n",
              "    </tr>\n",
              "    <tr>\n",
              "      <th>2</th>\n",
              "      <td>I</td>\n",
              "      <td>13.0</td>\n",
              "      <td>7.58</td>\n",
              "    </tr>\n",
              "  </tbody>\n",
              "</table>\n",
              "</div>"
            ],
            "text/plain": [
              "  dataset     x     y\n",
              "0       I  10.0  8.04\n",
              "1       I   8.0  6.95\n",
              "2       I  13.0  7.58"
            ]
          },
          "metadata": {
            "tags": []
          },
          "execution_count": 25
        }
      ]
    },
    {
      "metadata": {
        "id": "eBGP1wAzBazX",
        "colab_type": "code",
        "colab": {
          "base_uri": "https://localhost:8080/",
          "height": 418
        },
        "outputId": "737e60df-0010-420d-e416-4aae41596385"
      },
      "cell_type": "code",
      "source": [
        "groups = df.groupby('dataset')\n",
        "groups.head(3)"
      ],
      "execution_count": 26,
      "outputs": [
        {
          "output_type": "execute_result",
          "data": {
            "text/html": [
              "<div>\n",
              "<style scoped>\n",
              "    .dataframe tbody tr th:only-of-type {\n",
              "        vertical-align: middle;\n",
              "    }\n",
              "\n",
              "    .dataframe tbody tr th {\n",
              "        vertical-align: top;\n",
              "    }\n",
              "\n",
              "    .dataframe thead th {\n",
              "        text-align: right;\n",
              "    }\n",
              "</style>\n",
              "<table border=\"1\" class=\"dataframe\">\n",
              "  <thead>\n",
              "    <tr style=\"text-align: right;\">\n",
              "      <th></th>\n",
              "      <th>dataset</th>\n",
              "      <th>x</th>\n",
              "      <th>y</th>\n",
              "    </tr>\n",
              "  </thead>\n",
              "  <tbody>\n",
              "    <tr>\n",
              "      <th>0</th>\n",
              "      <td>I</td>\n",
              "      <td>10.0</td>\n",
              "      <td>8.04</td>\n",
              "    </tr>\n",
              "    <tr>\n",
              "      <th>1</th>\n",
              "      <td>I</td>\n",
              "      <td>8.0</td>\n",
              "      <td>6.95</td>\n",
              "    </tr>\n",
              "    <tr>\n",
              "      <th>2</th>\n",
              "      <td>I</td>\n",
              "      <td>13.0</td>\n",
              "      <td>7.58</td>\n",
              "    </tr>\n",
              "    <tr>\n",
              "      <th>11</th>\n",
              "      <td>II</td>\n",
              "      <td>10.0</td>\n",
              "      <td>9.14</td>\n",
              "    </tr>\n",
              "    <tr>\n",
              "      <th>12</th>\n",
              "      <td>II</td>\n",
              "      <td>8.0</td>\n",
              "      <td>8.14</td>\n",
              "    </tr>\n",
              "    <tr>\n",
              "      <th>13</th>\n",
              "      <td>II</td>\n",
              "      <td>13.0</td>\n",
              "      <td>8.74</td>\n",
              "    </tr>\n",
              "    <tr>\n",
              "      <th>22</th>\n",
              "      <td>III</td>\n",
              "      <td>10.0</td>\n",
              "      <td>7.46</td>\n",
              "    </tr>\n",
              "    <tr>\n",
              "      <th>23</th>\n",
              "      <td>III</td>\n",
              "      <td>8.0</td>\n",
              "      <td>6.77</td>\n",
              "    </tr>\n",
              "    <tr>\n",
              "      <th>24</th>\n",
              "      <td>III</td>\n",
              "      <td>13.0</td>\n",
              "      <td>12.74</td>\n",
              "    </tr>\n",
              "    <tr>\n",
              "      <th>33</th>\n",
              "      <td>IV</td>\n",
              "      <td>8.0</td>\n",
              "      <td>6.58</td>\n",
              "    </tr>\n",
              "    <tr>\n",
              "      <th>34</th>\n",
              "      <td>IV</td>\n",
              "      <td>8.0</td>\n",
              "      <td>5.76</td>\n",
              "    </tr>\n",
              "    <tr>\n",
              "      <th>35</th>\n",
              "      <td>IV</td>\n",
              "      <td>8.0</td>\n",
              "      <td>7.71</td>\n",
              "    </tr>\n",
              "  </tbody>\n",
              "</table>\n",
              "</div>"
            ],
            "text/plain": [
              "   dataset     x      y\n",
              "0        I  10.0   8.04\n",
              "1        I   8.0   6.95\n",
              "2        I  13.0   7.58\n",
              "11      II  10.0   9.14\n",
              "12      II   8.0   8.14\n",
              "13      II  13.0   8.74\n",
              "22     III  10.0   7.46\n",
              "23     III   8.0   6.77\n",
              "24     III  13.0  12.74\n",
              "33      IV   8.0   6.58\n",
              "34      IV   8.0   5.76\n",
              "35      IV   8.0   7.71"
            ]
          },
          "metadata": {
            "tags": []
          },
          "execution_count": 26
        }
      ]
    },
    {
      "metadata": {
        "id": "CXqh7HsxBk2Q",
        "colab_type": "code",
        "colab": {
          "base_uri": "https://localhost:8080/",
          "height": 253
        },
        "outputId": "cbf6d0ef-687b-4199-b9b2-63a61c5093b5"
      },
      "cell_type": "code",
      "source": [
        "groups.describe()"
      ],
      "execution_count": 27,
      "outputs": [
        {
          "output_type": "execute_result",
          "data": {
            "text/html": [
              "<div>\n",
              "<style scoped>\n",
              "    .dataframe tbody tr th:only-of-type {\n",
              "        vertical-align: middle;\n",
              "    }\n",
              "\n",
              "    .dataframe tbody tr th {\n",
              "        vertical-align: top;\n",
              "    }\n",
              "\n",
              "    .dataframe thead tr th {\n",
              "        text-align: left;\n",
              "    }\n",
              "\n",
              "    .dataframe thead tr:last-of-type th {\n",
              "        text-align: right;\n",
              "    }\n",
              "</style>\n",
              "<table border=\"1\" class=\"dataframe\">\n",
              "  <thead>\n",
              "    <tr>\n",
              "      <th></th>\n",
              "      <th colspan=\"8\" halign=\"left\">x</th>\n",
              "      <th colspan=\"8\" halign=\"left\">y</th>\n",
              "    </tr>\n",
              "    <tr>\n",
              "      <th></th>\n",
              "      <th>count</th>\n",
              "      <th>mean</th>\n",
              "      <th>std</th>\n",
              "      <th>min</th>\n",
              "      <th>25%</th>\n",
              "      <th>50%</th>\n",
              "      <th>75%</th>\n",
              "      <th>max</th>\n",
              "      <th>count</th>\n",
              "      <th>mean</th>\n",
              "      <th>std</th>\n",
              "      <th>min</th>\n",
              "      <th>25%</th>\n",
              "      <th>50%</th>\n",
              "      <th>75%</th>\n",
              "      <th>max</th>\n",
              "    </tr>\n",
              "    <tr>\n",
              "      <th>dataset</th>\n",
              "      <th></th>\n",
              "      <th></th>\n",
              "      <th></th>\n",
              "      <th></th>\n",
              "      <th></th>\n",
              "      <th></th>\n",
              "      <th></th>\n",
              "      <th></th>\n",
              "      <th></th>\n",
              "      <th></th>\n",
              "      <th></th>\n",
              "      <th></th>\n",
              "      <th></th>\n",
              "      <th></th>\n",
              "      <th></th>\n",
              "      <th></th>\n",
              "    </tr>\n",
              "  </thead>\n",
              "  <tbody>\n",
              "    <tr>\n",
              "      <th>I</th>\n",
              "      <td>11.0</td>\n",
              "      <td>9.0</td>\n",
              "      <td>3.316625</td>\n",
              "      <td>4.0</td>\n",
              "      <td>6.5</td>\n",
              "      <td>9.0</td>\n",
              "      <td>11.5</td>\n",
              "      <td>14.0</td>\n",
              "      <td>11.0</td>\n",
              "      <td>7.500909</td>\n",
              "      <td>2.031568</td>\n",
              "      <td>4.26</td>\n",
              "      <td>6.315</td>\n",
              "      <td>7.58</td>\n",
              "      <td>8.57</td>\n",
              "      <td>10.84</td>\n",
              "    </tr>\n",
              "    <tr>\n",
              "      <th>II</th>\n",
              "      <td>11.0</td>\n",
              "      <td>9.0</td>\n",
              "      <td>3.316625</td>\n",
              "      <td>4.0</td>\n",
              "      <td>6.5</td>\n",
              "      <td>9.0</td>\n",
              "      <td>11.5</td>\n",
              "      <td>14.0</td>\n",
              "      <td>11.0</td>\n",
              "      <td>7.500909</td>\n",
              "      <td>2.031657</td>\n",
              "      <td>3.10</td>\n",
              "      <td>6.695</td>\n",
              "      <td>8.14</td>\n",
              "      <td>8.95</td>\n",
              "      <td>9.26</td>\n",
              "    </tr>\n",
              "    <tr>\n",
              "      <th>III</th>\n",
              "      <td>11.0</td>\n",
              "      <td>9.0</td>\n",
              "      <td>3.316625</td>\n",
              "      <td>4.0</td>\n",
              "      <td>6.5</td>\n",
              "      <td>9.0</td>\n",
              "      <td>11.5</td>\n",
              "      <td>14.0</td>\n",
              "      <td>11.0</td>\n",
              "      <td>7.500000</td>\n",
              "      <td>2.030424</td>\n",
              "      <td>5.39</td>\n",
              "      <td>6.250</td>\n",
              "      <td>7.11</td>\n",
              "      <td>7.98</td>\n",
              "      <td>12.74</td>\n",
              "    </tr>\n",
              "    <tr>\n",
              "      <th>IV</th>\n",
              "      <td>11.0</td>\n",
              "      <td>9.0</td>\n",
              "      <td>3.316625</td>\n",
              "      <td>8.0</td>\n",
              "      <td>8.0</td>\n",
              "      <td>8.0</td>\n",
              "      <td>8.0</td>\n",
              "      <td>19.0</td>\n",
              "      <td>11.0</td>\n",
              "      <td>7.500909</td>\n",
              "      <td>2.030579</td>\n",
              "      <td>5.25</td>\n",
              "      <td>6.170</td>\n",
              "      <td>7.04</td>\n",
              "      <td>8.19</td>\n",
              "      <td>12.50</td>\n",
              "    </tr>\n",
              "  </tbody>\n",
              "</table>\n",
              "</div>"
            ],
            "text/plain": [
              "            x                                               y            \\\n",
              "        count mean       std  min  25%  50%   75%   max count      mean   \n",
              "dataset                                                                   \n",
              "I        11.0  9.0  3.316625  4.0  6.5  9.0  11.5  14.0  11.0  7.500909   \n",
              "II       11.0  9.0  3.316625  4.0  6.5  9.0  11.5  14.0  11.0  7.500909   \n",
              "III      11.0  9.0  3.316625  4.0  6.5  9.0  11.5  14.0  11.0  7.500000   \n",
              "IV       11.0  9.0  3.316625  8.0  8.0  8.0   8.0  19.0  11.0  7.500909   \n",
              "\n",
              "                                                   \n",
              "              std   min    25%   50%   75%    max  \n",
              "dataset                                            \n",
              "I        2.031568  4.26  6.315  7.58  8.57  10.84  \n",
              "II       2.031657  3.10  6.695  8.14  8.95   9.26  \n",
              "III      2.030424  5.39  6.250  7.11  7.98  12.74  \n",
              "IV       2.030579  5.25  6.170  7.04  8.19  12.50  "
            ]
          },
          "metadata": {
            "tags": []
          },
          "execution_count": 27
        }
      ]
    },
    {
      "metadata": {
        "colab_type": "text",
        "id": "uwhNkUorljbC"
      },
      "cell_type": "markdown",
      "source": [
        "### See the data"
      ]
    },
    {
      "metadata": {
        "colab_type": "code",
        "id": "f6VT5CbUljbD",
        "colab": {
          "base_uri": "https://localhost:8080/",
          "height": 203
        },
        "outputId": "41c9d4b2-83cf-4f74-b5b8-0283f96a7371"
      },
      "cell_type": "code",
      "source": [
        "groups.count()"
      ],
      "execution_count": 28,
      "outputs": [
        {
          "output_type": "execute_result",
          "data": {
            "text/html": [
              "<div>\n",
              "<style scoped>\n",
              "    .dataframe tbody tr th:only-of-type {\n",
              "        vertical-align: middle;\n",
              "    }\n",
              "\n",
              "    .dataframe tbody tr th {\n",
              "        vertical-align: top;\n",
              "    }\n",
              "\n",
              "    .dataframe thead th {\n",
              "        text-align: right;\n",
              "    }\n",
              "</style>\n",
              "<table border=\"1\" class=\"dataframe\">\n",
              "  <thead>\n",
              "    <tr style=\"text-align: right;\">\n",
              "      <th></th>\n",
              "      <th>x</th>\n",
              "      <th>y</th>\n",
              "    </tr>\n",
              "    <tr>\n",
              "      <th>dataset</th>\n",
              "      <th></th>\n",
              "      <th></th>\n",
              "    </tr>\n",
              "  </thead>\n",
              "  <tbody>\n",
              "    <tr>\n",
              "      <th>I</th>\n",
              "      <td>11</td>\n",
              "      <td>11</td>\n",
              "    </tr>\n",
              "    <tr>\n",
              "      <th>II</th>\n",
              "      <td>11</td>\n",
              "      <td>11</td>\n",
              "    </tr>\n",
              "    <tr>\n",
              "      <th>III</th>\n",
              "      <td>11</td>\n",
              "      <td>11</td>\n",
              "    </tr>\n",
              "    <tr>\n",
              "      <th>IV</th>\n",
              "      <td>11</td>\n",
              "      <td>11</td>\n",
              "    </tr>\n",
              "  </tbody>\n",
              "</table>\n",
              "</div>"
            ],
            "text/plain": [
              "          x   y\n",
              "dataset        \n",
              "I        11  11\n",
              "II       11  11\n",
              "III      11  11\n",
              "IV       11  11"
            ]
          },
          "metadata": {
            "tags": []
          },
          "execution_count": 28
        }
      ]
    },
    {
      "metadata": {
        "colab_type": "text",
        "id": "yxMSGXfmljbE"
      },
      "cell_type": "markdown",
      "source": [
        "### [Group by](https://pandas.pydata.org/pandas-docs/stable/generated/pandas.DataFrame.groupby.html) `'dataset'`"
      ]
    },
    {
      "metadata": {
        "colab_type": "code",
        "id": "Kqb2C6OnljbG",
        "colab": {}
      },
      "cell_type": "code",
      "source": [
        ""
      ],
      "execution_count": 0,
      "outputs": []
    },
    {
      "metadata": {
        "colab_type": "text",
        "id": "XE_VL_G5ljbI"
      },
      "cell_type": "markdown",
      "source": [
        "### [Describe](https://pandas.pydata.org/pandas-docs/stable/generated/pandas.DataFrame.describe.html) the groups"
      ]
    },
    {
      "metadata": {
        "colab_type": "code",
        "id": "3owo8EHvljbJ",
        "colab": {}
      },
      "cell_type": "code",
      "source": [
        ""
      ],
      "execution_count": 0,
      "outputs": []
    },
    {
      "metadata": {
        "colab_type": "text",
        "id": "VBjKXp0rljbK"
      },
      "cell_type": "markdown",
      "source": [
        "### Get the [count](https://pandas.pydata.org/pandas-docs/stable/generated/pandas.DataFrame.count.html), for each column in each group"
      ]
    },
    {
      "metadata": {
        "colab_type": "code",
        "id": "4ruK188dljbL",
        "colab": {}
      },
      "cell_type": "code",
      "source": [
        ""
      ],
      "execution_count": 0,
      "outputs": []
    },
    {
      "metadata": {
        "id": "9IeCl-GdCh_Q",
        "colab_type": "code",
        "colab": {
          "base_uri": "https://localhost:8080/",
          "height": 203
        },
        "outputId": "2309b79f-74e1-4824-efcb-2f6fd99cb29f"
      },
      "cell_type": "code",
      "source": [
        "groups.count()"
      ],
      "execution_count": 29,
      "outputs": [
        {
          "output_type": "execute_result",
          "data": {
            "text/html": [
              "<div>\n",
              "<style scoped>\n",
              "    .dataframe tbody tr th:only-of-type {\n",
              "        vertical-align: middle;\n",
              "    }\n",
              "\n",
              "    .dataframe tbody tr th {\n",
              "        vertical-align: top;\n",
              "    }\n",
              "\n",
              "    .dataframe thead th {\n",
              "        text-align: right;\n",
              "    }\n",
              "</style>\n",
              "<table border=\"1\" class=\"dataframe\">\n",
              "  <thead>\n",
              "    <tr style=\"text-align: right;\">\n",
              "      <th></th>\n",
              "      <th>x</th>\n",
              "      <th>y</th>\n",
              "    </tr>\n",
              "    <tr>\n",
              "      <th>dataset</th>\n",
              "      <th></th>\n",
              "      <th></th>\n",
              "    </tr>\n",
              "  </thead>\n",
              "  <tbody>\n",
              "    <tr>\n",
              "      <th>I</th>\n",
              "      <td>11</td>\n",
              "      <td>11</td>\n",
              "    </tr>\n",
              "    <tr>\n",
              "      <th>II</th>\n",
              "      <td>11</td>\n",
              "      <td>11</td>\n",
              "    </tr>\n",
              "    <tr>\n",
              "      <th>III</th>\n",
              "      <td>11</td>\n",
              "      <td>11</td>\n",
              "    </tr>\n",
              "    <tr>\n",
              "      <th>IV</th>\n",
              "      <td>11</td>\n",
              "      <td>11</td>\n",
              "    </tr>\n",
              "  </tbody>\n",
              "</table>\n",
              "</div>"
            ],
            "text/plain": [
              "          x   y\n",
              "dataset        \n",
              "I        11  11\n",
              "II       11  11\n",
              "III      11  11\n",
              "IV       11  11"
            ]
          },
          "metadata": {
            "tags": []
          },
          "execution_count": 29
        }
      ]
    },
    {
      "metadata": {
        "colab_type": "text",
        "id": "Ooh4iR8gljbN"
      },
      "cell_type": "markdown",
      "source": [
        "### Get the [mean](https://pandas.pydata.org/pandas-docs/stable/generated/pandas.DataFrame.mean.html) ..."
      ]
    },
    {
      "metadata": {
        "colab_type": "code",
        "id": "VHz1_kJNljbN",
        "colab": {
          "base_uri": "https://localhost:8080/",
          "height": 203
        },
        "outputId": "ac038d88-35bd-4ca2-f5b9-da406890cd5d"
      },
      "cell_type": "code",
      "source": [
        "groups.mean()"
      ],
      "execution_count": 30,
      "outputs": [
        {
          "output_type": "execute_result",
          "data": {
            "text/html": [
              "<div>\n",
              "<style scoped>\n",
              "    .dataframe tbody tr th:only-of-type {\n",
              "        vertical-align: middle;\n",
              "    }\n",
              "\n",
              "    .dataframe tbody tr th {\n",
              "        vertical-align: top;\n",
              "    }\n",
              "\n",
              "    .dataframe thead th {\n",
              "        text-align: right;\n",
              "    }\n",
              "</style>\n",
              "<table border=\"1\" class=\"dataframe\">\n",
              "  <thead>\n",
              "    <tr style=\"text-align: right;\">\n",
              "      <th></th>\n",
              "      <th>x</th>\n",
              "      <th>y</th>\n",
              "    </tr>\n",
              "    <tr>\n",
              "      <th>dataset</th>\n",
              "      <th></th>\n",
              "      <th></th>\n",
              "    </tr>\n",
              "  </thead>\n",
              "  <tbody>\n",
              "    <tr>\n",
              "      <th>I</th>\n",
              "      <td>9.0</td>\n",
              "      <td>7.500909</td>\n",
              "    </tr>\n",
              "    <tr>\n",
              "      <th>II</th>\n",
              "      <td>9.0</td>\n",
              "      <td>7.500909</td>\n",
              "    </tr>\n",
              "    <tr>\n",
              "      <th>III</th>\n",
              "      <td>9.0</td>\n",
              "      <td>7.500000</td>\n",
              "    </tr>\n",
              "    <tr>\n",
              "      <th>IV</th>\n",
              "      <td>9.0</td>\n",
              "      <td>7.500909</td>\n",
              "    </tr>\n",
              "  </tbody>\n",
              "</table>\n",
              "</div>"
            ],
            "text/plain": [
              "           x         y\n",
              "dataset               \n",
              "I        9.0  7.500909\n",
              "II       9.0  7.500909\n",
              "III      9.0  7.500000\n",
              "IV       9.0  7.500909"
            ]
          },
          "metadata": {
            "tags": []
          },
          "execution_count": 30
        }
      ]
    },
    {
      "metadata": {
        "colab_type": "text",
        "id": "KDpAl2z8ljbQ"
      },
      "cell_type": "markdown",
      "source": [
        "### Get the [standard deviation](https://pandas.pydata.org/pandas-docs/stable/generated/pandas.DataFrame.std.html) ..."
      ]
    },
    {
      "metadata": {
        "id": "raASSJwvBPJQ",
        "colab_type": "code",
        "colab": {
          "base_uri": "https://localhost:8080/",
          "height": 203
        },
        "outputId": "1e1acf83-ed94-4564-f144-c9b098f6bb1d"
      },
      "cell_type": "code",
      "source": [
        "groups.std()"
      ],
      "execution_count": 31,
      "outputs": [
        {
          "output_type": "execute_result",
          "data": {
            "text/html": [
              "<div>\n",
              "<style scoped>\n",
              "    .dataframe tbody tr th:only-of-type {\n",
              "        vertical-align: middle;\n",
              "    }\n",
              "\n",
              "    .dataframe tbody tr th {\n",
              "        vertical-align: top;\n",
              "    }\n",
              "\n",
              "    .dataframe thead th {\n",
              "        text-align: right;\n",
              "    }\n",
              "</style>\n",
              "<table border=\"1\" class=\"dataframe\">\n",
              "  <thead>\n",
              "    <tr style=\"text-align: right;\">\n",
              "      <th></th>\n",
              "      <th>x</th>\n",
              "      <th>y</th>\n",
              "    </tr>\n",
              "    <tr>\n",
              "      <th>dataset</th>\n",
              "      <th></th>\n",
              "      <th></th>\n",
              "    </tr>\n",
              "  </thead>\n",
              "  <tbody>\n",
              "    <tr>\n",
              "      <th>I</th>\n",
              "      <td>3.316625</td>\n",
              "      <td>2.031568</td>\n",
              "    </tr>\n",
              "    <tr>\n",
              "      <th>II</th>\n",
              "      <td>3.316625</td>\n",
              "      <td>2.031657</td>\n",
              "    </tr>\n",
              "    <tr>\n",
              "      <th>III</th>\n",
              "      <td>3.316625</td>\n",
              "      <td>2.030424</td>\n",
              "    </tr>\n",
              "    <tr>\n",
              "      <th>IV</th>\n",
              "      <td>3.316625</td>\n",
              "      <td>2.030579</td>\n",
              "    </tr>\n",
              "  </tbody>\n",
              "</table>\n",
              "</div>"
            ],
            "text/plain": [
              "                x         y\n",
              "dataset                    \n",
              "I        3.316625  2.031568\n",
              "II       3.316625  2.031657\n",
              "III      3.316625  2.030424\n",
              "IV       3.316625  2.030579"
            ]
          },
          "metadata": {
            "tags": []
          },
          "execution_count": 31
        }
      ]
    },
    {
      "metadata": {
        "colab_type": "code",
        "id": "H8sPCA70ljbQ",
        "colab": {
          "base_uri": "https://localhost:8080/",
          "height": 326
        },
        "outputId": "339158f2-bff6-46af-9692-f9690a667403"
      },
      "cell_type": "code",
      "source": [
        "groups.corr()"
      ],
      "execution_count": 32,
      "outputs": [
        {
          "output_type": "execute_result",
          "data": {
            "text/html": [
              "<div>\n",
              "<style scoped>\n",
              "    .dataframe tbody tr th:only-of-type {\n",
              "        vertical-align: middle;\n",
              "    }\n",
              "\n",
              "    .dataframe tbody tr th {\n",
              "        vertical-align: top;\n",
              "    }\n",
              "\n",
              "    .dataframe thead th {\n",
              "        text-align: right;\n",
              "    }\n",
              "</style>\n",
              "<table border=\"1\" class=\"dataframe\">\n",
              "  <thead>\n",
              "    <tr style=\"text-align: right;\">\n",
              "      <th></th>\n",
              "      <th></th>\n",
              "      <th>x</th>\n",
              "      <th>y</th>\n",
              "    </tr>\n",
              "    <tr>\n",
              "      <th>dataset</th>\n",
              "      <th></th>\n",
              "      <th></th>\n",
              "      <th></th>\n",
              "    </tr>\n",
              "  </thead>\n",
              "  <tbody>\n",
              "    <tr>\n",
              "      <th rowspan=\"2\" valign=\"top\">I</th>\n",
              "      <th>x</th>\n",
              "      <td>1.000000</td>\n",
              "      <td>0.816421</td>\n",
              "    </tr>\n",
              "    <tr>\n",
              "      <th>y</th>\n",
              "      <td>0.816421</td>\n",
              "      <td>1.000000</td>\n",
              "    </tr>\n",
              "    <tr>\n",
              "      <th rowspan=\"2\" valign=\"top\">II</th>\n",
              "      <th>x</th>\n",
              "      <td>1.000000</td>\n",
              "      <td>0.816237</td>\n",
              "    </tr>\n",
              "    <tr>\n",
              "      <th>y</th>\n",
              "      <td>0.816237</td>\n",
              "      <td>1.000000</td>\n",
              "    </tr>\n",
              "    <tr>\n",
              "      <th rowspan=\"2\" valign=\"top\">III</th>\n",
              "      <th>x</th>\n",
              "      <td>1.000000</td>\n",
              "      <td>0.816287</td>\n",
              "    </tr>\n",
              "    <tr>\n",
              "      <th>y</th>\n",
              "      <td>0.816287</td>\n",
              "      <td>1.000000</td>\n",
              "    </tr>\n",
              "    <tr>\n",
              "      <th rowspan=\"2\" valign=\"top\">IV</th>\n",
              "      <th>x</th>\n",
              "      <td>1.000000</td>\n",
              "      <td>0.816521</td>\n",
              "    </tr>\n",
              "    <tr>\n",
              "      <th>y</th>\n",
              "      <td>0.816521</td>\n",
              "      <td>1.000000</td>\n",
              "    </tr>\n",
              "  </tbody>\n",
              "</table>\n",
              "</div>"
            ],
            "text/plain": [
              "                  x         y\n",
              "dataset                      \n",
              "I       x  1.000000  0.816421\n",
              "        y  0.816421  1.000000\n",
              "II      x  1.000000  0.816237\n",
              "        y  0.816237  1.000000\n",
              "III     x  1.000000  0.816287\n",
              "        y  0.816287  1.000000\n",
              "IV      x  1.000000  0.816521\n",
              "        y  0.816521  1.000000"
            ]
          },
          "metadata": {
            "tags": []
          },
          "execution_count": 32
        }
      ]
    },
    {
      "metadata": {
        "colab_type": "text",
        "id": "8_J0sQ3zljbS"
      },
      "cell_type": "markdown",
      "source": [
        "### Get the [correlation](https://pandas.pydata.org/pandas-docs/stable/generated/pandas.DataFrame.corr.html) ..."
      ]
    },
    {
      "metadata": {
        "colab_type": "code",
        "id": "oVaXOEutljbS",
        "colab": {}
      },
      "cell_type": "code",
      "source": [
        ""
      ],
      "execution_count": 0,
      "outputs": []
    },
    {
      "metadata": {
        "colab_type": "text",
        "id": "wev2eLSsljbU"
      },
      "cell_type": "markdown",
      "source": [
        "### Use pandas to [plot](https://pandas.pydata.org/pandas-docs/stable/generated/pandas.DataFrame.plot.html) the groups, as scatter plots"
      ]
    },
    {
      "metadata": {
        "colab_type": "code",
        "id": "OV8_BNakljbV",
        "colab": {
          "base_uri": "https://localhost:8080/",
          "height": 1081
        },
        "outputId": "c4cd4a5d-a9ee-44df-89fe-8b3af082ea70"
      },
      "cell_type": "code",
      "source": [
        "groups.plot('x','y',kind='scatter');"
      ],
      "execution_count": 33,
      "outputs": [
        {
          "output_type": "display_data",
          "data": {
            "image/png": "[encoded data removed]",
            "text/plain": [
              "<Figure size 432x288 with 1 Axes>"
            ]
          },
          "metadata": {
            "tags": []
          }
        },
        {
          "output_type": "display_data",
          "data": {
            "image/png": "[encoded data removed]",
            "text/plain": [
              "<Figure size 432x288 with 1 Axes>"
            ]
          },
          "metadata": {
            "tags": []
          }
        },
        {
          "output_type": "display_data",
          "data": {
            "image/png": "[encoded data removed]",
            "text/plain": [
              "<Figure size 432x288 with 1 Axes>"
            ]
          },
          "metadata": {
            "tags": []
          }
        },
        {
          "output_type": "display_data",
          "data": {
            "image/png": "[encoded data removed]",
            "text/plain": [
              "<Figure size 432x288 with 1 Axes>"
            ]
          },
          "metadata": {
            "tags": []
          }
        }
      ]
    },
    {
      "metadata": {
        "colab_type": "text",
        "id": "aIZK7t3QljbX"
      },
      "cell_type": "markdown",
      "source": [
        "### Use Seaborn to make [relational plots](http://seaborn.pydata.org/generated/seaborn.relplot.html)"
      ]
    },
    {
      "metadata": {
        "colab_type": "code",
        "id": "VYwZwT85tggM",
        "colab": {
          "base_uri": "https://localhost:8080/",
          "height": 767
        },
        "outputId": "2e624a7a-16ab-4398-afa4-b7c718dfea00"
      },
      "cell_type": "code",
      "source": [
        "sns.relplot('x','y',col='dataset', data=df, col_wrap=2)"
      ],
      "execution_count": 34,
      "outputs": [
        {
          "output_type": "execute_result",
          "data": {
            "text/plain": [
              "<seaborn.axisgrid.FacetGrid at 0x7fa7e3e3b748>"
            ]
          },
          "metadata": {
            "tags": []
          },
          "execution_count": 34
        },
        {
          "output_type": "display_data",
          "data": {
            "image/png": "[encoded data removed]",
            "text/plain": [
              "<Figure size 720x720 with 4 Axes>"
            ]
          },
          "metadata": {
            "tags": []
          }
        }
      ]
    },
    {
      "metadata": {
        "colab_type": "text",
        "id": "7pC0xmYRljbZ"
      },
      "cell_type": "markdown",
      "source": [
        "### Use Seaborn to make [linear model plots](http://seaborn.pydata.org/generated/seaborn.lmplot.html)"
      ]
    },
    {
      "metadata": {
        "colab_type": "code",
        "id": "q0OUr1XytwG9",
        "colab": {
          "base_uri": "https://localhost:8080/",
          "height": 767
        },
        "outputId": "fce94567-f144-4827-b1d3-9546c2fdd635"
      },
      "cell_type": "code",
      "source": [
        "sns.lmplot('x','y',col='dataset',hue='dataset',data=df, col_wrap=2,ci=None)"
      ],
      "execution_count": 35,
      "outputs": [
        {
          "output_type": "execute_result",
          "data": {
            "text/plain": [
              "<seaborn.axisgrid.FacetGrid at 0x7fa7e1e76518>"
            ]
          },
          "metadata": {
            "tags": []
          },
          "execution_count": 35
        },
        {
          "output_type": "display_data",
          "data": {
            "image/png": "[encoded data removed]",
            "text/plain": [
              "<Figure size 720x720 with 4 Axes>"
            ]
          },
          "metadata": {
            "tags": []
          }
        }
      ]
    },
    {
      "metadata": {
        "colab_type": "text",
        "id": "Cn-xMBPcljbc"
      },
      "cell_type": "markdown",
      "source": [
        "#### Links\n",
        "- [Seaborn examples: Anscombe's quartet](http://seaborn.pydata.org/examples/anscombes_quartet.html)\n",
        "- [Wikipedia: Anscombe's quartet](https://en.wikipedia.org/wiki/Anscombe%27s_quartet)\n",
        "- [The Datasaurus Dozen](https://www.autodeskresearch.com/publications/samestats)"
      ]
    },
    {
      "metadata": {
        "colab_type": "text",
        "id": "5vhSX9VJljbc"
      },
      "cell_type": "markdown",
      "source": [
        "## 2. Tips dataset"
      ]
    },
    {
      "metadata": {
        "colab_type": "text",
        "id": "tZrTgYtoljbc"
      },
      "cell_type": "markdown",
      "source": [
        "### Load dataset"
      ]
    },
    {
      "metadata": {
        "colab_type": "code",
        "id": "Ms3dbDMRljbd",
        "colab": {}
      },
      "cell_type": "code",
      "source": [
        "tips = sns.load_dataset('tips')"
      ],
      "execution_count": 0,
      "outputs": []
    },
    {
      "metadata": {
        "colab_type": "text",
        "id": "YsR7xrSVljbe"
      },
      "cell_type": "markdown",
      "source": [
        "### See the data's shape"
      ]
    },
    {
      "metadata": {
        "colab_type": "code",
        "id": "vkd17Tv7ljbf",
        "colab": {
          "base_uri": "https://localhost:8080/",
          "height": 35
        },
        "outputId": "7b9265f6-8bbd-4792-a5d5-fab47c1e39e4"
      },
      "cell_type": "code",
      "source": [
        "tips.shape"
      ],
      "execution_count": 37,
      "outputs": [
        {
          "output_type": "execute_result",
          "data": {
            "text/plain": [
              "(244, 7)"
            ]
          },
          "metadata": {
            "tags": []
          },
          "execution_count": 37
        }
      ]
    },
    {
      "metadata": {
        "colab_type": "text",
        "id": "gRlUBLZEljbg"
      },
      "cell_type": "markdown",
      "source": [
        "### See the first 5 rows"
      ]
    },
    {
      "metadata": {
        "colab_type": "code",
        "id": "tSi2F9ZHljbg",
        "colab": {
          "base_uri": "https://localhost:8080/",
          "height": 203
        },
        "outputId": "0c077862-103e-4b97-f16d-692b7c34e99e"
      },
      "cell_type": "code",
      "source": [
        "tips.head(5)"
      ],
      "execution_count": 38,
      "outputs": [
        {
          "output_type": "execute_result",
          "data": {
            "text/html": [
              "<div>\n",
              "<style scoped>\n",
              "    .dataframe tbody tr th:only-of-type {\n",
              "        vertical-align: middle;\n",
              "    }\n",
              "\n",
              "    .dataframe tbody tr th {\n",
              "        vertical-align: top;\n",
              "    }\n",
              "\n",
              "    .dataframe thead th {\n",
              "        text-align: right;\n",
              "    }\n",
              "</style>\n",
              "<table border=\"1\" class=\"dataframe\">\n",
              "  <thead>\n",
              "    <tr style=\"text-align: right;\">\n",
              "      <th></th>\n",
              "      <th>total_bill</th>\n",
              "      <th>tip</th>\n",
              "      <th>sex</th>\n",
              "      <th>smoker</th>\n",
              "      <th>day</th>\n",
              "      <th>time</th>\n",
              "      <th>size</th>\n",
              "    </tr>\n",
              "  </thead>\n",
              "  <tbody>\n",
              "    <tr>\n",
              "      <th>0</th>\n",
              "      <td>16.99</td>\n",
              "      <td>1.01</td>\n",
              "      <td>Female</td>\n",
              "      <td>No</td>\n",
              "      <td>Sun</td>\n",
              "      <td>Dinner</td>\n",
              "      <td>2</td>\n",
              "    </tr>\n",
              "    <tr>\n",
              "      <th>1</th>\n",
              "      <td>10.34</td>\n",
              "      <td>1.66</td>\n",
              "      <td>Male</td>\n",
              "      <td>No</td>\n",
              "      <td>Sun</td>\n",
              "      <td>Dinner</td>\n",
              "      <td>3</td>\n",
              "    </tr>\n",
              "    <tr>\n",
              "      <th>2</th>\n",
              "      <td>21.01</td>\n",
              "      <td>3.50</td>\n",
              "      <td>Male</td>\n",
              "      <td>No</td>\n",
              "      <td>Sun</td>\n",
              "      <td>Dinner</td>\n",
              "      <td>3</td>\n",
              "    </tr>\n",
              "    <tr>\n",
              "      <th>3</th>\n",
              "      <td>23.68</td>\n",
              "      <td>3.31</td>\n",
              "      <td>Male</td>\n",
              "      <td>No</td>\n",
              "      <td>Sun</td>\n",
              "      <td>Dinner</td>\n",
              "      <td>2</td>\n",
              "    </tr>\n",
              "    <tr>\n",
              "      <th>4</th>\n",
              "      <td>24.59</td>\n",
              "      <td>3.61</td>\n",
              "      <td>Female</td>\n",
              "      <td>No</td>\n",
              "      <td>Sun</td>\n",
              "      <td>Dinner</td>\n",
              "      <td>4</td>\n",
              "    </tr>\n",
              "  </tbody>\n",
              "</table>\n",
              "</div>"
            ],
            "text/plain": [
              "   total_bill   tip     sex smoker  day    time  size\n",
              "0       16.99  1.01  Female     No  Sun  Dinner     2\n",
              "1       10.34  1.66    Male     No  Sun  Dinner     3\n",
              "2       21.01  3.50    Male     No  Sun  Dinner     3\n",
              "3       23.68  3.31    Male     No  Sun  Dinner     2\n",
              "4       24.59  3.61  Female     No  Sun  Dinner     4"
            ]
          },
          "metadata": {
            "tags": []
          },
          "execution_count": 38
        }
      ]
    },
    {
      "metadata": {
        "id": "sBS7n53qLVfD",
        "colab_type": "code",
        "colab": {
          "base_uri": "https://localhost:8080/",
          "height": 35
        },
        "outputId": "41f051c3-e15f-4822-cbf2-e365a1388af3"
      },
      "cell_type": "code",
      "source": [
        "tips['time'].nunique()"
      ],
      "execution_count": 74,
      "outputs": [
        {
          "output_type": "execute_result",
          "data": {
            "text/plain": [
              "2"
            ]
          },
          "metadata": {
            "tags": []
          },
          "execution_count": 74
        }
      ]
    },
    {
      "metadata": {
        "id": "c3jf_xBaLavq",
        "colab_type": "code",
        "colab": {
          "base_uri": "https://localhost:8080/",
          "height": 35
        },
        "outputId": "8a42fd66-5b70-4041-bc21-7f625cf914f8"
      },
      "cell_type": "code",
      "source": [
        "tips['size'].nunique()"
      ],
      "execution_count": 75,
      "outputs": [
        {
          "output_type": "execute_result",
          "data": {
            "text/plain": [
              "6"
            ]
          },
          "metadata": {
            "tags": []
          },
          "execution_count": 75
        }
      ]
    },
    {
      "metadata": {
        "colab_type": "text",
        "id": "sdGGrpdsljbi"
      },
      "cell_type": "markdown",
      "source": [
        "### Describe the data"
      ]
    },
    {
      "metadata": {
        "colab_type": "code",
        "id": "NvwPj20Qljbi",
        "colab": {
          "base_uri": "https://localhost:8080/",
          "height": 295
        },
        "outputId": "3c21f315-a6e4-48f1-99f9-1f2e0916937f"
      },
      "cell_type": "code",
      "source": [
        "tips.describe()\n",
        "#describe does not figure non-numic\n",
        "#smoker can be measured in boolean"
      ],
      "execution_count": 39,
      "outputs": [
        {
          "output_type": "execute_result",
          "data": {
            "text/html": [
              "<div>\n",
              "<style scoped>\n",
              "    .dataframe tbody tr th:only-of-type {\n",
              "        vertical-align: middle;\n",
              "    }\n",
              "\n",
              "    .dataframe tbody tr th {\n",
              "        vertical-align: top;\n",
              "    }\n",
              "\n",
              "    .dataframe thead th {\n",
              "        text-align: right;\n",
              "    }\n",
              "</style>\n",
              "<table border=\"1\" class=\"dataframe\">\n",
              "  <thead>\n",
              "    <tr style=\"text-align: right;\">\n",
              "      <th></th>\n",
              "      <th>total_bill</th>\n",
              "      <th>tip</th>\n",
              "      <th>size</th>\n",
              "    </tr>\n",
              "  </thead>\n",
              "  <tbody>\n",
              "    <tr>\n",
              "      <th>count</th>\n",
              "      <td>244.000000</td>\n",
              "      <td>244.000000</td>\n",
              "      <td>244.000000</td>\n",
              "    </tr>\n",
              "    <tr>\n",
              "      <th>mean</th>\n",
              "      <td>19.785943</td>\n",
              "      <td>2.998279</td>\n",
              "      <td>2.569672</td>\n",
              "    </tr>\n",
              "    <tr>\n",
              "      <th>std</th>\n",
              "      <td>8.902412</td>\n",
              "      <td>1.383638</td>\n",
              "      <td>0.951100</td>\n",
              "    </tr>\n",
              "    <tr>\n",
              "      <th>min</th>\n",
              "      <td>3.070000</td>\n",
              "      <td>1.000000</td>\n",
              "      <td>1.000000</td>\n",
              "    </tr>\n",
              "    <tr>\n",
              "      <th>25%</th>\n",
              "      <td>13.347500</td>\n",
              "      <td>2.000000</td>\n",
              "      <td>2.000000</td>\n",
              "    </tr>\n",
              "    <tr>\n",
              "      <th>50%</th>\n",
              "      <td>17.795000</td>\n",
              "      <td>2.900000</td>\n",
              "      <td>2.000000</td>\n",
              "    </tr>\n",
              "    <tr>\n",
              "      <th>75%</th>\n",
              "      <td>24.127500</td>\n",
              "      <td>3.562500</td>\n",
              "      <td>3.000000</td>\n",
              "    </tr>\n",
              "    <tr>\n",
              "      <th>max</th>\n",
              "      <td>50.810000</td>\n",
              "      <td>10.000000</td>\n",
              "      <td>6.000000</td>\n",
              "    </tr>\n",
              "  </tbody>\n",
              "</table>\n",
              "</div>"
            ],
            "text/plain": [
              "       total_bill         tip        size\n",
              "count  244.000000  244.000000  244.000000\n",
              "mean    19.785943    2.998279    2.569672\n",
              "std      8.902412    1.383638    0.951100\n",
              "min      3.070000    1.000000    1.000000\n",
              "25%     13.347500    2.000000    2.000000\n",
              "50%     17.795000    2.900000    2.000000\n",
              "75%     24.127500    3.562500    3.000000\n",
              "max     50.810000   10.000000    6.000000"
            ]
          },
          "metadata": {
            "tags": []
          },
          "execution_count": 39
        }
      ]
    },
    {
      "metadata": {
        "id": "IlBN8MwxHXjf",
        "colab_type": "code",
        "colab": {}
      },
      "cell_type": "code",
      "source": [
        "#make smoker 0 or 1 so you can see percentages in describe\n",
        "tips['smoker'] = tips['smoker'].replace({\n",
        "    \"No\":0,\n",
        "    \"Yes\":1\n",
        "})"
      ],
      "execution_count": 0,
      "outputs": []
    },
    {
      "metadata": {
        "id": "WLVm2Xk7H-96",
        "colab_type": "code",
        "colab": {
          "base_uri": "https://localhost:8080/",
          "height": 295
        },
        "outputId": "ebdf4584-b2d8-44d6-b7a6-9105ddb90145"
      },
      "cell_type": "code",
      "source": [
        "tips.describe()"
      ],
      "execution_count": 41,
      "outputs": [
        {
          "output_type": "execute_result",
          "data": {
            "text/html": [
              "<div>\n",
              "<style scoped>\n",
              "    .dataframe tbody tr th:only-of-type {\n",
              "        vertical-align: middle;\n",
              "    }\n",
              "\n",
              "    .dataframe tbody tr th {\n",
              "        vertical-align: top;\n",
              "    }\n",
              "\n",
              "    .dataframe thead th {\n",
              "        text-align: right;\n",
              "    }\n",
              "</style>\n",
              "<table border=\"1\" class=\"dataframe\">\n",
              "  <thead>\n",
              "    <tr style=\"text-align: right;\">\n",
              "      <th></th>\n",
              "      <th>total_bill</th>\n",
              "      <th>tip</th>\n",
              "      <th>smoker</th>\n",
              "      <th>size</th>\n",
              "    </tr>\n",
              "  </thead>\n",
              "  <tbody>\n",
              "    <tr>\n",
              "      <th>count</th>\n",
              "      <td>244.000000</td>\n",
              "      <td>244.000000</td>\n",
              "      <td>244.000000</td>\n",
              "      <td>244.000000</td>\n",
              "    </tr>\n",
              "    <tr>\n",
              "      <th>mean</th>\n",
              "      <td>19.785943</td>\n",
              "      <td>2.998279</td>\n",
              "      <td>0.381148</td>\n",
              "      <td>2.569672</td>\n",
              "    </tr>\n",
              "    <tr>\n",
              "      <th>std</th>\n",
              "      <td>8.902412</td>\n",
              "      <td>1.383638</td>\n",
              "      <td>0.486667</td>\n",
              "      <td>0.951100</td>\n",
              "    </tr>\n",
              "    <tr>\n",
              "      <th>min</th>\n",
              "      <td>3.070000</td>\n",
              "      <td>1.000000</td>\n",
              "      <td>0.000000</td>\n",
              "      <td>1.000000</td>\n",
              "    </tr>\n",
              "    <tr>\n",
              "      <th>25%</th>\n",
              "      <td>13.347500</td>\n",
              "      <td>2.000000</td>\n",
              "      <td>0.000000</td>\n",
              "      <td>2.000000</td>\n",
              "    </tr>\n",
              "    <tr>\n",
              "      <th>50%</th>\n",
              "      <td>17.795000</td>\n",
              "      <td>2.900000</td>\n",
              "      <td>0.000000</td>\n",
              "      <td>2.000000</td>\n",
              "    </tr>\n",
              "    <tr>\n",
              "      <th>75%</th>\n",
              "      <td>24.127500</td>\n",
              "      <td>3.562500</td>\n",
              "      <td>1.000000</td>\n",
              "      <td>3.000000</td>\n",
              "    </tr>\n",
              "    <tr>\n",
              "      <th>max</th>\n",
              "      <td>50.810000</td>\n",
              "      <td>10.000000</td>\n",
              "      <td>1.000000</td>\n",
              "      <td>6.000000</td>\n",
              "    </tr>\n",
              "  </tbody>\n",
              "</table>\n",
              "</div>"
            ],
            "text/plain": [
              "       total_bill         tip      smoker        size\n",
              "count  244.000000  244.000000  244.000000  244.000000\n",
              "mean    19.785943    2.998279    0.381148    2.569672\n",
              "std      8.902412    1.383638    0.486667    0.951100\n",
              "min      3.070000    1.000000    0.000000    1.000000\n",
              "25%     13.347500    2.000000    0.000000    2.000000\n",
              "50%     17.795000    2.900000    0.000000    2.000000\n",
              "75%     24.127500    3.562500    1.000000    3.000000\n",
              "max     50.810000   10.000000    1.000000    6.000000"
            ]
          },
          "metadata": {
            "tags": []
          },
          "execution_count": 41
        }
      ]
    },
    {
      "metadata": {
        "id": "YQ3aWXooIBJP",
        "colab_type": "code",
        "colab": {}
      },
      "cell_type": "code",
      "source": [
        "#dataframes are from R and is different from native python"
      ],
      "execution_count": 0,
      "outputs": []
    },
    {
      "metadata": {
        "colab_type": "text",
        "id": "TDoUKNB4ljbk"
      },
      "cell_type": "markdown",
      "source": [
        "### Make univariate [distribution plots](https://seaborn.pydata.org/generated/seaborn.distplot.html)"
      ]
    },
    {
      "metadata": {
        "colab_type": "code",
        "id": "GL7qCnO1PRbM",
        "colab": {
          "base_uri": "https://localhost:8080/",
          "height": 301
        },
        "outputId": "b7e031c1-1f97-439d-db01-250522cb98cc"
      },
      "cell_type": "code",
      "source": [
        "sns.distplot(tips.tip)"
      ],
      "execution_count": 42,
      "outputs": [
        {
          "output_type": "execute_result",
          "data": {
            "text/plain": [
              "<matplotlib.axes._subplots.AxesSubplot at 0x7fa7e19481d0>"
            ]
          },
          "metadata": {
            "tags": []
          },
          "execution_count": 42
        },
        {
          "output_type": "display_data",
          "data": {
            "image/png": "[encoded data removed]",
            "text/plain": [
              "<Figure size 432x288 with 1 Axes>"
            ]
          },
          "metadata": {
            "tags": []
          }
        }
      ]
    },
    {
      "metadata": {
        "id": "36n4UAq8Ijh5",
        "colab_type": "code",
        "colab": {
          "base_uri": "https://localhost:8080/",
          "height": 302
        },
        "outputId": "5559d7b5-6860-46c9-b446-83fb4d095758"
      },
      "cell_type": "code",
      "source": [
        "sns.distplot(tips.total_bill)"
      ],
      "execution_count": 43,
      "outputs": [
        {
          "output_type": "execute_result",
          "data": {
            "text/plain": [
              "<matplotlib.axes._subplots.AxesSubplot at 0x7fa7e1cc9b38>"
            ]
          },
          "metadata": {
            "tags": []
          },
          "execution_count": 43
        },
        {
          "output_type": "display_data",
          "data": {
            "image/png": "[encoded data removed]",
            "text/plain": [
              "<Figure size 432x288 with 1 Axes>"
            ]
          },
          "metadata": {
            "tags": []
          }
        }
      ]
    },
    {
      "metadata": {
        "id": "mGTkYZy5JNif",
        "colab_type": "code",
        "colab": {
          "base_uri": "https://localhost:8080/",
          "height": 301
        },
        "outputId": "13d461e4-e515-4f2e-a506-ec0b9f00b887"
      },
      "cell_type": "code",
      "source": [
        "tips['percent']=tips.tip / tips.total_bill\n",
        "sns.distplot(tips.percent)"
      ],
      "execution_count": 49,
      "outputs": [
        {
          "output_type": "execute_result",
          "data": {
            "text/plain": [
              "<matplotlib.axes._subplots.AxesSubplot at 0x7fa7e18e07b8>"
            ]
          },
          "metadata": {
            "tags": []
          },
          "execution_count": 49
        },
        {
          "output_type": "display_data",
          "data": {
            "image/png": "[encoded data removed]",
            "text/plain": [
              "<Figure size 432x288 with 1 Axes>"
            ]
          },
          "metadata": {
            "tags": []
          }
        }
      ]
    },
    {
      "metadata": {
        "id": "Ez-uwHb8JjYy",
        "colab_type": "code",
        "colab": {
          "base_uri": "https://localhost:8080/",
          "height": 132
        },
        "outputId": "9e33fcba-c40f-4095-f234-03c8f653c23e"
      },
      "cell_type": "code",
      "source": [
        "#we got to bin it\n",
        "tips['percent']value_counts(bins=20).sort_index()"
      ],
      "execution_count": 52,
      "outputs": [
        {
          "output_type": "error",
          "ename": "SyntaxError",
          "evalue": "ignored",
          "traceback": [
            "\u001b[0;36m  File \u001b[0;32m\"<ipython-input-52-0f59f0857520>\"\u001b[0;36m, line \u001b[0;32m1\u001b[0m\n\u001b[0;31m    tips['percent']value_counts(bins=20).sort_index()\u001b[0m\n\u001b[0m                              ^\u001b[0m\n\u001b[0;31mSyntaxError\u001b[0m\u001b[0;31m:\u001b[0m invalid syntax\n"
          ]
        }
      ]
    },
    {
      "metadata": {
        "colab_type": "text",
        "id": "0N-6Munnljbm"
      },
      "cell_type": "markdown",
      "source": [
        "### Make bivariate [relational plots](https://seaborn.pydata.org/generated/seaborn.relplot.html)"
      ]
    },
    {
      "metadata": {
        "colab_type": "code",
        "id": "AVWSHwa9PT1y",
        "colab": {
          "base_uri": "https://localhost:8080/",
          "height": 387
        },
        "outputId": "69dff77a-7413-4141-ac55-5b102c663bcc"
      },
      "cell_type": "code",
      "source": [
        "sns.relplot('total_bill','tip', data=tips, alpha=0.5)"
      ],
      "execution_count": 53,
      "outputs": [
        {
          "output_type": "execute_result",
          "data": {
            "text/plain": [
              "<seaborn.axisgrid.FacetGrid at 0x7fa7e183e860>"
            ]
          },
          "metadata": {
            "tags": []
          },
          "execution_count": 53
        },
        {
          "output_type": "display_data",
          "data": {
            "image/png": "[encoded data removed]",
            "text/plain": [
              "<Figure size 360x360 with 1 Axes>"
            ]
          },
          "metadata": {
            "tags": []
          }
        }
      ]
    },
    {
      "metadata": {
        "id": "PxDrS0uYLik_",
        "colab_type": "code",
        "colab": {
          "base_uri": "https://localhost:8080/",
          "height": 387
        },
        "outputId": "7e8b3810-89d2-4181-d8d4-2294a7317366"
      },
      "cell_type": "code",
      "source": [
        "sns.relplot('total_bill','percent', data=tips, alpha=0.5)"
      ],
      "execution_count": 54,
      "outputs": [
        {
          "output_type": "execute_result",
          "data": {
            "text/plain": [
              "<seaborn.axisgrid.FacetGrid at 0x7fa7e17faf28>"
            ]
          },
          "metadata": {
            "tags": []
          },
          "execution_count": 54
        },
        {
          "output_type": "display_data",
          "data": {
            "image/png": "[encoded data removed]",
            "text/plain": [
              "<Figure size 360x360 with 1 Axes>"
            ]
          },
          "metadata": {
            "tags": []
          }
        }
      ]
    },
    {
      "metadata": {
        "colab_type": "text",
        "id": "7Ug5vyBlljbp"
      },
      "cell_type": "markdown",
      "source": [
        "### Make univariate [categorical plots](https://seaborn.pydata.org/generated/seaborn.catplot.html)"
      ]
    },
    {
      "metadata": {
        "colab_type": "code",
        "id": "0FdkIBUjPWLg",
        "colab": {
          "base_uri": "https://localhost:8080/",
          "height": 70
        },
        "outputId": "9f810e90-12bc-4b5d-c3f3-ab204f4ee98c"
      },
      "cell_type": "code",
      "source": [
        "tips.sex.value_counts()"
      ],
      "execution_count": 55,
      "outputs": [
        {
          "output_type": "execute_result",
          "data": {
            "text/plain": [
              "Male      157\n",
              "Female     87\n",
              "Name: sex, dtype: int64"
            ]
          },
          "metadata": {
            "tags": []
          },
          "execution_count": 55
        }
      ]
    },
    {
      "metadata": {
        "id": "oL3llOZVLtbH",
        "colab_type": "code",
        "colab": {
          "base_uri": "https://localhost:8080/",
          "height": 313
        },
        "outputId": "74afa136-6dbe-4450-decd-4f92444651b9"
      },
      "cell_type": "code",
      "source": [
        "tips.sex.value_counts().plot.bar()"
      ],
      "execution_count": 56,
      "outputs": [
        {
          "output_type": "execute_result",
          "data": {
            "text/plain": [
              "<matplotlib.axes._subplots.AxesSubplot at 0x7fa7e174fc50>"
            ]
          },
          "metadata": {
            "tags": []
          },
          "execution_count": 56
        },
        {
          "output_type": "display_data",
          "data": {
            "image/png": "[encoded data removed]",
            "text/plain": [
              "<Figure size 432x288 with 1 Axes>"
            ]
          },
          "metadata": {
            "tags": []
          }
        }
      ]
    },
    {
      "metadata": {
        "id": "tYGxkkXOL7dN",
        "colab_type": "code",
        "colab": {
          "base_uri": "https://localhost:8080/",
          "height": 369
        },
        "outputId": "92fc2526-c547-48b2-ca52-9410389c265e"
      },
      "cell_type": "code",
      "source": [
        "sns.catplot('day', data=tips, kind='count');"
      ],
      "execution_count": 57,
      "outputs": [
        {
          "output_type": "display_data",
          "data": {
            "image/png": "[encoded data removed]",
            "text/plain": [
              "<Figure size 360x360 with 1 Axes>"
            ]
          },
          "metadata": {
            "tags": []
          }
        }
      ]
    },
    {
      "metadata": {
        "colab_type": "text",
        "id": "Ftchuwrgljbs"
      },
      "cell_type": "markdown",
      "source": [
        "### Make bivariate [categorical plots](https://seaborn.pydata.org/generated/seaborn.catplot.html)"
      ]
    },
    {
      "metadata": {
        "colab_type": "code",
        "id": "yIGQcgB0PZnk",
        "colab": {
          "base_uri": "https://localhost:8080/",
          "height": 369
        },
        "outputId": "a678e560-898e-4606-9b7c-b1c7af45a0ae"
      },
      "cell_type": "code",
      "source": [
        "sns.catplot('sex','tip', data=tips, kind='strip',alpha=0.5);"
      ],
      "execution_count": 58,
      "outputs": [
        {
          "output_type": "display_data",
          "data": {
            "image/png": "[encoded data removed]",
            "text/plain": [
              "<Figure size 360x360 with 1 Axes>"
            ]
          },
          "metadata": {
            "tags": []
          }
        }
      ]
    },
    {
      "metadata": {
        "id": "SZ7mTDVdJHtq",
        "colab_type": "code",
        "colab": {
          "base_uri": "https://localhost:8080/",
          "height": 369
        },
        "outputId": "2ff28973-ece8-4631-d2fa-672a94e0b07a"
      },
      "cell_type": "code",
      "source": [
        "sns.catplot('sex','percent', data=tips, kind='strip',alpha=0.5);"
      ],
      "execution_count": 60,
      "outputs": [
        {
          "output_type": "display_data",
          "data": {
            "image/png": "[encoded data removed]",
            "text/plain": [
              "<Figure size 360x360 with 1 Axes>"
            ]
          },
          "metadata": {
            "tags": []
          }
        }
      ]
    },
    {
      "metadata": {
        "id": "9dFKN3MPLl-b",
        "colab_type": "code",
        "colab": {
          "base_uri": "https://localhost:8080/",
          "height": 383
        },
        "outputId": "370d4f71-6e5c-4a18-8426-7ce8594b3549"
      },
      "cell_type": "code",
      "source": [
        "import altair as alt\n",
        "from vega_datasets import data\n",
        "\n",
        "source = tips\n",
        "\n",
        "alt.Chart(source).mark_point().encode(\n",
        "    x='day',  # When using datetime values, ordinal encoding is crucial to get the right look.\n",
        "    y='tip',\n",
        "    color='size'\n",
        ")"
      ],
      "execution_count": 85,
      "outputs": [
        {
          "output_type": "execute_result",
          "data": {
            "text/plain": [
              "Chart({\n",
              "  data:      total_bill   tip     sex  smoker   day    time  size   percent\n",
              "  0         16.99  1.01  Female       0   Sun  Dinner     2  0.059447\n",
              "  1         10.34  1.66    Male       0   Sun  Dinner     3  0.160542\n",
              "  2         21.01  3.50    Male       0   Sun  Dinner     3  0.166587\n",
              "  3         23.68  3.31    Male       0   Sun  Dinner     2  0.139780\n",
              "  4         24.59  3.61  Female       0   Sun  Dinner     4  0.146808\n",
              "  5         25.29  4.71    Male       0   Sun  Dinner     4  0.186240\n",
              "  6          8.77  2.00    Male       0   Sun  Dinner     2  0.228050\n",
              "  7         26.88  3.12    Male       0   Sun  Dinner     4  0.116071\n",
              "  8         15.04  1.96    Male       0   Sun  Dinner     2  0.130319\n",
              "  9         14.78  3.23    Male       0   Sun  Dinner     2  0.218539\n",
              "  10        10.27  1.71    Male       0   Sun  Dinner     2  0.166504\n",
              "  11        35.26  5.00  Female       0   Sun  Dinner     4  0.141804\n",
              "  12        15.42  1.57    Male       0   Sun  Dinner     2  0.101816\n",
              "  13        18.43  3.00    Male       0   Sun  Dinner     4  0.162778\n",
              "  14        14.83  3.02  Female       0   Sun  Dinner     2  0.203641\n",
              "  15        21.58  3.92    Male       0   Sun  Dinner     2  0.181650\n",
              "  16        10.33  1.67  Female       0   Sun  Dinner     3  0.161665\n",
              "  17        16.29  3.71    Male       0   Sun  Dinner     3  0.227747\n",
              "  18        16.97  3.50  Female       0   Sun  Dinner     3  0.206246\n",
              "  19        20.65  3.35    Male       0   Sat  Dinner     3  0.162228\n",
              "  20        17.92  4.08    Male       0   Sat  Dinner     2  0.227679\n",
              "  21        20.29  2.75  Female       0   Sat  Dinner     2  0.135535\n",
              "  22        15.77  2.23  Female       0   Sat  Dinner     2  0.141408\n",
              "  23        39.42  7.58    Male       0   Sat  Dinner     4  0.192288\n",
              "  24        19.82  3.18    Male       0   Sat  Dinner     2  0.160444\n",
              "  25        17.81  2.34    Male       0   Sat  Dinner     4  0.131387\n",
              "  26        13.37  2.00    Male       0   Sat  Dinner     2  0.149589\n",
              "  27        12.69  2.00    Male       0   Sat  Dinner     2  0.157604\n",
              "  28        21.70  4.30    Male       0   Sat  Dinner     2  0.198157\n",
              "  29        19.65  3.00  Female       0   Sat  Dinner     2  0.152672\n",
              "  ..          ...   ...     ...     ...   ...     ...   ...       ...\n",
              "  214       28.17  6.50  Female       1   Sat  Dinner     3  0.230742\n",
              "  215       12.90  1.10  Female       1   Sat  Dinner     2  0.085271\n",
              "  216       28.15  3.00    Male       1   Sat  Dinner     5  0.106572\n",
              "  217       11.59  1.50    Male       1   Sat  Dinner     2  0.129422\n",
              "  218        7.74  1.44    Male       1   Sat  Dinner     2  0.186047\n",
              "  219       30.14  3.09  Female       1   Sat  Dinner     4  0.102522\n",
              "  220       12.16  2.20    Male       1   Fri   Lunch     2  0.180921\n",
              "  221       13.42  3.48  Female       1   Fri   Lunch     2  0.259314\n",
              "  222        8.58  1.92    Male       1   Fri   Lunch     1  0.223776\n",
              "  223       15.98  3.00  Female       0   Fri   Lunch     3  0.187735\n",
              "  224       13.42  1.58    Male       1   Fri   Lunch     2  0.117735\n",
              "  225       16.27  2.50  Female       1   Fri   Lunch     2  0.153657\n",
              "  226       10.09  2.00  Female       1   Fri   Lunch     2  0.198216\n",
              "  227       20.45  3.00    Male       0   Sat  Dinner     4  0.146699\n",
              "  228       13.28  2.72    Male       0   Sat  Dinner     2  0.204819\n",
              "  229       22.12  2.88  Female       1   Sat  Dinner     2  0.130199\n",
              "  230       24.01  2.00    Male       1   Sat  Dinner     4  0.083299\n",
              "  231       15.69  3.00    Male       1   Sat  Dinner     3  0.191205\n",
              "  232       11.61  3.39    Male       0   Sat  Dinner     2  0.291990\n",
              "  233       10.77  1.47    Male       0   Sat  Dinner     2  0.136490\n",
              "  234       15.53  3.00    Male       1   Sat  Dinner     2  0.193175\n",
              "  235       10.07  1.25    Male       0   Sat  Dinner     2  0.124131\n",
              "  236       12.60  1.00    Male       1   Sat  Dinner     2  0.079365\n",
              "  237       32.83  1.17    Male       1   Sat  Dinner     2  0.035638\n",
              "  238       35.83  4.67  Female       0   Sat  Dinner     3  0.130338\n",
              "  239       29.03  5.92    Male       0   Sat  Dinner     3  0.203927\n",
              "  240       27.18  2.00  Female       1   Sat  Dinner     2  0.073584\n",
              "  241       22.67  2.00    Male       1   Sat  Dinner     2  0.088222\n",
              "  242       17.82  1.75    Male       0   Sat  Dinner     2  0.098204\n",
              "  243       18.78  3.00  Female       0  Thur  Dinner     2  0.159744\n",
              "  \n",
              "  [244 rows x 8 columns],\n",
              "  encoding: EncodingWithFacet({\n",
              "    color: Color({\n",
              "      shorthand: 'size'\n",
              "    }),\n",
              "    x: X({\n",
              "      shorthand: 'day'\n",
              "    }),\n",
              "    y: Y({\n",
              "      shorthand: 'tip'\n",
              "    })\n",
              "  }),\n",
              "  mark: 'point'\n",
              "})"
            ],
            "text/html": [
              "<!DOCTYPE html>\n",
              "<html>\n",
              "<head>\n",
              "  <style>\n",
              "    .vega-actions a {\n",
              "        margin-right: 12px;\n",
              "        color: #757575;\n",
              "        font-weight: normal;\n",
              "        font-size: 13px;\n",
              "    }\n",
              "    .error {\n",
              "        color: red;\n",
              "    }\n",
              "  </style>\n",
              "  <script type=\"text/javascript\" src=\"https://cdn.jsdelivr.net/npm//vega@4\"></script>\n",
              "  <script type=\"text/javascript\" src=\"https://cdn.jsdelivr.net/npm//vega-lite@2.6.0\"></script>\n",
              "  <script type=\"text/javascript\" src=\"https://cdn.jsdelivr.net/npm//vega-embed@3\"></script>\n",
              "</head>\n",
              "<body>\n",
              "  <div id=\"altair-viz\"></div>\n",
              "  <script>\n",
              "      var spec = {\"config\": {\"view\": {\"width\": 400, \"height\": 300}}, \"data\": {\"name\": \"data-63180bc5a89074d414af6bc924ab5b46\"}, \"mark\": \"point\", \"encoding\": {\"color\": {\"type\": \"quantitative\", \"field\": \"size\"}, \"x\": {\"type\": \"nominal\", \"field\": \"day\"}, \"y\": {\"type\": \"quantitative\", \"field\": \"tip\"}}, \"$schema\": \"https://vega.github.io/schema/vega-lite/v2.6.0.json\", \"datasets\": {\"data-63180bc5a89074d414af6bc924ab5b46\": [{\"total_bill\": 16.99, \"tip\": 1.01, \"sex\": \"Female\", \"smoker\": 0, \"day\": \"Sun\", \"time\": \"Dinner\", \"size\": 2, \"percent\": 0.05944673337257211}, {\"total_bill\": 10.34, \"tip\": 1.66, \"sex\": \"Male\", \"smoker\": 0, \"day\": \"Sun\", \"time\": \"Dinner\", \"size\": 3, \"percent\": 0.16054158607350097}, {\"total_bill\": 21.01, \"tip\": 3.5, \"sex\": \"Male\", \"smoker\": 0, \"day\": \"Sun\", \"time\": \"Dinner\", \"size\": 3, \"percent\": 0.16658733936220846}, {\"total_bill\": 23.68, \"tip\": 3.31, \"sex\": \"Male\", \"smoker\": 0, \"day\": \"Sun\", \"time\": \"Dinner\", \"size\": 2, \"percent\": 0.1397804054054054}, {\"total_bill\": 24.59, \"tip\": 3.61, \"sex\": \"Female\", \"smoker\": 0, \"day\": \"Sun\", \"time\": \"Dinner\", \"size\": 4, \"percent\": 0.14680764538430255}, {\"total_bill\": 25.29, \"tip\": 4.71, \"sex\": \"Male\", \"smoker\": 0, \"day\": \"Sun\", \"time\": \"Dinner\", \"size\": 4, \"percent\": 0.18623962040332148}, {\"total_bill\": 8.77, \"tip\": 2.0, \"sex\": \"Male\", \"smoker\": 0, \"day\": \"Sun\", \"time\": \"Dinner\", \"size\": 2, \"percent\": 0.22805017103762829}, {\"total_bill\": 26.88, \"tip\": 3.12, \"sex\": \"Male\", \"smoker\": 0, \"day\": \"Sun\", \"time\": \"Dinner\", \"size\": 4, \"percent\": 0.11607142857142858}, {\"total_bill\": 15.04, \"tip\": 1.96, \"sex\": \"Male\", \"smoker\": 0, \"day\": \"Sun\", \"time\": \"Dinner\", \"size\": 2, \"percent\": 0.13031914893617022}, {\"total_bill\": 14.78, \"tip\": 3.23, \"sex\": \"Male\", \"smoker\": 0, \"day\": \"Sun\", \"time\": \"Dinner\", \"size\": 2, \"percent\": 0.2185385656292287}, {\"total_bill\": 10.27, \"tip\": 1.71, \"sex\": \"Male\", \"smoker\": 0, \"day\": \"Sun\", \"time\": \"Dinner\", \"size\": 2, \"percent\": 0.1665043816942551}, {\"total_bill\": 35.26, \"tip\": 5.0, \"sex\": \"Female\", \"smoker\": 0, \"day\": \"Sun\", \"time\": \"Dinner\", \"size\": 4, \"percent\": 0.14180374361883155}, {\"total_bill\": 15.42, \"tip\": 1.57, \"sex\": \"Male\", \"smoker\": 0, \"day\": \"Sun\", \"time\": \"Dinner\", \"size\": 2, \"percent\": 0.10181582360570687}, {\"total_bill\": 18.43, \"tip\": 3.0, \"sex\": \"Male\", \"smoker\": 0, \"day\": \"Sun\", \"time\": \"Dinner\", \"size\": 4, \"percent\": 0.16277807921866522}, {\"total_bill\": 14.83, \"tip\": 3.02, \"sex\": \"Female\", \"smoker\": 0, \"day\": \"Sun\", \"time\": \"Dinner\", \"size\": 2, \"percent\": 0.20364126770060686}, {\"total_bill\": 21.58, \"tip\": 3.92, \"sex\": \"Male\", \"smoker\": 0, \"day\": \"Sun\", \"time\": \"Dinner\", \"size\": 2, \"percent\": 0.18164967562557924}, {\"total_bill\": 10.33, \"tip\": 1.67, \"sex\": \"Female\", \"smoker\": 0, \"day\": \"Sun\", \"time\": \"Dinner\", \"size\": 3, \"percent\": 0.1616650532429816}, {\"total_bill\": 16.29, \"tip\": 3.71, \"sex\": \"Male\", \"smoker\": 0, \"day\": \"Sun\", \"time\": \"Dinner\", \"size\": 3, \"percent\": 0.22774708410067526}, {\"total_bill\": 16.97, \"tip\": 3.5, \"sex\": \"Female\", \"smoker\": 0, \"day\": \"Sun\", \"time\": \"Dinner\", \"size\": 3, \"percent\": 0.20624631703005306}, {\"total_bill\": 20.65, \"tip\": 3.35, \"sex\": \"Male\", \"smoker\": 0, \"day\": \"Sat\", \"time\": \"Dinner\", \"size\": 3, \"percent\": 0.16222760290556903}, {\"total_bill\": 17.92, \"tip\": 4.08, \"sex\": \"Male\", \"smoker\": 0, \"day\": \"Sat\", \"time\": \"Dinner\", \"size\": 2, \"percent\": 0.22767857142857142}, {\"total_bill\": 20.29, \"tip\": 2.75, \"sex\": \"Female\", \"smoker\": 0, \"day\": \"Sat\", \"time\": \"Dinner\", \"size\": 2, \"percent\": 0.13553474618038444}, {\"total_bill\": 15.77, \"tip\": 2.23, \"sex\": \"Female\", \"smoker\": 0, \"day\": \"Sat\", \"time\": \"Dinner\", \"size\": 2, \"percent\": 0.14140773620798985}, {\"total_bill\": 39.42, \"tip\": 7.58, \"sex\": \"Male\", \"smoker\": 0, \"day\": \"Sat\", \"time\": \"Dinner\", \"size\": 4, \"percent\": 0.19228817858954844}, {\"total_bill\": 19.82, \"tip\": 3.18, \"sex\": \"Male\", \"smoker\": 0, \"day\": \"Sat\", \"time\": \"Dinner\", \"size\": 2, \"percent\": 0.16044399596367306}, {\"total_bill\": 17.81, \"tip\": 2.34, \"sex\": \"Male\", \"smoker\": 0, \"day\": \"Sat\", \"time\": \"Dinner\", \"size\": 4, \"percent\": 0.13138686131386862}, {\"total_bill\": 13.37, \"tip\": 2.0, \"sex\": \"Male\", \"smoker\": 0, \"day\": \"Sat\", \"time\": \"Dinner\", \"size\": 2, \"percent\": 0.14958863126402394}, {\"total_bill\": 12.69, \"tip\": 2.0, \"sex\": \"Male\", \"smoker\": 0, \"day\": \"Sat\", \"time\": \"Dinner\", \"size\": 2, \"percent\": 0.15760441292356187}, {\"total_bill\": 21.7, \"tip\": 4.3, \"sex\": \"Male\", \"smoker\": 0, \"day\": \"Sat\", \"time\": \"Dinner\", \"size\": 2, \"percent\": 0.19815668202764977}, {\"total_bill\": 19.65, \"tip\": 3.0, \"sex\": \"Female\", \"smoker\": 0, \"day\": \"Sat\", \"time\": \"Dinner\", \"size\": 2, \"percent\": 0.15267175572519084}, {\"total_bill\": 9.55, \"tip\": 1.45, \"sex\": \"Male\", \"smoker\": 0, \"day\": \"Sat\", \"time\": \"Dinner\", \"size\": 2, \"percent\": 0.1518324607329843}, {\"total_bill\": 18.35, \"tip\": 2.5, \"sex\": \"Male\", \"smoker\": 0, \"day\": \"Sat\", \"time\": \"Dinner\", \"size\": 4, \"percent\": 0.13623978201634876}, {\"total_bill\": 15.06, \"tip\": 3.0, \"sex\": \"Female\", \"smoker\": 0, \"day\": \"Sat\", \"time\": \"Dinner\", \"size\": 2, \"percent\": 0.199203187250996}, {\"total_bill\": 20.69, \"tip\": 2.45, \"sex\": \"Female\", \"smoker\": 0, \"day\": \"Sat\", \"time\": \"Dinner\", \"size\": 4, \"percent\": 0.11841469308844853}, {\"total_bill\": 17.78, \"tip\": 3.27, \"sex\": \"Male\", \"smoker\": 0, \"day\": \"Sat\", \"time\": \"Dinner\", \"size\": 2, \"percent\": 0.1839145106861642}, {\"total_bill\": 24.06, \"tip\": 3.6, \"sex\": \"Male\", \"smoker\": 0, \"day\": \"Sat\", \"time\": \"Dinner\", \"size\": 3, \"percent\": 0.14962593516209477}, {\"total_bill\": 16.31, \"tip\": 2.0, \"sex\": \"Male\", \"smoker\": 0, \"day\": \"Sat\", \"time\": \"Dinner\", \"size\": 3, \"percent\": 0.12262415695892091}, {\"total_bill\": 16.93, \"tip\": 3.07, \"sex\": \"Female\", \"smoker\": 0, \"day\": \"Sat\", \"time\": \"Dinner\", \"size\": 3, \"percent\": 0.1813349084465446}, {\"total_bill\": 18.69, \"tip\": 2.31, \"sex\": \"Male\", \"smoker\": 0, \"day\": \"Sat\", \"time\": \"Dinner\", \"size\": 3, \"percent\": 0.12359550561797752}, {\"total_bill\": 31.27, \"tip\": 5.0, \"sex\": \"Male\", \"smoker\": 0, \"day\": \"Sat\", \"time\": \"Dinner\", \"size\": 3, \"percent\": 0.1598976654940838}, {\"total_bill\": 16.04, \"tip\": 2.24, \"sex\": \"Male\", \"smoker\": 0, \"day\": \"Sat\", \"time\": \"Dinner\", \"size\": 3, \"percent\": 0.13965087281795513}, {\"total_bill\": 17.46, \"tip\": 2.54, \"sex\": \"Male\", \"smoker\": 0, \"day\": \"Sun\", \"time\": \"Dinner\", \"size\": 2, \"percent\": 0.14547537227949597}, {\"total_bill\": 13.94, \"tip\": 3.06, \"sex\": \"Male\", \"smoker\": 0, \"day\": \"Sun\", \"time\": \"Dinner\", \"size\": 2, \"percent\": 0.21951219512195122}, {\"total_bill\": 9.68, \"tip\": 1.32, \"sex\": \"Male\", \"smoker\": 0, \"day\": \"Sun\", \"time\": \"Dinner\", \"size\": 2, \"percent\": 0.13636363636363638}, {\"total_bill\": 30.4, \"tip\": 5.6, \"sex\": \"Male\", \"smoker\": 0, \"day\": \"Sun\", \"time\": \"Dinner\", \"size\": 4, \"percent\": 0.18421052631578946}, {\"total_bill\": 18.29, \"tip\": 3.0, \"sex\": \"Male\", \"smoker\": 0, \"day\": \"Sun\", \"time\": \"Dinner\", \"size\": 2, \"percent\": 0.16402405686167304}, {\"total_bill\": 22.23, \"tip\": 5.0, \"sex\": \"Male\", \"smoker\": 0, \"day\": \"Sun\", \"time\": \"Dinner\", \"size\": 2, \"percent\": 0.22492127755285649}, {\"total_bill\": 32.4, \"tip\": 6.0, \"sex\": \"Male\", \"smoker\": 0, \"day\": \"Sun\", \"time\": \"Dinner\", \"size\": 4, \"percent\": 0.1851851851851852}, {\"total_bill\": 28.55, \"tip\": 2.05, \"sex\": \"Male\", \"smoker\": 0, \"day\": \"Sun\", \"time\": \"Dinner\", \"size\": 3, \"percent\": 0.07180385288966724}, {\"total_bill\": 18.04, \"tip\": 3.0, \"sex\": \"Male\", \"smoker\": 0, \"day\": \"Sun\", \"time\": \"Dinner\", \"size\": 2, \"percent\": 0.16629711751662973}, {\"total_bill\": 12.54, \"tip\": 2.5, \"sex\": \"Male\", \"smoker\": 0, \"day\": \"Sun\", \"time\": \"Dinner\", \"size\": 2, \"percent\": 0.19936204146730463}, {\"total_bill\": 10.29, \"tip\": 2.6, \"sex\": \"Female\", \"smoker\": 0, \"day\": \"Sun\", \"time\": \"Dinner\", \"size\": 2, \"percent\": 0.2526724975704568}, {\"total_bill\": 34.81, \"tip\": 5.2, \"sex\": \"Female\", \"smoker\": 0, \"day\": \"Sun\", \"time\": \"Dinner\", \"size\": 4, \"percent\": 0.14938236139040506}, {\"total_bill\": 9.94, \"tip\": 1.56, \"sex\": \"Male\", \"smoker\": 0, \"day\": \"Sun\", \"time\": \"Dinner\", \"size\": 2, \"percent\": 0.15694164989939638}, {\"total_bill\": 25.56, \"tip\": 4.34, \"sex\": \"Male\", \"smoker\": 0, \"day\": \"Sun\", \"time\": \"Dinner\", \"size\": 4, \"percent\": 0.1697965571205008}, {\"total_bill\": 19.49, \"tip\": 3.51, \"sex\": \"Male\", \"smoker\": 0, \"day\": \"Sun\", \"time\": \"Dinner\", \"size\": 2, \"percent\": 0.18009235505387378}, {\"total_bill\": 38.01, \"tip\": 3.0, \"sex\": \"Male\", \"smoker\": 1, \"day\": \"Sat\", \"time\": \"Dinner\", \"size\": 4, \"percent\": 0.07892659826361484}, {\"total_bill\": 26.41, \"tip\": 1.5, \"sex\": \"Female\", \"smoker\": 0, \"day\": \"Sat\", \"time\": \"Dinner\", \"size\": 2, \"percent\": 0.05679666792881484}, {\"total_bill\": 11.24, \"tip\": 1.76, \"sex\": \"Male\", \"smoker\": 1, \"day\": \"Sat\", \"time\": \"Dinner\", \"size\": 2, \"percent\": 0.15658362989323843}, {\"total_bill\": 48.27, \"tip\": 6.73, \"sex\": \"Male\", \"smoker\": 0, \"day\": \"Sat\", \"time\": \"Dinner\", \"size\": 4, \"percent\": 0.13942407292314066}, {\"total_bill\": 20.29, \"tip\": 3.21, \"sex\": \"Male\", \"smoker\": 1, \"day\": \"Sat\", \"time\": \"Dinner\", \"size\": 2, \"percent\": 0.1582060128141942}, {\"total_bill\": 13.81, \"tip\": 2.0, \"sex\": \"Male\", \"smoker\": 1, \"day\": \"Sat\", \"time\": \"Dinner\", \"size\": 2, \"percent\": 0.1448225923244026}, {\"total_bill\": 11.02, \"tip\": 1.98, \"sex\": \"Male\", \"smoker\": 1, \"day\": \"Sat\", \"time\": \"Dinner\", \"size\": 2, \"percent\": 0.17967332123411978}, {\"total_bill\": 18.29, \"tip\": 3.76, \"sex\": \"Male\", \"smoker\": 1, \"day\": \"Sat\", \"time\": \"Dinner\", \"size\": 4, \"percent\": 0.20557681793329688}, {\"total_bill\": 17.59, \"tip\": 2.64, \"sex\": \"Male\", \"smoker\": 0, \"day\": \"Sat\", \"time\": \"Dinner\", \"size\": 3, \"percent\": 0.15008527572484368}, {\"total_bill\": 20.08, \"tip\": 3.15, \"sex\": \"Male\", \"smoker\": 0, \"day\": \"Sat\", \"time\": \"Dinner\", \"size\": 3, \"percent\": 0.15687250996015936}, {\"total_bill\": 16.45, \"tip\": 2.47, \"sex\": \"Female\", \"smoker\": 0, \"day\": \"Sat\", \"time\": \"Dinner\", \"size\": 2, \"percent\": 0.1501519756838906}, {\"total_bill\": 3.07, \"tip\": 1.0, \"sex\": \"Female\", \"smoker\": 1, \"day\": \"Sat\", \"time\": \"Dinner\", \"size\": 1, \"percent\": 0.32573289902280134}, {\"total_bill\": 20.23, \"tip\": 2.01, \"sex\": \"Male\", \"smoker\": 0, \"day\": \"Sat\", \"time\": \"Dinner\", \"size\": 2, \"percent\": 0.09935739001482945}, {\"total_bill\": 15.01, \"tip\": 2.09, \"sex\": \"Male\", \"smoker\": 1, \"day\": \"Sat\", \"time\": \"Dinner\", \"size\": 2, \"percent\": 0.13924050632911392}, {\"total_bill\": 12.02, \"tip\": 1.97, \"sex\": \"Male\", \"smoker\": 0, \"day\": \"Sat\", \"time\": \"Dinner\", \"size\": 2, \"percent\": 0.1638935108153078}, {\"total_bill\": 17.07, \"tip\": 3.0, \"sex\": \"Female\", \"smoker\": 0, \"day\": \"Sat\", \"time\": \"Dinner\", \"size\": 3, \"percent\": 0.1757469244288225}, {\"total_bill\": 26.86, \"tip\": 3.14, \"sex\": \"Female\", \"smoker\": 1, \"day\": \"Sat\", \"time\": \"Dinner\", \"size\": 2, \"percent\": 0.11690245718540582}, {\"total_bill\": 25.28, \"tip\": 5.0, \"sex\": \"Female\", \"smoker\": 1, \"day\": \"Sat\", \"time\": \"Dinner\", \"size\": 2, \"percent\": 0.19778481012658228}, {\"total_bill\": 14.73, \"tip\": 2.2, \"sex\": \"Female\", \"smoker\": 0, \"day\": \"Sat\", \"time\": \"Dinner\", \"size\": 2, \"percent\": 0.14935505770536323}, {\"total_bill\": 10.51, \"tip\": 1.25, \"sex\": \"Male\", \"smoker\": 0, \"day\": \"Sat\", \"time\": \"Dinner\", \"size\": 2, \"percent\": 0.11893434823977164}, {\"total_bill\": 17.92, \"tip\": 3.08, \"sex\": \"Male\", \"smoker\": 1, \"day\": \"Sat\", \"time\": \"Dinner\", \"size\": 2, \"percent\": 0.171875}, {\"total_bill\": 27.2, \"tip\": 4.0, \"sex\": \"Male\", \"smoker\": 0, \"day\": \"Thur\", \"time\": \"Lunch\", \"size\": 4, \"percent\": 0.14705882352941177}, {\"total_bill\": 22.76, \"tip\": 3.0, \"sex\": \"Male\", \"smoker\": 0, \"day\": \"Thur\", \"time\": \"Lunch\", \"size\": 2, \"percent\": 0.13181019332161686}, {\"total_bill\": 17.29, \"tip\": 2.71, \"sex\": \"Male\", \"smoker\": 0, \"day\": \"Thur\", \"time\": \"Lunch\", \"size\": 2, \"percent\": 0.156737998843262}, {\"total_bill\": 19.44, \"tip\": 3.0, \"sex\": \"Male\", \"smoker\": 1, \"day\": \"Thur\", \"time\": \"Lunch\", \"size\": 2, \"percent\": 0.15432098765432098}, {\"total_bill\": 16.66, \"tip\": 3.4, \"sex\": \"Male\", \"smoker\": 0, \"day\": \"Thur\", \"time\": \"Lunch\", \"size\": 2, \"percent\": 0.20408163265306123}, {\"total_bill\": 10.07, \"tip\": 1.83, \"sex\": \"Female\", \"smoker\": 0, \"day\": \"Thur\", \"time\": \"Lunch\", \"size\": 1, \"percent\": 0.1817279046673287}, {\"total_bill\": 32.68, \"tip\": 5.0, \"sex\": \"Male\", \"smoker\": 1, \"day\": \"Thur\", \"time\": \"Lunch\", \"size\": 2, \"percent\": 0.15299877600979192}, {\"total_bill\": 15.98, \"tip\": 2.03, \"sex\": \"Male\", \"smoker\": 0, \"day\": \"Thur\", \"time\": \"Lunch\", \"size\": 2, \"percent\": 0.12703379224030037}, {\"total_bill\": 34.83, \"tip\": 5.17, \"sex\": \"Female\", \"smoker\": 0, \"day\": \"Thur\", \"time\": \"Lunch\", \"size\": 4, \"percent\": 0.14843525696238874}, {\"total_bill\": 13.03, \"tip\": 2.0, \"sex\": \"Male\", \"smoker\": 0, \"day\": \"Thur\", \"time\": \"Lunch\", \"size\": 2, \"percent\": 0.15349194167306218}, {\"total_bill\": 18.28, \"tip\": 4.0, \"sex\": \"Male\", \"smoker\": 0, \"day\": \"Thur\", \"time\": \"Lunch\", \"size\": 2, \"percent\": 0.2188183807439825}, {\"total_bill\": 24.71, \"tip\": 5.85, \"sex\": \"Male\", \"smoker\": 0, \"day\": \"Thur\", \"time\": \"Lunch\", \"size\": 2, \"percent\": 0.23674625657628487}, {\"total_bill\": 21.16, \"tip\": 3.0, \"sex\": \"Male\", \"smoker\": 0, \"day\": \"Thur\", \"time\": \"Lunch\", \"size\": 2, \"percent\": 0.14177693761814744}, {\"total_bill\": 28.97, \"tip\": 3.0, \"sex\": \"Male\", \"smoker\": 1, \"day\": \"Fri\", \"time\": \"Dinner\", \"size\": 2, \"percent\": 0.10355540214014498}, {\"total_bill\": 22.49, \"tip\": 3.5, \"sex\": \"Male\", \"smoker\": 0, \"day\": \"Fri\", \"time\": \"Dinner\", \"size\": 2, \"percent\": 0.15562472209871056}, {\"total_bill\": 5.75, \"tip\": 1.0, \"sex\": \"Female\", \"smoker\": 1, \"day\": \"Fri\", \"time\": \"Dinner\", \"size\": 2, \"percent\": 0.17391304347826086}, {\"total_bill\": 16.32, \"tip\": 4.3, \"sex\": \"Female\", \"smoker\": 1, \"day\": \"Fri\", \"time\": \"Dinner\", \"size\": 2, \"percent\": 0.26348039215686275}, {\"total_bill\": 22.75, \"tip\": 3.25, \"sex\": \"Female\", \"smoker\": 0, \"day\": \"Fri\", \"time\": \"Dinner\", \"size\": 2, \"percent\": 0.14285714285714285}, {\"total_bill\": 40.17, \"tip\": 4.73, \"sex\": \"Male\", \"smoker\": 1, \"day\": \"Fri\", \"time\": \"Dinner\", \"size\": 4, \"percent\": 0.1177495643515061}, {\"total_bill\": 27.28, \"tip\": 4.0, \"sex\": \"Male\", \"smoker\": 1, \"day\": \"Fri\", \"time\": \"Dinner\", \"size\": 2, \"percent\": 0.14662756598240467}, {\"total_bill\": 12.03, \"tip\": 1.5, \"sex\": \"Male\", \"smoker\": 1, \"day\": \"Fri\", \"time\": \"Dinner\", \"size\": 2, \"percent\": 0.12468827930174564}, {\"total_bill\": 21.01, \"tip\": 3.0, \"sex\": \"Male\", \"smoker\": 1, \"day\": \"Fri\", \"time\": \"Dinner\", \"size\": 2, \"percent\": 0.1427891480247501}, {\"total_bill\": 12.46, \"tip\": 1.5, \"sex\": \"Male\", \"smoker\": 0, \"day\": \"Fri\", \"time\": \"Dinner\", \"size\": 2, \"percent\": 0.1203852327447833}, {\"total_bill\": 11.35, \"tip\": 2.5, \"sex\": \"Female\", \"smoker\": 1, \"day\": \"Fri\", \"time\": \"Dinner\", \"size\": 2, \"percent\": 0.22026431718061676}, {\"total_bill\": 15.38, \"tip\": 3.0, \"sex\": \"Female\", \"smoker\": 1, \"day\": \"Fri\", \"time\": \"Dinner\", \"size\": 2, \"percent\": 0.19505851755526657}, {\"total_bill\": 44.3, \"tip\": 2.5, \"sex\": \"Female\", \"smoker\": 1, \"day\": \"Sat\", \"time\": \"Dinner\", \"size\": 3, \"percent\": 0.05643340857787811}, {\"total_bill\": 22.42, \"tip\": 3.48, \"sex\": \"Female\", \"smoker\": 1, \"day\": \"Sat\", \"time\": \"Dinner\", \"size\": 2, \"percent\": 0.15521855486173058}, {\"total_bill\": 20.92, \"tip\": 4.08, \"sex\": \"Female\", \"smoker\": 0, \"day\": \"Sat\", \"time\": \"Dinner\", \"size\": 2, \"percent\": 0.1950286806883365}, {\"total_bill\": 15.36, \"tip\": 1.64, \"sex\": \"Male\", \"smoker\": 1, \"day\": \"Sat\", \"time\": \"Dinner\", \"size\": 2, \"percent\": 0.10677083333333333}, {\"total_bill\": 20.49, \"tip\": 4.06, \"sex\": \"Male\", \"smoker\": 1, \"day\": \"Sat\", \"time\": \"Dinner\", \"size\": 2, \"percent\": 0.19814543679843827}, {\"total_bill\": 25.21, \"tip\": 4.29, \"sex\": \"Male\", \"smoker\": 1, \"day\": \"Sat\", \"time\": \"Dinner\", \"size\": 2, \"percent\": 0.1701705672352241}, {\"total_bill\": 18.24, \"tip\": 3.76, \"sex\": \"Male\", \"smoker\": 0, \"day\": \"Sat\", \"time\": \"Dinner\", \"size\": 2, \"percent\": 0.20614035087719298}, {\"total_bill\": 14.31, \"tip\": 4.0, \"sex\": \"Female\", \"smoker\": 1, \"day\": \"Sat\", \"time\": \"Dinner\", \"size\": 2, \"percent\": 0.2795248078266946}, {\"total_bill\": 14.0, \"tip\": 3.0, \"sex\": \"Male\", \"smoker\": 0, \"day\": \"Sat\", \"time\": \"Dinner\", \"size\": 2, \"percent\": 0.21428571428571427}, {\"total_bill\": 7.25, \"tip\": 1.0, \"sex\": \"Female\", \"smoker\": 0, \"day\": \"Sat\", \"time\": \"Dinner\", \"size\": 1, \"percent\": 0.13793103448275862}, {\"total_bill\": 38.07, \"tip\": 4.0, \"sex\": \"Male\", \"smoker\": 0, \"day\": \"Sun\", \"time\": \"Dinner\", \"size\": 3, \"percent\": 0.10506960861570791}, {\"total_bill\": 23.95, \"tip\": 2.55, \"sex\": \"Male\", \"smoker\": 0, \"day\": \"Sun\", \"time\": \"Dinner\", \"size\": 2, \"percent\": 0.10647181628392484}, {\"total_bill\": 25.71, \"tip\": 4.0, \"sex\": \"Female\", \"smoker\": 0, \"day\": \"Sun\", \"time\": \"Dinner\", \"size\": 3, \"percent\": 0.15558148580318942}, {\"total_bill\": 17.31, \"tip\": 3.5, \"sex\": \"Female\", \"smoker\": 0, \"day\": \"Sun\", \"time\": \"Dinner\", \"size\": 2, \"percent\": 0.20219526285384173}, {\"total_bill\": 29.93, \"tip\": 5.07, \"sex\": \"Male\", \"smoker\": 0, \"day\": \"Sun\", \"time\": \"Dinner\", \"size\": 4, \"percent\": 0.1693952555963916}, {\"total_bill\": 10.65, \"tip\": 1.5, \"sex\": \"Female\", \"smoker\": 0, \"day\": \"Thur\", \"time\": \"Lunch\", \"size\": 2, \"percent\": 0.14084507042253522}, {\"total_bill\": 12.43, \"tip\": 1.8, \"sex\": \"Female\", \"smoker\": 0, \"day\": \"Thur\", \"time\": \"Lunch\", \"size\": 2, \"percent\": 0.14481094127111827}, {\"total_bill\": 24.08, \"tip\": 2.92, \"sex\": \"Female\", \"smoker\": 0, \"day\": \"Thur\", \"time\": \"Lunch\", \"size\": 4, \"percent\": 0.1212624584717608}, {\"total_bill\": 11.69, \"tip\": 2.31, \"sex\": \"Male\", \"smoker\": 0, \"day\": \"Thur\", \"time\": \"Lunch\", \"size\": 2, \"percent\": 0.19760479041916168}, {\"total_bill\": 13.42, \"tip\": 1.68, \"sex\": \"Female\", \"smoker\": 0, \"day\": \"Thur\", \"time\": \"Lunch\", \"size\": 2, \"percent\": 0.12518628912071533}, {\"total_bill\": 14.26, \"tip\": 2.5, \"sex\": \"Male\", \"smoker\": 0, \"day\": \"Thur\", \"time\": \"Lunch\", \"size\": 2, \"percent\": 0.1753155680224404}, {\"total_bill\": 15.95, \"tip\": 2.0, \"sex\": \"Male\", \"smoker\": 0, \"day\": \"Thur\", \"time\": \"Lunch\", \"size\": 2, \"percent\": 0.12539184952978058}, {\"total_bill\": 12.48, \"tip\": 2.52, \"sex\": \"Female\", \"smoker\": 0, \"day\": \"Thur\", \"time\": \"Lunch\", \"size\": 2, \"percent\": 0.20192307692307693}, {\"total_bill\": 29.8, \"tip\": 4.2, \"sex\": \"Female\", \"smoker\": 0, \"day\": \"Thur\", \"time\": \"Lunch\", \"size\": 6, \"percent\": 0.14093959731543623}, {\"total_bill\": 8.52, \"tip\": 1.48, \"sex\": \"Male\", \"smoker\": 0, \"day\": \"Thur\", \"time\": \"Lunch\", \"size\": 2, \"percent\": 0.17370892018779344}, {\"total_bill\": 14.52, \"tip\": 2.0, \"sex\": \"Female\", \"smoker\": 0, \"day\": \"Thur\", \"time\": \"Lunch\", \"size\": 2, \"percent\": 0.13774104683195593}, {\"total_bill\": 11.38, \"tip\": 2.0, \"sex\": \"Female\", \"smoker\": 0, \"day\": \"Thur\", \"time\": \"Lunch\", \"size\": 2, \"percent\": 0.17574692442882248}, {\"total_bill\": 22.82, \"tip\": 2.18, \"sex\": \"Male\", \"smoker\": 0, \"day\": \"Thur\", \"time\": \"Lunch\", \"size\": 3, \"percent\": 0.09553023663453111}, {\"total_bill\": 19.08, \"tip\": 1.5, \"sex\": \"Male\", \"smoker\": 0, \"day\": \"Thur\", \"time\": \"Lunch\", \"size\": 2, \"percent\": 0.07861635220125787}, {\"total_bill\": 20.27, \"tip\": 2.83, \"sex\": \"Female\", \"smoker\": 0, \"day\": \"Thur\", \"time\": \"Lunch\", \"size\": 2, \"percent\": 0.13961519486926494}, {\"total_bill\": 11.17, \"tip\": 1.5, \"sex\": \"Female\", \"smoker\": 0, \"day\": \"Thur\", \"time\": \"Lunch\", \"size\": 2, \"percent\": 0.13428827215756492}, {\"total_bill\": 12.26, \"tip\": 2.0, \"sex\": \"Female\", \"smoker\": 0, \"day\": \"Thur\", \"time\": \"Lunch\", \"size\": 2, \"percent\": 0.1631321370309951}, {\"total_bill\": 18.26, \"tip\": 3.25, \"sex\": \"Female\", \"smoker\": 0, \"day\": \"Thur\", \"time\": \"Lunch\", \"size\": 2, \"percent\": 0.17798466593647316}, {\"total_bill\": 8.51, \"tip\": 1.25, \"sex\": \"Female\", \"smoker\": 0, \"day\": \"Thur\", \"time\": \"Lunch\", \"size\": 2, \"percent\": 0.14688601645123384}, {\"total_bill\": 10.33, \"tip\": 2.0, \"sex\": \"Female\", \"smoker\": 0, \"day\": \"Thur\", \"time\": \"Lunch\", \"size\": 2, \"percent\": 0.1936108422071636}, {\"total_bill\": 14.15, \"tip\": 2.0, \"sex\": \"Female\", \"smoker\": 0, \"day\": \"Thur\", \"time\": \"Lunch\", \"size\": 2, \"percent\": 0.1413427561837456}, {\"total_bill\": 16.0, \"tip\": 2.0, \"sex\": \"Male\", \"smoker\": 1, \"day\": \"Thur\", \"time\": \"Lunch\", \"size\": 2, \"percent\": 0.125}, {\"total_bill\": 13.16, \"tip\": 2.75, \"sex\": \"Female\", \"smoker\": 0, \"day\": \"Thur\", \"time\": \"Lunch\", \"size\": 2, \"percent\": 0.20896656534954408}, {\"total_bill\": 17.47, \"tip\": 3.5, \"sex\": \"Female\", \"smoker\": 0, \"day\": \"Thur\", \"time\": \"Lunch\", \"size\": 2, \"percent\": 0.20034344590726963}, {\"total_bill\": 34.3, \"tip\": 6.7, \"sex\": \"Male\", \"smoker\": 0, \"day\": \"Thur\", \"time\": \"Lunch\", \"size\": 6, \"percent\": 0.19533527696793004}, {\"total_bill\": 41.19, \"tip\": 5.0, \"sex\": \"Male\", \"smoker\": 0, \"day\": \"Thur\", \"time\": \"Lunch\", \"size\": 5, \"percent\": 0.12138868657441128}, {\"total_bill\": 27.05, \"tip\": 5.0, \"sex\": \"Female\", \"smoker\": 0, \"day\": \"Thur\", \"time\": \"Lunch\", \"size\": 6, \"percent\": 0.18484288354898337}, {\"total_bill\": 16.43, \"tip\": 2.3, \"sex\": \"Female\", \"smoker\": 0, \"day\": \"Thur\", \"time\": \"Lunch\", \"size\": 2, \"percent\": 0.1399878271454656}, {\"total_bill\": 8.35, \"tip\": 1.5, \"sex\": \"Female\", \"smoker\": 0, \"day\": \"Thur\", \"time\": \"Lunch\", \"size\": 2, \"percent\": 0.17964071856287425}, {\"total_bill\": 18.64, \"tip\": 1.36, \"sex\": \"Female\", \"smoker\": 0, \"day\": \"Thur\", \"time\": \"Lunch\", \"size\": 3, \"percent\": 0.07296137339055794}, {\"total_bill\": 11.87, \"tip\": 1.63, \"sex\": \"Female\", \"smoker\": 0, \"day\": \"Thur\", \"time\": \"Lunch\", \"size\": 2, \"percent\": 0.13732097725358045}, {\"total_bill\": 9.78, \"tip\": 1.73, \"sex\": \"Male\", \"smoker\": 0, \"day\": \"Thur\", \"time\": \"Lunch\", \"size\": 2, \"percent\": 0.1768916155419223}, {\"total_bill\": 7.51, \"tip\": 2.0, \"sex\": \"Male\", \"smoker\": 0, \"day\": \"Thur\", \"time\": \"Lunch\", \"size\": 2, \"percent\": 0.2663115845539281}, {\"total_bill\": 14.07, \"tip\": 2.5, \"sex\": \"Male\", \"smoker\": 0, \"day\": \"Sun\", \"time\": \"Dinner\", \"size\": 2, \"percent\": 0.17768301350390903}, {\"total_bill\": 13.13, \"tip\": 2.0, \"sex\": \"Male\", \"smoker\": 0, \"day\": \"Sun\", \"time\": \"Dinner\", \"size\": 2, \"percent\": 0.15232292460015232}, {\"total_bill\": 17.26, \"tip\": 2.74, \"sex\": \"Male\", \"smoker\": 0, \"day\": \"Sun\", \"time\": \"Dinner\", \"size\": 3, \"percent\": 0.15874855156431053}, {\"total_bill\": 24.55, \"tip\": 2.0, \"sex\": \"Male\", \"smoker\": 0, \"day\": \"Sun\", \"time\": \"Dinner\", \"size\": 4, \"percent\": 0.0814663951120163}, {\"total_bill\": 19.77, \"tip\": 2.0, \"sex\": \"Male\", \"smoker\": 0, \"day\": \"Sun\", \"time\": \"Dinner\", \"size\": 4, \"percent\": 0.10116337885685382}, {\"total_bill\": 29.85, \"tip\": 5.14, \"sex\": \"Female\", \"smoker\": 0, \"day\": \"Sun\", \"time\": \"Dinner\", \"size\": 5, \"percent\": 0.1721943048576214}, {\"total_bill\": 48.17, \"tip\": 5.0, \"sex\": \"Male\", \"smoker\": 0, \"day\": \"Sun\", \"time\": \"Dinner\", \"size\": 6, \"percent\": 0.10379904504878555}, {\"total_bill\": 25.0, \"tip\": 3.75, \"sex\": \"Female\", \"smoker\": 0, \"day\": \"Sun\", \"time\": \"Dinner\", \"size\": 4, \"percent\": 0.15}, {\"total_bill\": 13.39, \"tip\": 2.61, \"sex\": \"Female\", \"smoker\": 0, \"day\": \"Sun\", \"time\": \"Dinner\", \"size\": 2, \"percent\": 0.19492158327109782}, {\"total_bill\": 16.49, \"tip\": 2.0, \"sex\": \"Male\", \"smoker\": 0, \"day\": \"Sun\", \"time\": \"Dinner\", \"size\": 4, \"percent\": 0.12128562765312312}, {\"total_bill\": 21.5, \"tip\": 3.5, \"sex\": \"Male\", \"smoker\": 0, \"day\": \"Sun\", \"time\": \"Dinner\", \"size\": 4, \"percent\": 0.16279069767441862}, {\"total_bill\": 12.66, \"tip\": 2.5, \"sex\": \"Male\", \"smoker\": 0, \"day\": \"Sun\", \"time\": \"Dinner\", \"size\": 2, \"percent\": 0.19747235387045814}, {\"total_bill\": 16.21, \"tip\": 2.0, \"sex\": \"Female\", \"smoker\": 0, \"day\": \"Sun\", \"time\": \"Dinner\", \"size\": 3, \"percent\": 0.12338062924120913}, {\"total_bill\": 13.81, \"tip\": 2.0, \"sex\": \"Male\", \"smoker\": 0, \"day\": \"Sun\", \"time\": \"Dinner\", \"size\": 2, \"percent\": 0.1448225923244026}, {\"total_bill\": 17.51, \"tip\": 3.0, \"sex\": \"Female\", \"smoker\": 1, \"day\": \"Sun\", \"time\": \"Dinner\", \"size\": 2, \"percent\": 0.17133066818960593}, {\"total_bill\": 24.52, \"tip\": 3.48, \"sex\": \"Male\", \"smoker\": 0, \"day\": \"Sun\", \"time\": \"Dinner\", \"size\": 3, \"percent\": 0.14192495921696574}, {\"total_bill\": 20.76, \"tip\": 2.24, \"sex\": \"Male\", \"smoker\": 0, \"day\": \"Sun\", \"time\": \"Dinner\", \"size\": 2, \"percent\": 0.10789980732177264}, {\"total_bill\": 31.71, \"tip\": 4.5, \"sex\": \"Male\", \"smoker\": 0, \"day\": \"Sun\", \"time\": \"Dinner\", \"size\": 4, \"percent\": 0.14191106906338694}, {\"total_bill\": 10.59, \"tip\": 1.61, \"sex\": \"Female\", \"smoker\": 1, \"day\": \"Sat\", \"time\": \"Dinner\", \"size\": 2, \"percent\": 0.15203021718602455}, {\"total_bill\": 10.63, \"tip\": 2.0, \"sex\": \"Female\", \"smoker\": 1, \"day\": \"Sat\", \"time\": \"Dinner\", \"size\": 2, \"percent\": 0.18814675446848542}, {\"total_bill\": 50.81, \"tip\": 10.0, \"sex\": \"Male\", \"smoker\": 1, \"day\": \"Sat\", \"time\": \"Dinner\", \"size\": 3, \"percent\": 0.19681165124975397}, {\"total_bill\": 15.81, \"tip\": 3.16, \"sex\": \"Male\", \"smoker\": 1, \"day\": \"Sat\", \"time\": \"Dinner\", \"size\": 2, \"percent\": 0.19987349778621127}, {\"total_bill\": 7.25, \"tip\": 5.15, \"sex\": \"Male\", \"smoker\": 1, \"day\": \"Sun\", \"time\": \"Dinner\", \"size\": 2, \"percent\": 0.710344827586207}, {\"total_bill\": 31.85, \"tip\": 3.18, \"sex\": \"Male\", \"smoker\": 1, \"day\": \"Sun\", \"time\": \"Dinner\", \"size\": 2, \"percent\": 0.09984301412872841}, {\"total_bill\": 16.82, \"tip\": 4.0, \"sex\": \"Male\", \"smoker\": 1, \"day\": \"Sun\", \"time\": \"Dinner\", \"size\": 2, \"percent\": 0.23781212841854935}, {\"total_bill\": 32.9, \"tip\": 3.11, \"sex\": \"Male\", \"smoker\": 1, \"day\": \"Sun\", \"time\": \"Dinner\", \"size\": 2, \"percent\": 0.0945288753799392}, {\"total_bill\": 17.89, \"tip\": 2.0, \"sex\": \"Male\", \"smoker\": 1, \"day\": \"Sun\", \"time\": \"Dinner\", \"size\": 2, \"percent\": 0.11179429849077696}, {\"total_bill\": 14.48, \"tip\": 2.0, \"sex\": \"Male\", \"smoker\": 1, \"day\": \"Sun\", \"time\": \"Dinner\", \"size\": 2, \"percent\": 0.13812154696132597}, {\"total_bill\": 9.6, \"tip\": 4.0, \"sex\": \"Female\", \"smoker\": 1, \"day\": \"Sun\", \"time\": \"Dinner\", \"size\": 2, \"percent\": 0.4166666666666667}, {\"total_bill\": 34.63, \"tip\": 3.55, \"sex\": \"Male\", \"smoker\": 1, \"day\": \"Sun\", \"time\": \"Dinner\", \"size\": 2, \"percent\": 0.102512272596015}, {\"total_bill\": 34.65, \"tip\": 3.68, \"sex\": \"Male\", \"smoker\": 1, \"day\": \"Sun\", \"time\": \"Dinner\", \"size\": 4, \"percent\": 0.10620490620490622}, {\"total_bill\": 23.33, \"tip\": 5.65, \"sex\": \"Male\", \"smoker\": 1, \"day\": \"Sun\", \"time\": \"Dinner\", \"size\": 2, \"percent\": 0.2421774539219889}, {\"total_bill\": 45.35, \"tip\": 3.5, \"sex\": \"Male\", \"smoker\": 1, \"day\": \"Sun\", \"time\": \"Dinner\", \"size\": 3, \"percent\": 0.07717750826901874}, {\"total_bill\": 23.17, \"tip\": 6.5, \"sex\": \"Male\", \"smoker\": 1, \"day\": \"Sun\", \"time\": \"Dinner\", \"size\": 4, \"percent\": 0.2805351747949935}, {\"total_bill\": 40.55, \"tip\": 3.0, \"sex\": \"Male\", \"smoker\": 1, \"day\": \"Sun\", \"time\": \"Dinner\", \"size\": 2, \"percent\": 0.07398273736128237}, {\"total_bill\": 20.69, \"tip\": 5.0, \"sex\": \"Male\", \"smoker\": 0, \"day\": \"Sun\", \"time\": \"Dinner\", \"size\": 5, \"percent\": 0.2416626389560174}, {\"total_bill\": 20.9, \"tip\": 3.5, \"sex\": \"Female\", \"smoker\": 1, \"day\": \"Sun\", \"time\": \"Dinner\", \"size\": 3, \"percent\": 0.1674641148325359}, {\"total_bill\": 30.46, \"tip\": 2.0, \"sex\": \"Male\", \"smoker\": 1, \"day\": \"Sun\", \"time\": \"Dinner\", \"size\": 5, \"percent\": 0.06565988181221273}, {\"total_bill\": 18.15, \"tip\": 3.5, \"sex\": \"Female\", \"smoker\": 1, \"day\": \"Sun\", \"time\": \"Dinner\", \"size\": 3, \"percent\": 0.1928374655647383}, {\"total_bill\": 23.1, \"tip\": 4.0, \"sex\": \"Male\", \"smoker\": 1, \"day\": \"Sun\", \"time\": \"Dinner\", \"size\": 3, \"percent\": 0.17316017316017315}, {\"total_bill\": 15.69, \"tip\": 1.5, \"sex\": \"Male\", \"smoker\": 1, \"day\": \"Sun\", \"time\": \"Dinner\", \"size\": 2, \"percent\": 0.09560229445506692}, {\"total_bill\": 19.81, \"tip\": 4.19, \"sex\": \"Female\", \"smoker\": 1, \"day\": \"Thur\", \"time\": \"Lunch\", \"size\": 2, \"percent\": 0.21150933871781932}, {\"total_bill\": 28.44, \"tip\": 2.56, \"sex\": \"Male\", \"smoker\": 1, \"day\": \"Thur\", \"time\": \"Lunch\", \"size\": 2, \"percent\": 0.090014064697609}, {\"total_bill\": 15.48, \"tip\": 2.02, \"sex\": \"Male\", \"smoker\": 1, \"day\": \"Thur\", \"time\": \"Lunch\", \"size\": 2, \"percent\": 0.13049095607235142}, {\"total_bill\": 16.58, \"tip\": 4.0, \"sex\": \"Male\", \"smoker\": 1, \"day\": \"Thur\", \"time\": \"Lunch\", \"size\": 2, \"percent\": 0.24125452352231608}, {\"total_bill\": 7.56, \"tip\": 1.44, \"sex\": \"Male\", \"smoker\": 0, \"day\": \"Thur\", \"time\": \"Lunch\", \"size\": 2, \"percent\": 0.19047619047619047}, {\"total_bill\": 10.34, \"tip\": 2.0, \"sex\": \"Male\", \"smoker\": 1, \"day\": \"Thur\", \"time\": \"Lunch\", \"size\": 2, \"percent\": 0.19342359767891684}, {\"total_bill\": 43.11, \"tip\": 5.0, \"sex\": \"Female\", \"smoker\": 1, \"day\": \"Thur\", \"time\": \"Lunch\", \"size\": 4, \"percent\": 0.1159823706796567}, {\"total_bill\": 13.0, \"tip\": 2.0, \"sex\": \"Female\", \"smoker\": 1, \"day\": \"Thur\", \"time\": \"Lunch\", \"size\": 2, \"percent\": 0.15384615384615385}, {\"total_bill\": 13.51, \"tip\": 2.0, \"sex\": \"Male\", \"smoker\": 1, \"day\": \"Thur\", \"time\": \"Lunch\", \"size\": 2, \"percent\": 0.14803849000740193}, {\"total_bill\": 18.71, \"tip\": 4.0, \"sex\": \"Male\", \"smoker\": 1, \"day\": \"Thur\", \"time\": \"Lunch\", \"size\": 3, \"percent\": 0.2137894174238375}, {\"total_bill\": 12.74, \"tip\": 2.01, \"sex\": \"Female\", \"smoker\": 1, \"day\": \"Thur\", \"time\": \"Lunch\", \"size\": 2, \"percent\": 0.15777080062794346}, {\"total_bill\": 13.0, \"tip\": 2.0, \"sex\": \"Female\", \"smoker\": 1, \"day\": \"Thur\", \"time\": \"Lunch\", \"size\": 2, \"percent\": 0.15384615384615385}, {\"total_bill\": 16.4, \"tip\": 2.5, \"sex\": \"Female\", \"smoker\": 1, \"day\": \"Thur\", \"time\": \"Lunch\", \"size\": 2, \"percent\": 0.15243902439024393}, {\"total_bill\": 20.53, \"tip\": 4.0, \"sex\": \"Male\", \"smoker\": 1, \"day\": \"Thur\", \"time\": \"Lunch\", \"size\": 4, \"percent\": 0.1948368241597662}, {\"total_bill\": 16.47, \"tip\": 3.23, \"sex\": \"Female\", \"smoker\": 1, \"day\": \"Thur\", \"time\": \"Lunch\", \"size\": 3, \"percent\": 0.19611414693381907}, {\"total_bill\": 26.59, \"tip\": 3.41, \"sex\": \"Male\", \"smoker\": 1, \"day\": \"Sat\", \"time\": \"Dinner\", \"size\": 3, \"percent\": 0.1282437006393381}, {\"total_bill\": 38.73, \"tip\": 3.0, \"sex\": \"Male\", \"smoker\": 1, \"day\": \"Sat\", \"time\": \"Dinner\", \"size\": 4, \"percent\": 0.0774593338497289}, {\"total_bill\": 24.27, \"tip\": 2.03, \"sex\": \"Male\", \"smoker\": 1, \"day\": \"Sat\", \"time\": \"Dinner\", \"size\": 2, \"percent\": 0.08364235681911825}, {\"total_bill\": 12.76, \"tip\": 2.23, \"sex\": \"Female\", \"smoker\": 1, \"day\": \"Sat\", \"time\": \"Dinner\", \"size\": 2, \"percent\": 0.17476489028213166}, {\"total_bill\": 30.06, \"tip\": 2.0, \"sex\": \"Male\", \"smoker\": 1, \"day\": \"Sat\", \"time\": \"Dinner\", \"size\": 3, \"percent\": 0.06653359946773121}, {\"total_bill\": 25.89, \"tip\": 5.16, \"sex\": \"Male\", \"smoker\": 1, \"day\": \"Sat\", \"time\": \"Dinner\", \"size\": 4, \"percent\": 0.1993047508690614}, {\"total_bill\": 48.33, \"tip\": 9.0, \"sex\": \"Male\", \"smoker\": 0, \"day\": \"Sat\", \"time\": \"Dinner\", \"size\": 4, \"percent\": 0.186219739292365}, {\"total_bill\": 13.27, \"tip\": 2.5, \"sex\": \"Female\", \"smoker\": 1, \"day\": \"Sat\", \"time\": \"Dinner\", \"size\": 2, \"percent\": 0.18839487565938207}, {\"total_bill\": 28.17, \"tip\": 6.5, \"sex\": \"Female\", \"smoker\": 1, \"day\": \"Sat\", \"time\": \"Dinner\", \"size\": 3, \"percent\": 0.23074192403265883}, {\"total_bill\": 12.9, \"tip\": 1.1, \"sex\": \"Female\", \"smoker\": 1, \"day\": \"Sat\", \"time\": \"Dinner\", \"size\": 2, \"percent\": 0.08527131782945736}, {\"total_bill\": 28.15, \"tip\": 3.0, \"sex\": \"Male\", \"smoker\": 1, \"day\": \"Sat\", \"time\": \"Dinner\", \"size\": 5, \"percent\": 0.10657193605683837}, {\"total_bill\": 11.59, \"tip\": 1.5, \"sex\": \"Male\", \"smoker\": 1, \"day\": \"Sat\", \"time\": \"Dinner\", \"size\": 2, \"percent\": 0.12942191544434858}, {\"total_bill\": 7.74, \"tip\": 1.44, \"sex\": \"Male\", \"smoker\": 1, \"day\": \"Sat\", \"time\": \"Dinner\", \"size\": 2, \"percent\": 0.18604651162790697}, {\"total_bill\": 30.14, \"tip\": 3.09, \"sex\": \"Female\", \"smoker\": 1, \"day\": \"Sat\", \"time\": \"Dinner\", \"size\": 4, \"percent\": 0.10252156602521566}, {\"total_bill\": 12.16, \"tip\": 2.2, \"sex\": \"Male\", \"smoker\": 1, \"day\": \"Fri\", \"time\": \"Lunch\", \"size\": 2, \"percent\": 0.18092105263157895}, {\"total_bill\": 13.42, \"tip\": 3.48, \"sex\": \"Female\", \"smoker\": 1, \"day\": \"Fri\", \"time\": \"Lunch\", \"size\": 2, \"percent\": 0.2593144560357675}, {\"total_bill\": 8.58, \"tip\": 1.92, \"sex\": \"Male\", \"smoker\": 1, \"day\": \"Fri\", \"time\": \"Lunch\", \"size\": 1, \"percent\": 0.22377622377622378}, {\"total_bill\": 15.98, \"tip\": 3.0, \"sex\": \"Female\", \"smoker\": 0, \"day\": \"Fri\", \"time\": \"Lunch\", \"size\": 3, \"percent\": 0.18773466833541927}, {\"total_bill\": 13.42, \"tip\": 1.58, \"sex\": \"Male\", \"smoker\": 1, \"day\": \"Fri\", \"time\": \"Lunch\", \"size\": 2, \"percent\": 0.11773472429210134}, {\"total_bill\": 16.27, \"tip\": 2.5, \"sex\": \"Female\", \"smoker\": 1, \"day\": \"Fri\", \"time\": \"Lunch\", \"size\": 2, \"percent\": 0.15365703749231716}, {\"total_bill\": 10.09, \"tip\": 2.0, \"sex\": \"Female\", \"smoker\": 1, \"day\": \"Fri\", \"time\": \"Lunch\", \"size\": 2, \"percent\": 0.19821605550049554}, {\"total_bill\": 20.45, \"tip\": 3.0, \"sex\": \"Male\", \"smoker\": 0, \"day\": \"Sat\", \"time\": \"Dinner\", \"size\": 4, \"percent\": 0.1466992665036675}, {\"total_bill\": 13.28, \"tip\": 2.72, \"sex\": \"Male\", \"smoker\": 0, \"day\": \"Sat\", \"time\": \"Dinner\", \"size\": 2, \"percent\": 0.20481927710843376}, {\"total_bill\": 22.12, \"tip\": 2.88, \"sex\": \"Female\", \"smoker\": 1, \"day\": \"Sat\", \"time\": \"Dinner\", \"size\": 2, \"percent\": 0.13019891500904157}, {\"total_bill\": 24.01, \"tip\": 2.0, \"sex\": \"Male\", \"smoker\": 1, \"day\": \"Sat\", \"time\": \"Dinner\", \"size\": 4, \"percent\": 0.08329862557267805}, {\"total_bill\": 15.69, \"tip\": 3.0, \"sex\": \"Male\", \"smoker\": 1, \"day\": \"Sat\", \"time\": \"Dinner\", \"size\": 3, \"percent\": 0.19120458891013384}, {\"total_bill\": 11.61, \"tip\": 3.39, \"sex\": \"Male\", \"smoker\": 0, \"day\": \"Sat\", \"time\": \"Dinner\", \"size\": 2, \"percent\": 0.29198966408268734}, {\"total_bill\": 10.77, \"tip\": 1.47, \"sex\": \"Male\", \"smoker\": 0, \"day\": \"Sat\", \"time\": \"Dinner\", \"size\": 2, \"percent\": 0.13649025069637882}, {\"total_bill\": 15.53, \"tip\": 3.0, \"sex\": \"Male\", \"smoker\": 1, \"day\": \"Sat\", \"time\": \"Dinner\", \"size\": 2, \"percent\": 0.19317450096587252}, {\"total_bill\": 10.07, \"tip\": 1.25, \"sex\": \"Male\", \"smoker\": 0, \"day\": \"Sat\", \"time\": \"Dinner\", \"size\": 2, \"percent\": 0.12413108242303872}, {\"total_bill\": 12.6, \"tip\": 1.0, \"sex\": \"Male\", \"smoker\": 1, \"day\": \"Sat\", \"time\": \"Dinner\", \"size\": 2, \"percent\": 0.07936507936507936}, {\"total_bill\": 32.83, \"tip\": 1.17, \"sex\": \"Male\", \"smoker\": 1, \"day\": \"Sat\", \"time\": \"Dinner\", \"size\": 2, \"percent\": 0.03563813585135547}, {\"total_bill\": 35.83, \"tip\": 4.67, \"sex\": \"Female\", \"smoker\": 0, \"day\": \"Sat\", \"time\": \"Dinner\", \"size\": 3, \"percent\": 0.13033770583310075}, {\"total_bill\": 29.03, \"tip\": 5.92, \"sex\": \"Male\", \"smoker\": 0, \"day\": \"Sat\", \"time\": \"Dinner\", \"size\": 3, \"percent\": 0.2039269720978298}, {\"total_bill\": 27.18, \"tip\": 2.0, \"sex\": \"Female\", \"smoker\": 1, \"day\": \"Sat\", \"time\": \"Dinner\", \"size\": 2, \"percent\": 0.07358351729212656}, {\"total_bill\": 22.67, \"tip\": 2.0, \"sex\": \"Male\", \"smoker\": 1, \"day\": \"Sat\", \"time\": \"Dinner\", \"size\": 2, \"percent\": 0.08822232024702249}, {\"total_bill\": 17.82, \"tip\": 1.75, \"sex\": \"Male\", \"smoker\": 0, \"day\": \"Sat\", \"time\": \"Dinner\", \"size\": 2, \"percent\": 0.09820426487093153}, {\"total_bill\": 18.78, \"tip\": 3.0, \"sex\": \"Female\", \"smoker\": 0, \"day\": \"Thur\", \"time\": \"Dinner\", \"size\": 2, \"percent\": 0.1597444089456869}]}};\n",
              "      var embedOpt = {\"mode\": \"vega-lite\"};\n",
              "\n",
              "      function showError(el, error){\n",
              "          el.innerHTML = ('<div class=\"error\" style=\"color:red;\">'\n",
              "                          + '<p>JavaScript Error: ' + error.message + '</p>'\n",
              "                          + \"<p>This usually means there's a typo in your chart specification. \"\n",
              "                          + \"See the javascript console for the full traceback.</p>\"\n",
              "                          + '</div>');\n",
              "          throw error;\n",
              "      }\n",
              "      const el = document.getElementById('altair-viz');\n",
              "      vegaEmbed(\"#altair-viz\", spec, embedOpt)\n",
              "        .catch(error => showError(el, error));\n",
              "\n",
              "  </script>\n",
              "</body>\n",
              "</html>"
            ]
          },
          "metadata": {
            "tags": []
          },
          "execution_count": 85
        }
      ]
    },
    {
      "metadata": {
        "colab_type": "text",
        "id": "FFWkWusYljbt"
      },
      "cell_type": "markdown",
      "source": [
        "## 3. Flights"
      ]
    },
    {
      "metadata": {
        "colab_type": "text",
        "id": "A9uGFj7fljbu"
      },
      "cell_type": "markdown",
      "source": [
        "### Load dataset"
      ]
    },
    {
      "metadata": {
        "colab_type": "code",
        "id": "x9Pd0h0_ljbu",
        "colab": {}
      },
      "cell_type": "code",
      "source": [
        "flights = sns.load_dataset('flights')"
      ],
      "execution_count": 0,
      "outputs": []
    },
    {
      "metadata": {
        "colab_type": "text",
        "id": "TqUSgAUcljbx"
      },
      "cell_type": "markdown",
      "source": [
        "### See the data's shape"
      ]
    },
    {
      "metadata": {
        "colab_type": "code",
        "id": "5WELCrPPljbx",
        "colab": {
          "base_uri": "https://localhost:8080/",
          "height": 35
        },
        "outputId": "93911079-8924-4cbe-8e7c-55a13ae1a335"
      },
      "cell_type": "code",
      "source": [
        "flights.shape"
      ],
      "execution_count": 62,
      "outputs": [
        {
          "output_type": "execute_result",
          "data": {
            "text/plain": [
              "(144, 3)"
            ]
          },
          "metadata": {
            "tags": []
          },
          "execution_count": 62
        }
      ]
    },
    {
      "metadata": {
        "colab_type": "text",
        "id": "47WxnyjCljby"
      },
      "cell_type": "markdown",
      "source": [
        "### See the first 5 rows"
      ]
    },
    {
      "metadata": {
        "colab_type": "code",
        "id": "xCREANeJljby",
        "colab": {
          "base_uri": "https://localhost:8080/",
          "height": 203
        },
        "outputId": "98bfff5e-f06e-4a18-a282-0f6719e3f1ed"
      },
      "cell_type": "code",
      "source": [
        "flights.head()"
      ],
      "execution_count": 63,
      "outputs": [
        {
          "output_type": "execute_result",
          "data": {
            "text/html": [
              "<div>\n",
              "<style scoped>\n",
              "    .dataframe tbody tr th:only-of-type {\n",
              "        vertical-align: middle;\n",
              "    }\n",
              "\n",
              "    .dataframe tbody tr th {\n",
              "        vertical-align: top;\n",
              "    }\n",
              "\n",
              "    .dataframe thead th {\n",
              "        text-align: right;\n",
              "    }\n",
              "</style>\n",
              "<table border=\"1\" class=\"dataframe\">\n",
              "  <thead>\n",
              "    <tr style=\"text-align: right;\">\n",
              "      <th></th>\n",
              "      <th>year</th>\n",
              "      <th>month</th>\n",
              "      <th>passengers</th>\n",
              "    </tr>\n",
              "  </thead>\n",
              "  <tbody>\n",
              "    <tr>\n",
              "      <th>0</th>\n",
              "      <td>1949</td>\n",
              "      <td>January</td>\n",
              "      <td>112</td>\n",
              "    </tr>\n",
              "    <tr>\n",
              "      <th>1</th>\n",
              "      <td>1949</td>\n",
              "      <td>February</td>\n",
              "      <td>118</td>\n",
              "    </tr>\n",
              "    <tr>\n",
              "      <th>2</th>\n",
              "      <td>1949</td>\n",
              "      <td>March</td>\n",
              "      <td>132</td>\n",
              "    </tr>\n",
              "    <tr>\n",
              "      <th>3</th>\n",
              "      <td>1949</td>\n",
              "      <td>April</td>\n",
              "      <td>129</td>\n",
              "    </tr>\n",
              "    <tr>\n",
              "      <th>4</th>\n",
              "      <td>1949</td>\n",
              "      <td>May</td>\n",
              "      <td>121</td>\n",
              "    </tr>\n",
              "  </tbody>\n",
              "</table>\n",
              "</div>"
            ],
            "text/plain": [
              "   year     month  passengers\n",
              "0  1949   January         112\n",
              "1  1949  February         118\n",
              "2  1949     March         132\n",
              "3  1949     April         129\n",
              "4  1949       May         121"
            ]
          },
          "metadata": {
            "tags": []
          },
          "execution_count": 63
        }
      ]
    },
    {
      "metadata": {
        "colab_type": "text",
        "id": "eUc_48wbljb0"
      },
      "cell_type": "markdown",
      "source": [
        "### Describe the data"
      ]
    },
    {
      "metadata": {
        "colab_type": "code",
        "id": "rA0xTMd7ljb0",
        "colab": {
          "base_uri": "https://localhost:8080/",
          "height": 295
        },
        "outputId": "bf7c52cb-0e8b-4876-dcb5-bcaf24b01966"
      },
      "cell_type": "code",
      "source": [
        "flights.describe()"
      ],
      "execution_count": 64,
      "outputs": [
        {
          "output_type": "execute_result",
          "data": {
            "text/html": [
              "<div>\n",
              "<style scoped>\n",
              "    .dataframe tbody tr th:only-of-type {\n",
              "        vertical-align: middle;\n",
              "    }\n",
              "\n",
              "    .dataframe tbody tr th {\n",
              "        vertical-align: top;\n",
              "    }\n",
              "\n",
              "    .dataframe thead th {\n",
              "        text-align: right;\n",
              "    }\n",
              "</style>\n",
              "<table border=\"1\" class=\"dataframe\">\n",
              "  <thead>\n",
              "    <tr style=\"text-align: right;\">\n",
              "      <th></th>\n",
              "      <th>year</th>\n",
              "      <th>passengers</th>\n",
              "    </tr>\n",
              "  </thead>\n",
              "  <tbody>\n",
              "    <tr>\n",
              "      <th>count</th>\n",
              "      <td>144.000000</td>\n",
              "      <td>144.000000</td>\n",
              "    </tr>\n",
              "    <tr>\n",
              "      <th>mean</th>\n",
              "      <td>1954.500000</td>\n",
              "      <td>280.298611</td>\n",
              "    </tr>\n",
              "    <tr>\n",
              "      <th>std</th>\n",
              "      <td>3.464102</td>\n",
              "      <td>119.966317</td>\n",
              "    </tr>\n",
              "    <tr>\n",
              "      <th>min</th>\n",
              "      <td>1949.000000</td>\n",
              "      <td>104.000000</td>\n",
              "    </tr>\n",
              "    <tr>\n",
              "      <th>25%</th>\n",
              "      <td>1951.750000</td>\n",
              "      <td>180.000000</td>\n",
              "    </tr>\n",
              "    <tr>\n",
              "      <th>50%</th>\n",
              "      <td>1954.500000</td>\n",
              "      <td>265.500000</td>\n",
              "    </tr>\n",
              "    <tr>\n",
              "      <th>75%</th>\n",
              "      <td>1957.250000</td>\n",
              "      <td>360.500000</td>\n",
              "    </tr>\n",
              "    <tr>\n",
              "      <th>max</th>\n",
              "      <td>1960.000000</td>\n",
              "      <td>622.000000</td>\n",
              "    </tr>\n",
              "  </tbody>\n",
              "</table>\n",
              "</div>"
            ],
            "text/plain": [
              "              year  passengers\n",
              "count   144.000000  144.000000\n",
              "mean   1954.500000  280.298611\n",
              "std       3.464102  119.966317\n",
              "min    1949.000000  104.000000\n",
              "25%    1951.750000  180.000000\n",
              "50%    1954.500000  265.500000\n",
              "75%    1957.250000  360.500000\n",
              "max    1960.000000  622.000000"
            ]
          },
          "metadata": {
            "tags": []
          },
          "execution_count": 64
        }
      ]
    },
    {
      "metadata": {
        "colab_type": "text",
        "id": "Pwg0lL5Lljb2"
      },
      "cell_type": "markdown",
      "source": [
        "### Plot year & passengers"
      ]
    },
    {
      "metadata": {
        "colab_type": "code",
        "id": "o2reqC4Eljb2",
        "colab": {
          "base_uri": "https://localhost:8080/",
          "height": 369
        },
        "outputId": "28c32efc-d0a6-4530-8a14-f04e5df3f4fc"
      },
      "cell_type": "code",
      "source": [
        "sns.relplot('year','passengers',data=flights);\n",
        "# plt.xticks(rotation=90);"
      ],
      "execution_count": 67,
      "outputs": [
        {
          "output_type": "display_data",
          "data": {
            "image/png": "[encoded data removed]",
            "text/plain": [
              "<Figure size 360x360 with 1 Axes>"
            ]
          },
          "metadata": {
            "tags": []
          }
        }
      ]
    },
    {
      "metadata": {
        "id": "D6LLlei9Jg0Z",
        "colab_type": "code",
        "colab": {
          "base_uri": "https://localhost:8080/",
          "height": 369
        },
        "outputId": "afea73c6-58e0-46fd-ae7b-81e11de88549"
      },
      "cell_type": "code",
      "source": [
        "sns.relplot('year','passengers',data=flights,kind='line',ci=95);"
      ],
      "execution_count": 68,
      "outputs": [
        {
          "output_type": "display_data",
          "data": {
            "image/png": "[encoded data removed]",
            "text/plain": [
              "<Figure size 360x360 with 1 Axes>"
            ]
          },
          "metadata": {
            "tags": []
          }
        }
      ]
    },
    {
      "metadata": {
        "colab_type": "text",
        "id": "g1TKShQ2ljb4"
      },
      "cell_type": "markdown",
      "source": [
        "### Plot month & passengers"
      ]
    },
    {
      "metadata": {
        "id": "KsT3f3LxJox4",
        "colab_type": "code",
        "colab": {
          "base_uri": "https://localhost:8080/",
          "height": 414
        },
        "outputId": "c853465e-a38d-4f98-a003-fc722d759714"
      },
      "cell_type": "code",
      "source": [
        "sns.catplot('month','passengers',data=flights);\n",
        "plt.xticks(rotation=90);"
      ],
      "execution_count": 69,
      "outputs": [
        {
          "output_type": "display_data",
          "data": {
            "image/png": "[encoded data removed]",
            "text/plain": [
              "<Figure size 360x360 with 1 Axes>"
            ]
          },
          "metadata": {
            "tags": []
          }
        }
      ]
    },
    {
      "metadata": {
        "colab_type": "code",
        "id": "Le0Tc5SDwoHk",
        "colab": {
          "base_uri": "https://localhost:8080/",
          "height": 385
        },
        "outputId": "f88e3b37-758f-4150-eea3-744ef4529213"
      },
      "cell_type": "code",
      "source": [
        "sns.catplot('year','passengers',data=flights);\n",
        "plt.xticks(rotation=90);"
      ],
      "execution_count": 70,
      "outputs": [
        {
          "output_type": "display_data",
          "data": {
            "image/png": "[encoded data removed]",
            "text/plain": [
              "<Figure size 360x360 with 1 Axes>"
            ]
          },
          "metadata": {
            "tags": []
          }
        }
      ]
    },
    {
      "metadata": {
        "colab_type": "text",
        "id": "Fh9lCwC-ljb6"
      },
      "cell_type": "markdown",
      "source": [
        "### Create a [pivot table](https://pandas.pydata.org/pandas-docs/stable/generated/pandas.DataFrame.pivot_table.html) of passengers by month and year"
      ]
    },
    {
      "metadata": {
        "colab_type": "code",
        "id": "JJrQbsXxljb6",
        "colab": {
          "base_uri": "https://localhost:8080/",
          "height": 449
        },
        "outputId": "dffab6cd-6fb9-4af0-9a02-620b10b352e8"
      },
      "cell_type": "code",
      "source": [
        "table = flights.pivot_table('passengers','month','year')\n",
        "table"
      ],
      "execution_count": 71,
      "outputs": [
        {
          "output_type": "execute_result",
          "data": {
            "text/html": [
              "<div>\n",
              "<style scoped>\n",
              "    .dataframe tbody tr th:only-of-type {\n",
              "        vertical-align: middle;\n",
              "    }\n",
              "\n",
              "    .dataframe tbody tr th {\n",
              "        vertical-align: top;\n",
              "    }\n",
              "\n",
              "    .dataframe thead th {\n",
              "        text-align: right;\n",
              "    }\n",
              "</style>\n",
              "<table border=\"1\" class=\"dataframe\">\n",
              "  <thead>\n",
              "    <tr style=\"text-align: right;\">\n",
              "      <th>year</th>\n",
              "      <th>1949</th>\n",
              "      <th>1950</th>\n",
              "      <th>1951</th>\n",
              "      <th>1952</th>\n",
              "      <th>1953</th>\n",
              "      <th>1954</th>\n",
              "      <th>1955</th>\n",
              "      <th>1956</th>\n",
              "      <th>1957</th>\n",
              "      <th>1958</th>\n",
              "      <th>1959</th>\n",
              "      <th>1960</th>\n",
              "    </tr>\n",
              "    <tr>\n",
              "      <th>month</th>\n",
              "      <th></th>\n",
              "      <th></th>\n",
              "      <th></th>\n",
              "      <th></th>\n",
              "      <th></th>\n",
              "      <th></th>\n",
              "      <th></th>\n",
              "      <th></th>\n",
              "      <th></th>\n",
              "      <th></th>\n",
              "      <th></th>\n",
              "      <th></th>\n",
              "    </tr>\n",
              "  </thead>\n",
              "  <tbody>\n",
              "    <tr>\n",
              "      <th>January</th>\n",
              "      <td>112</td>\n",
              "      <td>115</td>\n",
              "      <td>145</td>\n",
              "      <td>171</td>\n",
              "      <td>196</td>\n",
              "      <td>204</td>\n",
              "      <td>242</td>\n",
              "      <td>284</td>\n",
              "      <td>315</td>\n",
              "      <td>340</td>\n",
              "      <td>360</td>\n",
              "      <td>417</td>\n",
              "    </tr>\n",
              "    <tr>\n",
              "      <th>February</th>\n",
              "      <td>118</td>\n",
              "      <td>126</td>\n",
              "      <td>150</td>\n",
              "      <td>180</td>\n",
              "      <td>196</td>\n",
              "      <td>188</td>\n",
              "      <td>233</td>\n",
              "      <td>277</td>\n",
              "      <td>301</td>\n",
              "      <td>318</td>\n",
              "      <td>342</td>\n",
              "      <td>391</td>\n",
              "    </tr>\n",
              "    <tr>\n",
              "      <th>March</th>\n",
              "      <td>132</td>\n",
              "      <td>141</td>\n",
              "      <td>178</td>\n",
              "      <td>193</td>\n",
              "      <td>236</td>\n",
              "      <td>235</td>\n",
              "      <td>267</td>\n",
              "      <td>317</td>\n",
              "      <td>356</td>\n",
              "      <td>362</td>\n",
              "      <td>406</td>\n",
              "      <td>419</td>\n",
              "    </tr>\n",
              "    <tr>\n",
              "      <th>April</th>\n",
              "      <td>129</td>\n",
              "      <td>135</td>\n",
              "      <td>163</td>\n",
              "      <td>181</td>\n",
              "      <td>235</td>\n",
              "      <td>227</td>\n",
              "      <td>269</td>\n",
              "      <td>313</td>\n",
              "      <td>348</td>\n",
              "      <td>348</td>\n",
              "      <td>396</td>\n",
              "      <td>461</td>\n",
              "    </tr>\n",
              "    <tr>\n",
              "      <th>May</th>\n",
              "      <td>121</td>\n",
              "      <td>125</td>\n",
              "      <td>172</td>\n",
              "      <td>183</td>\n",
              "      <td>229</td>\n",
              "      <td>234</td>\n",
              "      <td>270</td>\n",
              "      <td>318</td>\n",
              "      <td>355</td>\n",
              "      <td>363</td>\n",
              "      <td>420</td>\n",
              "      <td>472</td>\n",
              "    </tr>\n",
              "    <tr>\n",
              "      <th>June</th>\n",
              "      <td>135</td>\n",
              "      <td>149</td>\n",
              "      <td>178</td>\n",
              "      <td>218</td>\n",
              "      <td>243</td>\n",
              "      <td>264</td>\n",
              "      <td>315</td>\n",
              "      <td>374</td>\n",
              "      <td>422</td>\n",
              "      <td>435</td>\n",
              "      <td>472</td>\n",
              "      <td>535</td>\n",
              "    </tr>\n",
              "    <tr>\n",
              "      <th>July</th>\n",
              "      <td>148</td>\n",
              "      <td>170</td>\n",
              "      <td>199</td>\n",
              "      <td>230</td>\n",
              "      <td>264</td>\n",
              "      <td>302</td>\n",
              "      <td>364</td>\n",
              "      <td>413</td>\n",
              "      <td>465</td>\n",
              "      <td>491</td>\n",
              "      <td>548</td>\n",
              "      <td>622</td>\n",
              "    </tr>\n",
              "    <tr>\n",
              "      <th>August</th>\n",
              "      <td>148</td>\n",
              "      <td>170</td>\n",
              "      <td>199</td>\n",
              "      <td>242</td>\n",
              "      <td>272</td>\n",
              "      <td>293</td>\n",
              "      <td>347</td>\n",
              "      <td>405</td>\n",
              "      <td>467</td>\n",
              "      <td>505</td>\n",
              "      <td>559</td>\n",
              "      <td>606</td>\n",
              "    </tr>\n",
              "    <tr>\n",
              "      <th>September</th>\n",
              "      <td>136</td>\n",
              "      <td>158</td>\n",
              "      <td>184</td>\n",
              "      <td>209</td>\n",
              "      <td>237</td>\n",
              "      <td>259</td>\n",
              "      <td>312</td>\n",
              "      <td>355</td>\n",
              "      <td>404</td>\n",
              "      <td>404</td>\n",
              "      <td>463</td>\n",
              "      <td>508</td>\n",
              "    </tr>\n",
              "    <tr>\n",
              "      <th>October</th>\n",
              "      <td>119</td>\n",
              "      <td>133</td>\n",
              "      <td>162</td>\n",
              "      <td>191</td>\n",
              "      <td>211</td>\n",
              "      <td>229</td>\n",
              "      <td>274</td>\n",
              "      <td>306</td>\n",
              "      <td>347</td>\n",
              "      <td>359</td>\n",
              "      <td>407</td>\n",
              "      <td>461</td>\n",
              "    </tr>\n",
              "    <tr>\n",
              "      <th>November</th>\n",
              "      <td>104</td>\n",
              "      <td>114</td>\n",
              "      <td>146</td>\n",
              "      <td>172</td>\n",
              "      <td>180</td>\n",
              "      <td>203</td>\n",
              "      <td>237</td>\n",
              "      <td>271</td>\n",
              "      <td>305</td>\n",
              "      <td>310</td>\n",
              "      <td>362</td>\n",
              "      <td>390</td>\n",
              "    </tr>\n",
              "    <tr>\n",
              "      <th>December</th>\n",
              "      <td>118</td>\n",
              "      <td>140</td>\n",
              "      <td>166</td>\n",
              "      <td>194</td>\n",
              "      <td>201</td>\n",
              "      <td>229</td>\n",
              "      <td>278</td>\n",
              "      <td>306</td>\n",
              "      <td>336</td>\n",
              "      <td>337</td>\n",
              "      <td>405</td>\n",
              "      <td>432</td>\n",
              "    </tr>\n",
              "  </tbody>\n",
              "</table>\n",
              "</div>"
            ],
            "text/plain": [
              "year       1949  1950  1951  1952  1953  1954  1955  1956  1957  1958  1959  \\\n",
              "month                                                                         \n",
              "January     112   115   145   171   196   204   242   284   315   340   360   \n",
              "February    118   126   150   180   196   188   233   277   301   318   342   \n",
              "March       132   141   178   193   236   235   267   317   356   362   406   \n",
              "April       129   135   163   181   235   227   269   313   348   348   396   \n",
              "May         121   125   172   183   229   234   270   318   355   363   420   \n",
              "June        135   149   178   218   243   264   315   374   422   435   472   \n",
              "July        148   170   199   230   264   302   364   413   465   491   548   \n",
              "August      148   170   199   242   272   293   347   405   467   505   559   \n",
              "September   136   158   184   209   237   259   312   355   404   404   463   \n",
              "October     119   133   162   191   211   229   274   306   347   359   407   \n",
              "November    104   114   146   172   180   203   237   271   305   310   362   \n",
              "December    118   140   166   194   201   229   278   306   336   337   405   \n",
              "\n",
              "year       1960  \n",
              "month            \n",
              "January     417  \n",
              "February    391  \n",
              "March       419  \n",
              "April       461  \n",
              "May         472  \n",
              "June        535  \n",
              "July        622  \n",
              "August      606  \n",
              "September   508  \n",
              "October     461  \n",
              "November    390  \n",
              "December    432  "
            ]
          },
          "metadata": {
            "tags": []
          },
          "execution_count": 71
        }
      ]
    },
    {
      "metadata": {
        "colab_type": "text",
        "id": "MRast1t4ljb7"
      },
      "cell_type": "markdown",
      "source": [
        "### Plot the pivot table as a [heat map](https://seaborn.pydata.org/generated/seaborn.heatmap.html)"
      ]
    },
    {
      "metadata": {
        "colab_type": "code",
        "id": "nLGYX_5Bljb9",
        "colab": {
          "base_uri": "https://localhost:8080/",
          "height": 298
        },
        "outputId": "8fa8d930-5024-4de2-f2c9-6bf47052b991"
      },
      "cell_type": "code",
      "source": [
        "sns.heatmap(table);"
      ],
      "execution_count": 72,
      "outputs": [
        {
          "output_type": "display_data",
          "data": {
            "image/png": "[encoded data removed]",
            "text/plain": [
              "<Figure size 432x288 with 2 Axes>"
            ]
          },
          "metadata": {
            "tags": []
          }
        }
      ]
    },
    {
      "metadata": {
        "id": "IXpRkiiCNY77",
        "colab_type": "code",
        "colab": {
          "base_uri": "https://localhost:8080/",
          "height": 555
        },
        "outputId": "f3d8abfc-fbbf-47b0-bbc1-c70cae8bd459"
      },
      "cell_type": "code",
      "source": [
        "plt.figure(figsize=(16,9))\n",
        "sns.heatmap(table, annot=True, fmt='d');"
      ],
      "execution_count": 73,
      "outputs": [
        {
          "output_type": "display_data",
          "data": {
            "image/png": "[encoded data removed]",
            "text/plain": [
              "<Figure size 1152x648 with 2 Axes>"
            ]
          },
          "metadata": {
            "tags": []
          }
        }
      ]
    },
    {
      "metadata": {
        "colab_type": "text",
        "id": "xmEaapURMyKZ"
      },
      "cell_type": "markdown",
      "source": [
        "# ASSIGNMENT\n",
        "\n",
        "### 1.\n",
        "\n",
        "Replicate the lesson code. I recommend that you [do not copy-paste](https://docs.google.com/document/d/1ubOw9B3Hfip27hF2ZFnW3a3z9xAgrUDRReOEo-FHCVs/edit).\n",
        "\n",
        "### 2.\n",
        "\n",
        "Choose a chart you want to make, from [Visual Vocabulary - Vega Edition](http://ft.com/vocabulary).\n",
        "\n",
        "Find the chart in an example gallery of a Python data visualization library:\n",
        "- [Seaborn](http://seaborn.pydata.org/examples/index.html)\n",
        "- [Altair](https://altair-viz.github.io/gallery/index.html)\n",
        "- [Matplotlib](https://matplotlib.org/gallery.html)\n",
        "- [Pandas](https://pandas.pydata.org/pandas-docs/stable/visualization.html)\n",
        "\n",
        "Reproduce the chart. [Optionally, try the \"Ben Franklin Method.\"](https://docs.google.com/document/d/1ubOw9B3Hfip27hF2ZFnW3a3z9xAgrUDRReOEo-FHCVs/edit) If you want, experiment and make changes.\n",
        "\n",
        "Take notes. Consider sharing your work with your cohort!"
      ]
    }
  ]
}